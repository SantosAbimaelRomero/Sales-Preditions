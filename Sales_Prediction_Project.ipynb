{
  "cells": [
    {
      "cell_type": "markdown",
      "metadata": {
        "id": "view-in-github",
        "colab_type": "text"
      },
      "source": [
        "<a href=\"https://colab.research.google.com/github/SantosAbimaelRomero/Sales-Preditions/blob/main/Sales_Prediction_Project.ipynb\" target=\"_parent\"><img src=\"https://colab.research.google.com/assets/colab-badge.svg\" alt=\"Open In Colab\"/></a>"
      ]
    },
    {
      "cell_type": "markdown",
      "metadata": {
        "id": "b98wfwPtwC8L"
      },
      "source": [
        "# Imports and Data"
      ]
    },
    {
      "cell_type": "code",
      "execution_count": 1,
      "metadata": {
        "id": "LGCn1hU7u7X8"
      },
      "outputs": [],
      "source": [
        "# imports\n",
        "import pandas as pd\n",
        "import numpy as np\n",
        "import matplotlib.pyplot as plt\n",
        "import seaborn as sns\n",
        "from sklearn.linear_model import LinearRegression\n",
        "from sklearn.preprocessing import StandardScaler, OneHotEncoder\n",
        "from sklearn.tree import DecisionTreeRegressor\n",
        "from sklearn.impute import SimpleImputer\n",
        "from sklearn.compose import make_column_transformer, make_column_selector\n",
        "from sklearn.pipeline import make_pipeline\n",
        "from sklearn.model_selection import train_test_split\n",
        "from sklearn.metrics import mean_squared_error, mean_absolute_error, r2_score\n",
        "from sklearn.tree import plot_tree\n",
        "from sklearn.ensemble import RandomForestRegressor\n",
        "from sklearn import set_config\n",
        "set_config(display='diagram')"
      ]
    },
    {
      "cell_type": "code",
      "execution_count": 2,
      "metadata": {
        "colab": {
          "base_uri": "https://localhost:8080/",
          "height": 357
        },
        "id": "JAnHRNjcwGp_",
        "outputId": "f290c024-7618-4613-8d04-cbb106d4118e"
      },
      "outputs": [
        {
          "output_type": "execute_result",
          "data": {
            "text/plain": [
              "  Item_Identifier  Item_Weight Item_Fat_Content  Item_Visibility  \\\n",
              "0           FDA15         9.30          Low Fat         0.016047   \n",
              "1           DRC01         5.92          Regular         0.019278   \n",
              "2           FDN15        17.50          Low Fat         0.016760   \n",
              "3           FDX07        19.20          Regular         0.000000   \n",
              "4           NCD19         8.93          Low Fat         0.000000   \n",
              "\n",
              "               Item_Type  Item_MRP Outlet_Identifier  \\\n",
              "0                  Dairy  249.8092            OUT049   \n",
              "1            Soft Drinks   48.2692            OUT018   \n",
              "2                   Meat  141.6180            OUT049   \n",
              "3  Fruits and Vegetables  182.0950            OUT010   \n",
              "4              Household   53.8614            OUT013   \n",
              "\n",
              "   Outlet_Establishment_Year Outlet_Size Outlet_Location_Type  \\\n",
              "0                       1999      Medium               Tier 1   \n",
              "1                       2009      Medium               Tier 3   \n",
              "2                       1999      Medium               Tier 1   \n",
              "3                       1998         NaN               Tier 3   \n",
              "4                       1987        High               Tier 3   \n",
              "\n",
              "         Outlet_Type  Item_Outlet_Sales  \n",
              "0  Supermarket Type1          3735.1380  \n",
              "1  Supermarket Type2           443.4228  \n",
              "2  Supermarket Type1          2097.2700  \n",
              "3      Grocery Store           732.3800  \n",
              "4  Supermarket Type1           994.7052  "
            ],
            "text/html": [
              "\n",
              "  <div id=\"df-3adf998f-9b78-4a36-b10b-1080b5e8a101\">\n",
              "    <div class=\"colab-df-container\">\n",
              "      <div>\n",
              "<style scoped>\n",
              "    .dataframe tbody tr th:only-of-type {\n",
              "        vertical-align: middle;\n",
              "    }\n",
              "\n",
              "    .dataframe tbody tr th {\n",
              "        vertical-align: top;\n",
              "    }\n",
              "\n",
              "    .dataframe thead th {\n",
              "        text-align: right;\n",
              "    }\n",
              "</style>\n",
              "<table border=\"1\" class=\"dataframe\">\n",
              "  <thead>\n",
              "    <tr style=\"text-align: right;\">\n",
              "      <th></th>\n",
              "      <th>Item_Identifier</th>\n",
              "      <th>Item_Weight</th>\n",
              "      <th>Item_Fat_Content</th>\n",
              "      <th>Item_Visibility</th>\n",
              "      <th>Item_Type</th>\n",
              "      <th>Item_MRP</th>\n",
              "      <th>Outlet_Identifier</th>\n",
              "      <th>Outlet_Establishment_Year</th>\n",
              "      <th>Outlet_Size</th>\n",
              "      <th>Outlet_Location_Type</th>\n",
              "      <th>Outlet_Type</th>\n",
              "      <th>Item_Outlet_Sales</th>\n",
              "    </tr>\n",
              "  </thead>\n",
              "  <tbody>\n",
              "    <tr>\n",
              "      <th>0</th>\n",
              "      <td>FDA15</td>\n",
              "      <td>9.30</td>\n",
              "      <td>Low Fat</td>\n",
              "      <td>0.016047</td>\n",
              "      <td>Dairy</td>\n",
              "      <td>249.8092</td>\n",
              "      <td>OUT049</td>\n",
              "      <td>1999</td>\n",
              "      <td>Medium</td>\n",
              "      <td>Tier 1</td>\n",
              "      <td>Supermarket Type1</td>\n",
              "      <td>3735.1380</td>\n",
              "    </tr>\n",
              "    <tr>\n",
              "      <th>1</th>\n",
              "      <td>DRC01</td>\n",
              "      <td>5.92</td>\n",
              "      <td>Regular</td>\n",
              "      <td>0.019278</td>\n",
              "      <td>Soft Drinks</td>\n",
              "      <td>48.2692</td>\n",
              "      <td>OUT018</td>\n",
              "      <td>2009</td>\n",
              "      <td>Medium</td>\n",
              "      <td>Tier 3</td>\n",
              "      <td>Supermarket Type2</td>\n",
              "      <td>443.4228</td>\n",
              "    </tr>\n",
              "    <tr>\n",
              "      <th>2</th>\n",
              "      <td>FDN15</td>\n",
              "      <td>17.50</td>\n",
              "      <td>Low Fat</td>\n",
              "      <td>0.016760</td>\n",
              "      <td>Meat</td>\n",
              "      <td>141.6180</td>\n",
              "      <td>OUT049</td>\n",
              "      <td>1999</td>\n",
              "      <td>Medium</td>\n",
              "      <td>Tier 1</td>\n",
              "      <td>Supermarket Type1</td>\n",
              "      <td>2097.2700</td>\n",
              "    </tr>\n",
              "    <tr>\n",
              "      <th>3</th>\n",
              "      <td>FDX07</td>\n",
              "      <td>19.20</td>\n",
              "      <td>Regular</td>\n",
              "      <td>0.000000</td>\n",
              "      <td>Fruits and Vegetables</td>\n",
              "      <td>182.0950</td>\n",
              "      <td>OUT010</td>\n",
              "      <td>1998</td>\n",
              "      <td>NaN</td>\n",
              "      <td>Tier 3</td>\n",
              "      <td>Grocery Store</td>\n",
              "      <td>732.3800</td>\n",
              "    </tr>\n",
              "    <tr>\n",
              "      <th>4</th>\n",
              "      <td>NCD19</td>\n",
              "      <td>8.93</td>\n",
              "      <td>Low Fat</td>\n",
              "      <td>0.000000</td>\n",
              "      <td>Household</td>\n",
              "      <td>53.8614</td>\n",
              "      <td>OUT013</td>\n",
              "      <td>1987</td>\n",
              "      <td>High</td>\n",
              "      <td>Tier 3</td>\n",
              "      <td>Supermarket Type1</td>\n",
              "      <td>994.7052</td>\n",
              "    </tr>\n",
              "  </tbody>\n",
              "</table>\n",
              "</div>\n",
              "      <button class=\"colab-df-convert\" onclick=\"convertToInteractive('df-3adf998f-9b78-4a36-b10b-1080b5e8a101')\"\n",
              "              title=\"Convert this dataframe to an interactive table.\"\n",
              "              style=\"display:none;\">\n",
              "        \n",
              "  <svg xmlns=\"http://www.w3.org/2000/svg\" height=\"24px\"viewBox=\"0 0 24 24\"\n",
              "       width=\"24px\">\n",
              "    <path d=\"M0 0h24v24H0V0z\" fill=\"none\"/>\n",
              "    <path d=\"M18.56 5.44l.94 2.06.94-2.06 2.06-.94-2.06-.94-.94-2.06-.94 2.06-2.06.94zm-11 1L8.5 8.5l.94-2.06 2.06-.94-2.06-.94L8.5 2.5l-.94 2.06-2.06.94zm10 10l.94 2.06.94-2.06 2.06-.94-2.06-.94-.94-2.06-.94 2.06-2.06.94z\"/><path d=\"M17.41 7.96l-1.37-1.37c-.4-.4-.92-.59-1.43-.59-.52 0-1.04.2-1.43.59L10.3 9.45l-7.72 7.72c-.78.78-.78 2.05 0 2.83L4 21.41c.39.39.9.59 1.41.59.51 0 1.02-.2 1.41-.59l7.78-7.78 2.81-2.81c.8-.78.8-2.07 0-2.86zM5.41 20L4 18.59l7.72-7.72 1.47 1.35L5.41 20z\"/>\n",
              "  </svg>\n",
              "      </button>\n",
              "      \n",
              "  <style>\n",
              "    .colab-df-container {\n",
              "      display:flex;\n",
              "      flex-wrap:wrap;\n",
              "      gap: 12px;\n",
              "    }\n",
              "\n",
              "    .colab-df-convert {\n",
              "      background-color: #E8F0FE;\n",
              "      border: none;\n",
              "      border-radius: 50%;\n",
              "      cursor: pointer;\n",
              "      display: none;\n",
              "      fill: #1967D2;\n",
              "      height: 32px;\n",
              "      padding: 0 0 0 0;\n",
              "      width: 32px;\n",
              "    }\n",
              "\n",
              "    .colab-df-convert:hover {\n",
              "      background-color: #E2EBFA;\n",
              "      box-shadow: 0px 1px 2px rgba(60, 64, 67, 0.3), 0px 1px 3px 1px rgba(60, 64, 67, 0.15);\n",
              "      fill: #174EA6;\n",
              "    }\n",
              "\n",
              "    [theme=dark] .colab-df-convert {\n",
              "      background-color: #3B4455;\n",
              "      fill: #D2E3FC;\n",
              "    }\n",
              "\n",
              "    [theme=dark] .colab-df-convert:hover {\n",
              "      background-color: #434B5C;\n",
              "      box-shadow: 0px 1px 3px 1px rgba(0, 0, 0, 0.15);\n",
              "      filter: drop-shadow(0px 1px 2px rgba(0, 0, 0, 0.3));\n",
              "      fill: #FFFFFF;\n",
              "    }\n",
              "  </style>\n",
              "\n",
              "      <script>\n",
              "        const buttonEl =\n",
              "          document.querySelector('#df-3adf998f-9b78-4a36-b10b-1080b5e8a101 button.colab-df-convert');\n",
              "        buttonEl.style.display =\n",
              "          google.colab.kernel.accessAllowed ? 'block' : 'none';\n",
              "\n",
              "        async function convertToInteractive(key) {\n",
              "          const element = document.querySelector('#df-3adf998f-9b78-4a36-b10b-1080b5e8a101');\n",
              "          const dataTable =\n",
              "            await google.colab.kernel.invokeFunction('convertToInteractive',\n",
              "                                                     [key], {});\n",
              "          if (!dataTable) return;\n",
              "\n",
              "          const docLinkHtml = 'Like what you see? Visit the ' +\n",
              "            '<a target=\"_blank\" href=https://colab.research.google.com/notebooks/data_table.ipynb>data table notebook</a>'\n",
              "            + ' to learn more about interactive tables.';\n",
              "          element.innerHTML = '';\n",
              "          dataTable['output_type'] = 'display_data';\n",
              "          await google.colab.output.renderOutput(dataTable, element);\n",
              "          const docLink = document.createElement('div');\n",
              "          docLink.innerHTML = docLinkHtml;\n",
              "          element.appendChild(docLink);\n",
              "        }\n",
              "      </script>\n",
              "    </div>\n",
              "  </div>\n",
              "  "
            ]
          },
          "metadata": {},
          "execution_count": 2
        }
      ],
      "source": [
        "df = pd.read_csv('/content/sales_predictions.csv')\n",
        "df.head()"
      ]
    },
    {
      "cell_type": "markdown",
      "metadata": {
        "id": "yfjXZT_IwWAx"
      },
      "source": [
        "# Data Prep"
      ]
    },
    {
      "cell_type": "code",
      "execution_count": 3,
      "metadata": {
        "colab": {
          "base_uri": "https://localhost:8080/"
        },
        "id": "WFkVjFPJwYYv",
        "outputId": "8d54f7a8-8b17-4e49-d3f1-e98fc28e9f9c"
      },
      "outputs": [
        {
          "output_type": "execute_result",
          "data": {
            "text/plain": [
              "0"
            ]
          },
          "metadata": {},
          "execution_count": 3
        }
      ],
      "source": [
        "df.duplicated().sum()"
      ]
    },
    {
      "cell_type": "markdown",
      "metadata": {
        "id": "deaRzR01wgfw"
      },
      "source": [
        "No Duplicates"
      ]
    },
    {
      "cell_type": "code",
      "execution_count": 4,
      "metadata": {
        "colab": {
          "base_uri": "https://localhost:8080/"
        },
        "id": "WID-4ZIfwhmi",
        "outputId": "1aeb5b1d-5057-4385-c080-9a311ecda886"
      },
      "outputs": [
        {
          "output_type": "execute_result",
          "data": {
            "text/plain": [
              "Item_Identifier                 0\n",
              "Item_Weight                  1463\n",
              "Item_Fat_Content                0\n",
              "Item_Visibility                 0\n",
              "Item_Type                       0\n",
              "Item_MRP                        0\n",
              "Outlet_Identifier               0\n",
              "Outlet_Establishment_Year       0\n",
              "Outlet_Size                  2410\n",
              "Outlet_Location_Type            0\n",
              "Outlet_Type                     0\n",
              "Item_Outlet_Sales               0\n",
              "dtype: int64"
            ]
          },
          "metadata": {},
          "execution_count": 4
        }
      ],
      "source": [
        "df.isna().sum()\n",
        "# Item_Weight and Outlet_Size are missing data"
      ]
    },
    {
      "cell_type": "markdown",
      "metadata": {
        "id": "xO7VP9MLwsfV"
      },
      "source": [
        "In my 'Sales Presentation' file, it can be seen how I came to the following code in detail.\n",
        "\n",
        "Essentially I found patterns in what stores where what size and filled in the missing values accordingly for the 'Outlet_Size' column."
      ]
    },
    {
      "cell_type": "code",
      "execution_count": 5,
      "metadata": {
        "id": "Gbg25faIw_aM"
      },
      "outputs": [],
      "source": [
        "for index in range(len(df)):\n",
        "    if df.loc[index, 'Outlet_Location_Type'] == 'Tier 2':\n",
        "        df.loc[index, 'Outlet_Size'] = 'Small'\n",
        "    elif df.loc[index, 'Outlet_Type'] == 'Grocery Store':\n",
        "        df.loc[index, 'Outlet_Size'] = 'Small'\n",
        "    elif df.loc[index, 'Outlet_Type'] == 'Supermarket Type2':\n",
        "        df.loc[index, 'Outlet_Size'] = 'Medium'\n",
        "    elif df.loc[index, 'Outlet_Type'] == 'Supermarket Type3':\n",
        "        df.loc[index, 'Outlet_Size'] = 'Medium'\n"
      ]
    },
    {
      "cell_type": "code",
      "execution_count": 6,
      "metadata": {
        "colab": {
          "base_uri": "https://localhost:8080/"
        },
        "id": "jbrG052CxYT8",
        "outputId": "6aa5b9dc-c4b0-4f72-fa19-b86c82b0515d"
      },
      "outputs": [
        {
          "output_type": "execute_result",
          "data": {
            "text/plain": [
              "Item_Identifier                 0\n",
              "Item_Weight                  1463\n",
              "Item_Fat_Content                0\n",
              "Item_Visibility                 0\n",
              "Item_Type                       0\n",
              "Item_MRP                        0\n",
              "Outlet_Identifier               0\n",
              "Outlet_Establishment_Year       0\n",
              "Outlet_Size                     0\n",
              "Outlet_Location_Type            0\n",
              "Outlet_Type                     0\n",
              "Item_Outlet_Sales               0\n",
              "dtype: int64"
            ]
          },
          "metadata": {},
          "execution_count": 6
        }
      ],
      "source": [
        "df.isna().sum()\n",
        "# Item_Weight is missing data"
      ]
    },
    {
      "cell_type": "markdown",
      "metadata": {
        "id": "k57jw1nax_Hk"
      },
      "source": [
        "I will fill the missing values in Item_Weight using SimpleImputer"
      ]
    },
    {
      "cell_type": "markdown",
      "metadata": {
        "id": "TczySgDE-M2X"
      },
      "source": [
        "## Removing Columns"
      ]
    },
    {
      "cell_type": "code",
      "execution_count": 7,
      "metadata": {
        "id": "F-fXoug--Rkv"
      },
      "outputs": [],
      "source": [
        "df1 = df.drop(columns=['Item_Identifier', 'Outlet_Identifier', 'Outlet_Establishment_Year'])"
      ]
    },
    {
      "cell_type": "markdown",
      "metadata": {
        "id": "d6akdcF3-mW6"
      },
      "source": [
        "I decided to remove the above two columns as it would only clutter the data and will not provide a significant statistic for predicting total outlet sales."
      ]
    },
    {
      "cell_type": "markdown",
      "metadata": {
        "id": "5lHRTMnE-UPh"
      },
      "source": [
        "## Ordinal Encoding"
      ]
    },
    {
      "cell_type": "code",
      "execution_count": 8,
      "metadata": {
        "colab": {
          "base_uri": "https://localhost:8080/",
          "height": 337
        },
        "id": "hC9FN0zr-bbr",
        "outputId": "a9054b2e-8af8-449a-853c-aa8b7e6189e3"
      },
      "outputs": [
        {
          "output_type": "execute_result",
          "data": {
            "text/plain": [
              "   Item_Weight Item_Fat_Content  Item_Visibility              Item_Type  \\\n",
              "0         9.30          Low Fat         0.016047                  Dairy   \n",
              "1         5.92          Regular         0.019278            Soft Drinks   \n",
              "2        17.50          Low Fat         0.016760                   Meat   \n",
              "3        19.20          Regular         0.000000  Fruits and Vegetables   \n",
              "4         8.93          Low Fat         0.000000              Household   \n",
              "\n",
              "   Item_MRP Outlet_Size Outlet_Location_Type        Outlet_Type  \\\n",
              "0  249.8092      Medium               Tier 1  Supermarket Type1   \n",
              "1   48.2692      Medium               Tier 3  Supermarket Type2   \n",
              "2  141.6180      Medium               Tier 1  Supermarket Type1   \n",
              "3  182.0950       Small               Tier 3      Grocery Store   \n",
              "4   53.8614        High               Tier 3  Supermarket Type1   \n",
              "\n",
              "   Item_Outlet_Sales  \n",
              "0          3735.1380  \n",
              "1           443.4228  \n",
              "2          2097.2700  \n",
              "3           732.3800  \n",
              "4           994.7052  "
            ],
            "text/html": [
              "\n",
              "  <div id=\"df-a82893d5-081d-453c-b8d3-303a091cecc3\">\n",
              "    <div class=\"colab-df-container\">\n",
              "      <div>\n",
              "<style scoped>\n",
              "    .dataframe tbody tr th:only-of-type {\n",
              "        vertical-align: middle;\n",
              "    }\n",
              "\n",
              "    .dataframe tbody tr th {\n",
              "        vertical-align: top;\n",
              "    }\n",
              "\n",
              "    .dataframe thead th {\n",
              "        text-align: right;\n",
              "    }\n",
              "</style>\n",
              "<table border=\"1\" class=\"dataframe\">\n",
              "  <thead>\n",
              "    <tr style=\"text-align: right;\">\n",
              "      <th></th>\n",
              "      <th>Item_Weight</th>\n",
              "      <th>Item_Fat_Content</th>\n",
              "      <th>Item_Visibility</th>\n",
              "      <th>Item_Type</th>\n",
              "      <th>Item_MRP</th>\n",
              "      <th>Outlet_Size</th>\n",
              "      <th>Outlet_Location_Type</th>\n",
              "      <th>Outlet_Type</th>\n",
              "      <th>Item_Outlet_Sales</th>\n",
              "    </tr>\n",
              "  </thead>\n",
              "  <tbody>\n",
              "    <tr>\n",
              "      <th>0</th>\n",
              "      <td>9.30</td>\n",
              "      <td>Low Fat</td>\n",
              "      <td>0.016047</td>\n",
              "      <td>Dairy</td>\n",
              "      <td>249.8092</td>\n",
              "      <td>Medium</td>\n",
              "      <td>Tier 1</td>\n",
              "      <td>Supermarket Type1</td>\n",
              "      <td>3735.1380</td>\n",
              "    </tr>\n",
              "    <tr>\n",
              "      <th>1</th>\n",
              "      <td>5.92</td>\n",
              "      <td>Regular</td>\n",
              "      <td>0.019278</td>\n",
              "      <td>Soft Drinks</td>\n",
              "      <td>48.2692</td>\n",
              "      <td>Medium</td>\n",
              "      <td>Tier 3</td>\n",
              "      <td>Supermarket Type2</td>\n",
              "      <td>443.4228</td>\n",
              "    </tr>\n",
              "    <tr>\n",
              "      <th>2</th>\n",
              "      <td>17.50</td>\n",
              "      <td>Low Fat</td>\n",
              "      <td>0.016760</td>\n",
              "      <td>Meat</td>\n",
              "      <td>141.6180</td>\n",
              "      <td>Medium</td>\n",
              "      <td>Tier 1</td>\n",
              "      <td>Supermarket Type1</td>\n",
              "      <td>2097.2700</td>\n",
              "    </tr>\n",
              "    <tr>\n",
              "      <th>3</th>\n",
              "      <td>19.20</td>\n",
              "      <td>Regular</td>\n",
              "      <td>0.000000</td>\n",
              "      <td>Fruits and Vegetables</td>\n",
              "      <td>182.0950</td>\n",
              "      <td>Small</td>\n",
              "      <td>Tier 3</td>\n",
              "      <td>Grocery Store</td>\n",
              "      <td>732.3800</td>\n",
              "    </tr>\n",
              "    <tr>\n",
              "      <th>4</th>\n",
              "      <td>8.93</td>\n",
              "      <td>Low Fat</td>\n",
              "      <td>0.000000</td>\n",
              "      <td>Household</td>\n",
              "      <td>53.8614</td>\n",
              "      <td>High</td>\n",
              "      <td>Tier 3</td>\n",
              "      <td>Supermarket Type1</td>\n",
              "      <td>994.7052</td>\n",
              "    </tr>\n",
              "  </tbody>\n",
              "</table>\n",
              "</div>\n",
              "      <button class=\"colab-df-convert\" onclick=\"convertToInteractive('df-a82893d5-081d-453c-b8d3-303a091cecc3')\"\n",
              "              title=\"Convert this dataframe to an interactive table.\"\n",
              "              style=\"display:none;\">\n",
              "        \n",
              "  <svg xmlns=\"http://www.w3.org/2000/svg\" height=\"24px\"viewBox=\"0 0 24 24\"\n",
              "       width=\"24px\">\n",
              "    <path d=\"M0 0h24v24H0V0z\" fill=\"none\"/>\n",
              "    <path d=\"M18.56 5.44l.94 2.06.94-2.06 2.06-.94-2.06-.94-.94-2.06-.94 2.06-2.06.94zm-11 1L8.5 8.5l.94-2.06 2.06-.94-2.06-.94L8.5 2.5l-.94 2.06-2.06.94zm10 10l.94 2.06.94-2.06 2.06-.94-2.06-.94-.94-2.06-.94 2.06-2.06.94z\"/><path d=\"M17.41 7.96l-1.37-1.37c-.4-.4-.92-.59-1.43-.59-.52 0-1.04.2-1.43.59L10.3 9.45l-7.72 7.72c-.78.78-.78 2.05 0 2.83L4 21.41c.39.39.9.59 1.41.59.51 0 1.02-.2 1.41-.59l7.78-7.78 2.81-2.81c.8-.78.8-2.07 0-2.86zM5.41 20L4 18.59l7.72-7.72 1.47 1.35L5.41 20z\"/>\n",
              "  </svg>\n",
              "      </button>\n",
              "      \n",
              "  <style>\n",
              "    .colab-df-container {\n",
              "      display:flex;\n",
              "      flex-wrap:wrap;\n",
              "      gap: 12px;\n",
              "    }\n",
              "\n",
              "    .colab-df-convert {\n",
              "      background-color: #E8F0FE;\n",
              "      border: none;\n",
              "      border-radius: 50%;\n",
              "      cursor: pointer;\n",
              "      display: none;\n",
              "      fill: #1967D2;\n",
              "      height: 32px;\n",
              "      padding: 0 0 0 0;\n",
              "      width: 32px;\n",
              "    }\n",
              "\n",
              "    .colab-df-convert:hover {\n",
              "      background-color: #E2EBFA;\n",
              "      box-shadow: 0px 1px 2px rgba(60, 64, 67, 0.3), 0px 1px 3px 1px rgba(60, 64, 67, 0.15);\n",
              "      fill: #174EA6;\n",
              "    }\n",
              "\n",
              "    [theme=dark] .colab-df-convert {\n",
              "      background-color: #3B4455;\n",
              "      fill: #D2E3FC;\n",
              "    }\n",
              "\n",
              "    [theme=dark] .colab-df-convert:hover {\n",
              "      background-color: #434B5C;\n",
              "      box-shadow: 0px 1px 3px 1px rgba(0, 0, 0, 0.15);\n",
              "      filter: drop-shadow(0px 1px 2px rgba(0, 0, 0, 0.3));\n",
              "      fill: #FFFFFF;\n",
              "    }\n",
              "  </style>\n",
              "\n",
              "      <script>\n",
              "        const buttonEl =\n",
              "          document.querySelector('#df-a82893d5-081d-453c-b8d3-303a091cecc3 button.colab-df-convert');\n",
              "        buttonEl.style.display =\n",
              "          google.colab.kernel.accessAllowed ? 'block' : 'none';\n",
              "\n",
              "        async function convertToInteractive(key) {\n",
              "          const element = document.querySelector('#df-a82893d5-081d-453c-b8d3-303a091cecc3');\n",
              "          const dataTable =\n",
              "            await google.colab.kernel.invokeFunction('convertToInteractive',\n",
              "                                                     [key], {});\n",
              "          if (!dataTable) return;\n",
              "\n",
              "          const docLinkHtml = 'Like what you see? Visit the ' +\n",
              "            '<a target=\"_blank\" href=https://colab.research.google.com/notebooks/data_table.ipynb>data table notebook</a>'\n",
              "            + ' to learn more about interactive tables.';\n",
              "          element.innerHTML = '';\n",
              "          dataTable['output_type'] = 'display_data';\n",
              "          await google.colab.output.renderOutput(dataTable, element);\n",
              "          const docLink = document.createElement('div');\n",
              "          docLink.innerHTML = docLinkHtml;\n",
              "          element.appendChild(docLink);\n",
              "        }\n",
              "      </script>\n",
              "    </div>\n",
              "  </div>\n",
              "  "
            ]
          },
          "metadata": {},
          "execution_count": 8
        }
      ],
      "source": [
        "df1.head()"
      ]
    },
    {
      "cell_type": "markdown",
      "metadata": {
        "id": "4Zue5eMA-Xg7"
      },
      "source": [
        "Outlet_Size can be ordinally encoded."
      ]
    },
    {
      "cell_type": "code",
      "execution_count": 9,
      "metadata": {
        "colab": {
          "base_uri": "https://localhost:8080/"
        },
        "id": "cP-eOiy4_h8l",
        "outputId": "c681922a-9a74-4455-d32e-c77620f94f0c"
      },
      "outputs": [
        {
          "output_type": "execute_result",
          "data": {
            "text/plain": [
              "Small     4798\n",
              "Medium    2793\n",
              "High       932\n",
              "Name: Outlet_Size, dtype: int64"
            ]
          },
          "metadata": {},
          "execution_count": 9
        }
      ],
      "source": [
        "df1['Outlet_Size'].value_counts()"
      ]
    },
    {
      "cell_type": "code",
      "execution_count": 10,
      "metadata": {
        "colab": {
          "base_uri": "https://localhost:8080/"
        },
        "id": "VnBpJOLD-wZb",
        "outputId": "8012286c-dffb-4194-b9e1-f7ffbb034e70"
      },
      "outputs": [
        {
          "output_type": "execute_result",
          "data": {
            "text/plain": [
              "0    4798\n",
              "1    2793\n",
              "2     932\n",
              "Name: Outlet_Size, dtype: int64"
            ]
          },
          "metadata": {},
          "execution_count": 10
        }
      ],
      "source": [
        "df1['Outlet_Size'].replace({'Small':0, 'Medium':1, 'High':2}, inplace=True)\n",
        "df1['Outlet_Size'].value_counts()"
      ]
    },
    {
      "cell_type": "markdown",
      "metadata": {
        "id": "8nsH8U5pFabl"
      },
      "source": [
        "I considerd other columns, like \"Outlet_Type\", to also ordinally encode but have chosen against this as the categories inside this column overlap with other features. For example, a Tier 1 in \"Outlet_Type\" can be either small or medium but a Tier 2 can also be medium and high, while Tier 3 is all three, small, medium, and high, so I can't clearly identify a proper tier of which should come first and which last. "
      ]
    },
    {
      "cell_type": "markdown",
      "metadata": {
        "id": "8LKtDGD224Ke"
      },
      "source": [
        "# Preprocessing"
      ]
    },
    {
      "cell_type": "markdown",
      "metadata": {
        "id": "yFIqO0Xf1pq7"
      },
      "source": [
        "## Train/Test Split"
      ]
    },
    {
      "cell_type": "code",
      "execution_count": 11,
      "metadata": {
        "id": "QHuO2s3y1tZl"
      },
      "outputs": [],
      "source": [
        "# Feature Matrix\n",
        "X = df1.drop(columns='Item_Outlet_Sales')\n",
        "# Target Vector\n",
        "y = df1['Item_Outlet_Sales']"
      ]
    },
    {
      "cell_type": "code",
      "execution_count": 12,
      "metadata": {
        "id": "MduCFSjm1-vb"
      },
      "outputs": [],
      "source": [
        "# Train/Test Split\n",
        "X_train, X_test, y_train, y_test = train_test_split(X, y, random_state=42)"
      ]
    },
    {
      "cell_type": "markdown",
      "metadata": {
        "id": "dhmned6P2WGJ"
      },
      "source": [
        "## Selectors"
      ]
    },
    {
      "cell_type": "code",
      "execution_count": 13,
      "metadata": {
        "id": "7debkGdM2ZmM"
      },
      "outputs": [],
      "source": [
        "# Object Column Filter\n",
        "obj_filter = make_column_selector(dtype_include='object')\n",
        "# Int and Float Column Filter\n",
        "num_filter = make_column_selector(dtype_include='number')"
      ]
    },
    {
      "cell_type": "markdown",
      "metadata": {
        "id": "uPk1vNRO21P8"
      },
      "source": [
        "## Transformers"
      ]
    },
    {
      "cell_type": "code",
      "execution_count": 14,
      "metadata": {
        "id": "ZZJHQHUO7z6c"
      },
      "outputs": [],
      "source": [
        "# Scaler\n",
        "scaler = StandardScaler()\n",
        "# One Hot Encoder\n",
        "ohe = OneHotEncoder(handle_unknown='ignore', sparse=False)"
      ]
    },
    {
      "cell_type": "code",
      "execution_count": 15,
      "metadata": {
        "id": "rJaggTWI3B5X"
      },
      "outputs": [],
      "source": [
        "# Imputers\n",
        "imp_mean = SimpleImputer(strategy='median')"
      ]
    },
    {
      "cell_type": "markdown",
      "metadata": {
        "id": "mOfzJIOv31xt"
      },
      "source": [
        "Why did I chose median strategy?\n",
        "\n",
        "With the following code we can see that the two following strategies will give roughly the same answer, I chose the median because the value was the smallest, the range between smallest and highest value in this column is ~4.5 to ~21.3, a fairly large range for this type of information. So, using the lowest value will keep this column from having too many large values overall as most items in a grocery store typically don't weigh much at all."
      ]
    },
    {
      "cell_type": "code",
      "execution_count": 16,
      "metadata": {
        "colab": {
          "base_uri": "https://localhost:8080/"
        },
        "id": "zahoA84p476A",
        "outputId": "1af1266e-d2da-4937-d5a7-bc57cc4c41b8"
      },
      "outputs": [
        {
          "output_type": "stream",
          "name": "stdout",
          "text": [
            "12.857645184135976\n",
            "\n"
          ]
        },
        {
          "output_type": "execute_result",
          "data": {
            "text/plain": [
              "12.6"
            ]
          },
          "metadata": {},
          "execution_count": 16
        }
      ],
      "source": [
        "print(df1['Item_Weight'].mean())\n",
        "print('')\n",
        "df1['Item_Weight'].median()"
      ]
    },
    {
      "cell_type": "code",
      "execution_count": 17,
      "metadata": {
        "colab": {
          "base_uri": "https://localhost:8080/"
        },
        "id": "UqfTP3p9618H",
        "outputId": "456fe6a7-6890-46d0-a645-ee794908a0d5"
      },
      "outputs": [
        {
          "output_type": "stream",
          "name": "stdout",
          "text": [
            "4.555\n"
          ]
        },
        {
          "output_type": "execute_result",
          "data": {
            "text/plain": [
              "21.35"
            ]
          },
          "metadata": {},
          "execution_count": 17
        }
      ],
      "source": [
        "print(df1['Item_Weight'].min())\n",
        "df1['Item_Weight'].max()"
      ]
    },
    {
      "cell_type": "markdown",
      "metadata": {
        "id": "gGI9PUyF879k"
      },
      "source": [
        "## Pipelines"
      ]
    },
    {
      "cell_type": "code",
      "execution_count": 18,
      "metadata": {
        "colab": {
          "base_uri": "https://localhost:8080/",
          "height": 126
        },
        "id": "uLzXnYIP9Eo6",
        "outputId": "874805af-93bb-4c7b-f831-a938c2f7642c"
      },
      "outputs": [
        {
          "output_type": "execute_result",
          "data": {
            "text/plain": [
              "Pipeline(steps=[('simpleimputer', SimpleImputer(strategy='median')),\n",
              "                ('standardscaler', StandardScaler())])"
            ],
            "text/html": [
              "<style>#sk-c11368e3-bef4-49c5-bcc1-c1716d2091b6 {color: black;background-color: white;}#sk-c11368e3-bef4-49c5-bcc1-c1716d2091b6 pre{padding: 0;}#sk-c11368e3-bef4-49c5-bcc1-c1716d2091b6 div.sk-toggleable {background-color: white;}#sk-c11368e3-bef4-49c5-bcc1-c1716d2091b6 label.sk-toggleable__label {cursor: pointer;display: block;width: 100%;margin-bottom: 0;padding: 0.3em;box-sizing: border-box;text-align: center;}#sk-c11368e3-bef4-49c5-bcc1-c1716d2091b6 label.sk-toggleable__label-arrow:before {content: \"▸\";float: left;margin-right: 0.25em;color: #696969;}#sk-c11368e3-bef4-49c5-bcc1-c1716d2091b6 label.sk-toggleable__label-arrow:hover:before {color: black;}#sk-c11368e3-bef4-49c5-bcc1-c1716d2091b6 div.sk-estimator:hover label.sk-toggleable__label-arrow:before {color: black;}#sk-c11368e3-bef4-49c5-bcc1-c1716d2091b6 div.sk-toggleable__content {max-height: 0;max-width: 0;overflow: hidden;text-align: left;background-color: #f0f8ff;}#sk-c11368e3-bef4-49c5-bcc1-c1716d2091b6 div.sk-toggleable__content pre {margin: 0.2em;color: black;border-radius: 0.25em;background-color: #f0f8ff;}#sk-c11368e3-bef4-49c5-bcc1-c1716d2091b6 input.sk-toggleable__control:checked~div.sk-toggleable__content {max-height: 200px;max-width: 100%;overflow: auto;}#sk-c11368e3-bef4-49c5-bcc1-c1716d2091b6 input.sk-toggleable__control:checked~label.sk-toggleable__label-arrow:before {content: \"▾\";}#sk-c11368e3-bef4-49c5-bcc1-c1716d2091b6 div.sk-estimator input.sk-toggleable__control:checked~label.sk-toggleable__label {background-color: #d4ebff;}#sk-c11368e3-bef4-49c5-bcc1-c1716d2091b6 div.sk-label input.sk-toggleable__control:checked~label.sk-toggleable__label {background-color: #d4ebff;}#sk-c11368e3-bef4-49c5-bcc1-c1716d2091b6 input.sk-hidden--visually {border: 0;clip: rect(1px 1px 1px 1px);clip: rect(1px, 1px, 1px, 1px);height: 1px;margin: -1px;overflow: hidden;padding: 0;position: absolute;width: 1px;}#sk-c11368e3-bef4-49c5-bcc1-c1716d2091b6 div.sk-estimator {font-family: monospace;background-color: #f0f8ff;border: 1px dotted black;border-radius: 0.25em;box-sizing: border-box;margin-bottom: 0.5em;}#sk-c11368e3-bef4-49c5-bcc1-c1716d2091b6 div.sk-estimator:hover {background-color: #d4ebff;}#sk-c11368e3-bef4-49c5-bcc1-c1716d2091b6 div.sk-parallel-item::after {content: \"\";width: 100%;border-bottom: 1px solid gray;flex-grow: 1;}#sk-c11368e3-bef4-49c5-bcc1-c1716d2091b6 div.sk-label:hover label.sk-toggleable__label {background-color: #d4ebff;}#sk-c11368e3-bef4-49c5-bcc1-c1716d2091b6 div.sk-serial::before {content: \"\";position: absolute;border-left: 1px solid gray;box-sizing: border-box;top: 2em;bottom: 0;left: 50%;}#sk-c11368e3-bef4-49c5-bcc1-c1716d2091b6 div.sk-serial {display: flex;flex-direction: column;align-items: center;background-color: white;padding-right: 0.2em;padding-left: 0.2em;}#sk-c11368e3-bef4-49c5-bcc1-c1716d2091b6 div.sk-item {z-index: 1;}#sk-c11368e3-bef4-49c5-bcc1-c1716d2091b6 div.sk-parallel {display: flex;align-items: stretch;justify-content: center;background-color: white;}#sk-c11368e3-bef4-49c5-bcc1-c1716d2091b6 div.sk-parallel::before {content: \"\";position: absolute;border-left: 1px solid gray;box-sizing: border-box;top: 2em;bottom: 0;left: 50%;}#sk-c11368e3-bef4-49c5-bcc1-c1716d2091b6 div.sk-parallel-item {display: flex;flex-direction: column;position: relative;background-color: white;}#sk-c11368e3-bef4-49c5-bcc1-c1716d2091b6 div.sk-parallel-item:first-child::after {align-self: flex-end;width: 50%;}#sk-c11368e3-bef4-49c5-bcc1-c1716d2091b6 div.sk-parallel-item:last-child::after {align-self: flex-start;width: 50%;}#sk-c11368e3-bef4-49c5-bcc1-c1716d2091b6 div.sk-parallel-item:only-child::after {width: 0;}#sk-c11368e3-bef4-49c5-bcc1-c1716d2091b6 div.sk-dashed-wrapped {border: 1px dashed gray;margin: 0 0.4em 0.5em 0.4em;box-sizing: border-box;padding-bottom: 0.4em;background-color: white;position: relative;}#sk-c11368e3-bef4-49c5-bcc1-c1716d2091b6 div.sk-label label {font-family: monospace;font-weight: bold;background-color: white;display: inline-block;line-height: 1.2em;}#sk-c11368e3-bef4-49c5-bcc1-c1716d2091b6 div.sk-label-container {position: relative;z-index: 2;text-align: center;}#sk-c11368e3-bef4-49c5-bcc1-c1716d2091b6 div.sk-container {/* jupyter's `normalize.less` sets `[hidden] { display: none; }` but bootstrap.min.css set `[hidden] { display: none !important; }` so we also need the `!important` here to be able to override the default hidden behavior on the sphinx rendered scikit-learn.org. See: https://github.com/scikit-learn/scikit-learn/issues/21755 */display: inline-block !important;position: relative;}#sk-c11368e3-bef4-49c5-bcc1-c1716d2091b6 div.sk-text-repr-fallback {display: none;}</style><div id=\"sk-c11368e3-bef4-49c5-bcc1-c1716d2091b6\" class=\"sk-top-container\"><div class=\"sk-text-repr-fallback\"><pre>Pipeline(steps=[(&#x27;simpleimputer&#x27;, SimpleImputer(strategy=&#x27;median&#x27;)),\n",
              "                (&#x27;standardscaler&#x27;, StandardScaler())])</pre><b>Please rerun this cell to show the HTML repr or trust the notebook.</b></div><div class=\"sk-container\" hidden><div class=\"sk-item sk-dashed-wrapped\"><div class=\"sk-label-container\"><div class=\"sk-label sk-toggleable\"><input class=\"sk-toggleable__control sk-hidden--visually\" id=\"0b4acce9-0840-4427-8747-aaf346256d3a\" type=\"checkbox\" ><label for=\"0b4acce9-0840-4427-8747-aaf346256d3a\" class=\"sk-toggleable__label sk-toggleable__label-arrow\">Pipeline</label><div class=\"sk-toggleable__content\"><pre>Pipeline(steps=[(&#x27;simpleimputer&#x27;, SimpleImputer(strategy=&#x27;median&#x27;)),\n",
              "                (&#x27;standardscaler&#x27;, StandardScaler())])</pre></div></div></div><div class=\"sk-serial\"><div class=\"sk-item\"><div class=\"sk-estimator sk-toggleable\"><input class=\"sk-toggleable__control sk-hidden--visually\" id=\"7cc0ddae-6d47-4903-b3b4-78cff724e896\" type=\"checkbox\" ><label for=\"7cc0ddae-6d47-4903-b3b4-78cff724e896\" class=\"sk-toggleable__label sk-toggleable__label-arrow\">SimpleImputer</label><div class=\"sk-toggleable__content\"><pre>SimpleImputer(strategy=&#x27;median&#x27;)</pre></div></div></div><div class=\"sk-item\"><div class=\"sk-estimator sk-toggleable\"><input class=\"sk-toggleable__control sk-hidden--visually\" id=\"2a766a3f-d483-4fe2-a9ec-395d8d234aa8\" type=\"checkbox\" ><label for=\"2a766a3f-d483-4fe2-a9ec-395d8d234aa8\" class=\"sk-toggleable__label sk-toggleable__label-arrow\">StandardScaler</label><div class=\"sk-toggleable__content\"><pre>StandardScaler()</pre></div></div></div></div></div></div></div>"
            ]
          },
          "metadata": {},
          "execution_count": 18
        }
      ],
      "source": [
        "# Numeric pipeline\n",
        "num_pipe = make_pipeline(imp_mean, scaler)\n",
        "num_pipe"
      ]
    },
    {
      "cell_type": "markdown",
      "metadata": {
        "id": "eECtboop9fcm"
      },
      "source": [
        "## ColumnTransformers"
      ]
    },
    {
      "cell_type": "code",
      "execution_count": 19,
      "metadata": {
        "colab": {
          "base_uri": "https://localhost:8080/",
          "height": 152
        },
        "id": "9fXgymW29kLU",
        "outputId": "7ccd9b69-2f9b-4e95-f476-25a997c3132f"
      },
      "outputs": [
        {
          "output_type": "execute_result",
          "data": {
            "text/plain": [
              "ColumnTransformer(remainder='passthrough',\n",
              "                  transformers=[('pipeline',\n",
              "                                 Pipeline(steps=[('simpleimputer',\n",
              "                                                  SimpleImputer(strategy='median')),\n",
              "                                                 ('standardscaler',\n",
              "                                                  StandardScaler())]),\n",
              "                                 <sklearn.compose._column_transformer.make_column_selector object at 0x7efe75301050>),\n",
              "                                ('onehotencoder',\n",
              "                                 OneHotEncoder(handle_unknown='ignore',\n",
              "                                               sparse=False),\n",
              "                                 <sklearn.compose._column_transformer.make_column_selector object at 0x7efe75301090>)])"
            ],
            "text/html": [
              "<style>#sk-ed5d77cd-3ae9-4d29-bb55-dc5cac482c05 {color: black;background-color: white;}#sk-ed5d77cd-3ae9-4d29-bb55-dc5cac482c05 pre{padding: 0;}#sk-ed5d77cd-3ae9-4d29-bb55-dc5cac482c05 div.sk-toggleable {background-color: white;}#sk-ed5d77cd-3ae9-4d29-bb55-dc5cac482c05 label.sk-toggleable__label {cursor: pointer;display: block;width: 100%;margin-bottom: 0;padding: 0.3em;box-sizing: border-box;text-align: center;}#sk-ed5d77cd-3ae9-4d29-bb55-dc5cac482c05 label.sk-toggleable__label-arrow:before {content: \"▸\";float: left;margin-right: 0.25em;color: #696969;}#sk-ed5d77cd-3ae9-4d29-bb55-dc5cac482c05 label.sk-toggleable__label-arrow:hover:before {color: black;}#sk-ed5d77cd-3ae9-4d29-bb55-dc5cac482c05 div.sk-estimator:hover label.sk-toggleable__label-arrow:before {color: black;}#sk-ed5d77cd-3ae9-4d29-bb55-dc5cac482c05 div.sk-toggleable__content {max-height: 0;max-width: 0;overflow: hidden;text-align: left;background-color: #f0f8ff;}#sk-ed5d77cd-3ae9-4d29-bb55-dc5cac482c05 div.sk-toggleable__content pre {margin: 0.2em;color: black;border-radius: 0.25em;background-color: #f0f8ff;}#sk-ed5d77cd-3ae9-4d29-bb55-dc5cac482c05 input.sk-toggleable__control:checked~div.sk-toggleable__content {max-height: 200px;max-width: 100%;overflow: auto;}#sk-ed5d77cd-3ae9-4d29-bb55-dc5cac482c05 input.sk-toggleable__control:checked~label.sk-toggleable__label-arrow:before {content: \"▾\";}#sk-ed5d77cd-3ae9-4d29-bb55-dc5cac482c05 div.sk-estimator input.sk-toggleable__control:checked~label.sk-toggleable__label {background-color: #d4ebff;}#sk-ed5d77cd-3ae9-4d29-bb55-dc5cac482c05 div.sk-label input.sk-toggleable__control:checked~label.sk-toggleable__label {background-color: #d4ebff;}#sk-ed5d77cd-3ae9-4d29-bb55-dc5cac482c05 input.sk-hidden--visually {border: 0;clip: rect(1px 1px 1px 1px);clip: rect(1px, 1px, 1px, 1px);height: 1px;margin: -1px;overflow: hidden;padding: 0;position: absolute;width: 1px;}#sk-ed5d77cd-3ae9-4d29-bb55-dc5cac482c05 div.sk-estimator {font-family: monospace;background-color: #f0f8ff;border: 1px dotted black;border-radius: 0.25em;box-sizing: border-box;margin-bottom: 0.5em;}#sk-ed5d77cd-3ae9-4d29-bb55-dc5cac482c05 div.sk-estimator:hover {background-color: #d4ebff;}#sk-ed5d77cd-3ae9-4d29-bb55-dc5cac482c05 div.sk-parallel-item::after {content: \"\";width: 100%;border-bottom: 1px solid gray;flex-grow: 1;}#sk-ed5d77cd-3ae9-4d29-bb55-dc5cac482c05 div.sk-label:hover label.sk-toggleable__label {background-color: #d4ebff;}#sk-ed5d77cd-3ae9-4d29-bb55-dc5cac482c05 div.sk-serial::before {content: \"\";position: absolute;border-left: 1px solid gray;box-sizing: border-box;top: 2em;bottom: 0;left: 50%;}#sk-ed5d77cd-3ae9-4d29-bb55-dc5cac482c05 div.sk-serial {display: flex;flex-direction: column;align-items: center;background-color: white;padding-right: 0.2em;padding-left: 0.2em;}#sk-ed5d77cd-3ae9-4d29-bb55-dc5cac482c05 div.sk-item {z-index: 1;}#sk-ed5d77cd-3ae9-4d29-bb55-dc5cac482c05 div.sk-parallel {display: flex;align-items: stretch;justify-content: center;background-color: white;}#sk-ed5d77cd-3ae9-4d29-bb55-dc5cac482c05 div.sk-parallel::before {content: \"\";position: absolute;border-left: 1px solid gray;box-sizing: border-box;top: 2em;bottom: 0;left: 50%;}#sk-ed5d77cd-3ae9-4d29-bb55-dc5cac482c05 div.sk-parallel-item {display: flex;flex-direction: column;position: relative;background-color: white;}#sk-ed5d77cd-3ae9-4d29-bb55-dc5cac482c05 div.sk-parallel-item:first-child::after {align-self: flex-end;width: 50%;}#sk-ed5d77cd-3ae9-4d29-bb55-dc5cac482c05 div.sk-parallel-item:last-child::after {align-self: flex-start;width: 50%;}#sk-ed5d77cd-3ae9-4d29-bb55-dc5cac482c05 div.sk-parallel-item:only-child::after {width: 0;}#sk-ed5d77cd-3ae9-4d29-bb55-dc5cac482c05 div.sk-dashed-wrapped {border: 1px dashed gray;margin: 0 0.4em 0.5em 0.4em;box-sizing: border-box;padding-bottom: 0.4em;background-color: white;position: relative;}#sk-ed5d77cd-3ae9-4d29-bb55-dc5cac482c05 div.sk-label label {font-family: monospace;font-weight: bold;background-color: white;display: inline-block;line-height: 1.2em;}#sk-ed5d77cd-3ae9-4d29-bb55-dc5cac482c05 div.sk-label-container {position: relative;z-index: 2;text-align: center;}#sk-ed5d77cd-3ae9-4d29-bb55-dc5cac482c05 div.sk-container {/* jupyter's `normalize.less` sets `[hidden] { display: none; }` but bootstrap.min.css set `[hidden] { display: none !important; }` so we also need the `!important` here to be able to override the default hidden behavior on the sphinx rendered scikit-learn.org. See: https://github.com/scikit-learn/scikit-learn/issues/21755 */display: inline-block !important;position: relative;}#sk-ed5d77cd-3ae9-4d29-bb55-dc5cac482c05 div.sk-text-repr-fallback {display: none;}</style><div id=\"sk-ed5d77cd-3ae9-4d29-bb55-dc5cac482c05\" class=\"sk-top-container\"><div class=\"sk-text-repr-fallback\"><pre>ColumnTransformer(remainder=&#x27;passthrough&#x27;,\n",
              "                  transformers=[(&#x27;pipeline&#x27;,\n",
              "                                 Pipeline(steps=[(&#x27;simpleimputer&#x27;,\n",
              "                                                  SimpleImputer(strategy=&#x27;median&#x27;)),\n",
              "                                                 (&#x27;standardscaler&#x27;,\n",
              "                                                  StandardScaler())]),\n",
              "                                 &lt;sklearn.compose._column_transformer.make_column_selector object at 0x7efe75301050&gt;),\n",
              "                                (&#x27;onehotencoder&#x27;,\n",
              "                                 OneHotEncoder(handle_unknown=&#x27;ignore&#x27;,\n",
              "                                               sparse=False),\n",
              "                                 &lt;sklearn.compose._column_transformer.make_column_selector object at 0x7efe75301090&gt;)])</pre><b>Please rerun this cell to show the HTML repr or trust the notebook.</b></div><div class=\"sk-container\" hidden><div class=\"sk-item sk-dashed-wrapped\"><div class=\"sk-label-container\"><div class=\"sk-label sk-toggleable\"><input class=\"sk-toggleable__control sk-hidden--visually\" id=\"acfdbb25-4bd6-49ca-b774-586c6e42405b\" type=\"checkbox\" ><label for=\"acfdbb25-4bd6-49ca-b774-586c6e42405b\" class=\"sk-toggleable__label sk-toggleable__label-arrow\">ColumnTransformer</label><div class=\"sk-toggleable__content\"><pre>ColumnTransformer(remainder=&#x27;passthrough&#x27;,\n",
              "                  transformers=[(&#x27;pipeline&#x27;,\n",
              "                                 Pipeline(steps=[(&#x27;simpleimputer&#x27;,\n",
              "                                                  SimpleImputer(strategy=&#x27;median&#x27;)),\n",
              "                                                 (&#x27;standardscaler&#x27;,\n",
              "                                                  StandardScaler())]),\n",
              "                                 &lt;sklearn.compose._column_transformer.make_column_selector object at 0x7efe75301050&gt;),\n",
              "                                (&#x27;onehotencoder&#x27;,\n",
              "                                 OneHotEncoder(handle_unknown=&#x27;ignore&#x27;,\n",
              "                                               sparse=False),\n",
              "                                 &lt;sklearn.compose._column_transformer.make_column_selector object at 0x7efe75301090&gt;)])</pre></div></div></div><div class=\"sk-parallel\"><div class=\"sk-parallel-item\"><div class=\"sk-item\"><div class=\"sk-label-container\"><div class=\"sk-label sk-toggleable\"><input class=\"sk-toggleable__control sk-hidden--visually\" id=\"1faf1983-db0e-4d2e-bfa8-f242c9c83b34\" type=\"checkbox\" ><label for=\"1faf1983-db0e-4d2e-bfa8-f242c9c83b34\" class=\"sk-toggleable__label sk-toggleable__label-arrow\">pipeline</label><div class=\"sk-toggleable__content\"><pre>&lt;sklearn.compose._column_transformer.make_column_selector object at 0x7efe75301050&gt;</pre></div></div></div><div class=\"sk-serial\"><div class=\"sk-item\"><div class=\"sk-serial\"><div class=\"sk-item\"><div class=\"sk-estimator sk-toggleable\"><input class=\"sk-toggleable__control sk-hidden--visually\" id=\"32249253-ef8b-4c16-994d-ea16f7294b95\" type=\"checkbox\" ><label for=\"32249253-ef8b-4c16-994d-ea16f7294b95\" class=\"sk-toggleable__label sk-toggleable__label-arrow\">SimpleImputer</label><div class=\"sk-toggleable__content\"><pre>SimpleImputer(strategy=&#x27;median&#x27;)</pre></div></div></div><div class=\"sk-item\"><div class=\"sk-estimator sk-toggleable\"><input class=\"sk-toggleable__control sk-hidden--visually\" id=\"72fee49d-ee2e-4c91-988d-b4abddff682c\" type=\"checkbox\" ><label for=\"72fee49d-ee2e-4c91-988d-b4abddff682c\" class=\"sk-toggleable__label sk-toggleable__label-arrow\">StandardScaler</label><div class=\"sk-toggleable__content\"><pre>StandardScaler()</pre></div></div></div></div></div></div></div></div><div class=\"sk-parallel-item\"><div class=\"sk-item\"><div class=\"sk-label-container\"><div class=\"sk-label sk-toggleable\"><input class=\"sk-toggleable__control sk-hidden--visually\" id=\"4c0e1c13-0932-4e1d-9144-9669c269e1d9\" type=\"checkbox\" ><label for=\"4c0e1c13-0932-4e1d-9144-9669c269e1d9\" class=\"sk-toggleable__label sk-toggleable__label-arrow\">onehotencoder</label><div class=\"sk-toggleable__content\"><pre>&lt;sklearn.compose._column_transformer.make_column_selector object at 0x7efe75301090&gt;</pre></div></div></div><div class=\"sk-serial\"><div class=\"sk-item\"><div class=\"sk-estimator sk-toggleable\"><input class=\"sk-toggleable__control sk-hidden--visually\" id=\"7b520064-75da-4eb6-9615-6382e4bd0db8\" type=\"checkbox\" ><label for=\"7b520064-75da-4eb6-9615-6382e4bd0db8\" class=\"sk-toggleable__label sk-toggleable__label-arrow\">OneHotEncoder</label><div class=\"sk-toggleable__content\"><pre>OneHotEncoder(handle_unknown=&#x27;ignore&#x27;, sparse=False)</pre></div></div></div></div></div></div><div class=\"sk-parallel-item\"><div class=\"sk-item\"><div class=\"sk-label-container\"><div class=\"sk-label sk-toggleable\"><input class=\"sk-toggleable__control sk-hidden--visually\" id=\"842fd0b9-4b51-4a0d-928b-e74c71808e60\" type=\"checkbox\" ><label for=\"842fd0b9-4b51-4a0d-928b-e74c71808e60\" class=\"sk-toggleable__label sk-toggleable__label-arrow\">remainder</label><div class=\"sk-toggleable__content\"><pre></pre></div></div></div><div class=\"sk-serial\"><div class=\"sk-item\"><div class=\"sk-estimator sk-toggleable\"><input class=\"sk-toggleable__control sk-hidden--visually\" id=\"428bea16-960a-4631-80dd-3963888b8f34\" type=\"checkbox\" ><label for=\"428bea16-960a-4631-80dd-3963888b8f34\" class=\"sk-toggleable__label sk-toggleable__label-arrow\">passthrough</label><div class=\"sk-toggleable__content\"><pre>passthrough</pre></div></div></div></div></div></div></div></div></div></div>"
            ]
          },
          "metadata": {},
          "execution_count": 19
        }
      ],
      "source": [
        "# Tuples for Column Transformer\n",
        "num_tuple = (num_pipe, num_filter)\n",
        "obj_tuple = (ohe, obj_filter)\n",
        "# ColumnTransformer\n",
        "preprocessor = make_column_transformer(num_tuple, obj_tuple, remainder='passthrough')\n",
        "preprocessor"
      ]
    },
    {
      "cell_type": "markdown",
      "metadata": {
        "id": "YhiTbCSy9iKL"
      },
      "source": [
        "# Transform Data"
      ]
    },
    {
      "cell_type": "code",
      "execution_count": 20,
      "metadata": {
        "colab": {
          "base_uri": "https://localhost:8080/",
          "height": 152
        },
        "id": "w5iFPAf5DwHr",
        "outputId": "821d935b-6a75-4826-db80-a62d2087fc85"
      },
      "outputs": [
        {
          "output_type": "execute_result",
          "data": {
            "text/plain": [
              "ColumnTransformer(remainder='passthrough',\n",
              "                  transformers=[('pipeline',\n",
              "                                 Pipeline(steps=[('simpleimputer',\n",
              "                                                  SimpleImputer(strategy='median')),\n",
              "                                                 ('standardscaler',\n",
              "                                                  StandardScaler())]),\n",
              "                                 <sklearn.compose._column_transformer.make_column_selector object at 0x7efe75301050>),\n",
              "                                ('onehotencoder',\n",
              "                                 OneHotEncoder(handle_unknown='ignore',\n",
              "                                               sparse=False),\n",
              "                                 <sklearn.compose._column_transformer.make_column_selector object at 0x7efe75301090>)])"
            ],
            "text/html": [
              "<style>#sk-3318d3ab-5a46-4773-80f1-6bec97dcf4c8 {color: black;background-color: white;}#sk-3318d3ab-5a46-4773-80f1-6bec97dcf4c8 pre{padding: 0;}#sk-3318d3ab-5a46-4773-80f1-6bec97dcf4c8 div.sk-toggleable {background-color: white;}#sk-3318d3ab-5a46-4773-80f1-6bec97dcf4c8 label.sk-toggleable__label {cursor: pointer;display: block;width: 100%;margin-bottom: 0;padding: 0.3em;box-sizing: border-box;text-align: center;}#sk-3318d3ab-5a46-4773-80f1-6bec97dcf4c8 label.sk-toggleable__label-arrow:before {content: \"▸\";float: left;margin-right: 0.25em;color: #696969;}#sk-3318d3ab-5a46-4773-80f1-6bec97dcf4c8 label.sk-toggleable__label-arrow:hover:before {color: black;}#sk-3318d3ab-5a46-4773-80f1-6bec97dcf4c8 div.sk-estimator:hover label.sk-toggleable__label-arrow:before {color: black;}#sk-3318d3ab-5a46-4773-80f1-6bec97dcf4c8 div.sk-toggleable__content {max-height: 0;max-width: 0;overflow: hidden;text-align: left;background-color: #f0f8ff;}#sk-3318d3ab-5a46-4773-80f1-6bec97dcf4c8 div.sk-toggleable__content pre {margin: 0.2em;color: black;border-radius: 0.25em;background-color: #f0f8ff;}#sk-3318d3ab-5a46-4773-80f1-6bec97dcf4c8 input.sk-toggleable__control:checked~div.sk-toggleable__content {max-height: 200px;max-width: 100%;overflow: auto;}#sk-3318d3ab-5a46-4773-80f1-6bec97dcf4c8 input.sk-toggleable__control:checked~label.sk-toggleable__label-arrow:before {content: \"▾\";}#sk-3318d3ab-5a46-4773-80f1-6bec97dcf4c8 div.sk-estimator input.sk-toggleable__control:checked~label.sk-toggleable__label {background-color: #d4ebff;}#sk-3318d3ab-5a46-4773-80f1-6bec97dcf4c8 div.sk-label input.sk-toggleable__control:checked~label.sk-toggleable__label {background-color: #d4ebff;}#sk-3318d3ab-5a46-4773-80f1-6bec97dcf4c8 input.sk-hidden--visually {border: 0;clip: rect(1px 1px 1px 1px);clip: rect(1px, 1px, 1px, 1px);height: 1px;margin: -1px;overflow: hidden;padding: 0;position: absolute;width: 1px;}#sk-3318d3ab-5a46-4773-80f1-6bec97dcf4c8 div.sk-estimator {font-family: monospace;background-color: #f0f8ff;border: 1px dotted black;border-radius: 0.25em;box-sizing: border-box;margin-bottom: 0.5em;}#sk-3318d3ab-5a46-4773-80f1-6bec97dcf4c8 div.sk-estimator:hover {background-color: #d4ebff;}#sk-3318d3ab-5a46-4773-80f1-6bec97dcf4c8 div.sk-parallel-item::after {content: \"\";width: 100%;border-bottom: 1px solid gray;flex-grow: 1;}#sk-3318d3ab-5a46-4773-80f1-6bec97dcf4c8 div.sk-label:hover label.sk-toggleable__label {background-color: #d4ebff;}#sk-3318d3ab-5a46-4773-80f1-6bec97dcf4c8 div.sk-serial::before {content: \"\";position: absolute;border-left: 1px solid gray;box-sizing: border-box;top: 2em;bottom: 0;left: 50%;}#sk-3318d3ab-5a46-4773-80f1-6bec97dcf4c8 div.sk-serial {display: flex;flex-direction: column;align-items: center;background-color: white;padding-right: 0.2em;padding-left: 0.2em;}#sk-3318d3ab-5a46-4773-80f1-6bec97dcf4c8 div.sk-item {z-index: 1;}#sk-3318d3ab-5a46-4773-80f1-6bec97dcf4c8 div.sk-parallel {display: flex;align-items: stretch;justify-content: center;background-color: white;}#sk-3318d3ab-5a46-4773-80f1-6bec97dcf4c8 div.sk-parallel::before {content: \"\";position: absolute;border-left: 1px solid gray;box-sizing: border-box;top: 2em;bottom: 0;left: 50%;}#sk-3318d3ab-5a46-4773-80f1-6bec97dcf4c8 div.sk-parallel-item {display: flex;flex-direction: column;position: relative;background-color: white;}#sk-3318d3ab-5a46-4773-80f1-6bec97dcf4c8 div.sk-parallel-item:first-child::after {align-self: flex-end;width: 50%;}#sk-3318d3ab-5a46-4773-80f1-6bec97dcf4c8 div.sk-parallel-item:last-child::after {align-self: flex-start;width: 50%;}#sk-3318d3ab-5a46-4773-80f1-6bec97dcf4c8 div.sk-parallel-item:only-child::after {width: 0;}#sk-3318d3ab-5a46-4773-80f1-6bec97dcf4c8 div.sk-dashed-wrapped {border: 1px dashed gray;margin: 0 0.4em 0.5em 0.4em;box-sizing: border-box;padding-bottom: 0.4em;background-color: white;position: relative;}#sk-3318d3ab-5a46-4773-80f1-6bec97dcf4c8 div.sk-label label {font-family: monospace;font-weight: bold;background-color: white;display: inline-block;line-height: 1.2em;}#sk-3318d3ab-5a46-4773-80f1-6bec97dcf4c8 div.sk-label-container {position: relative;z-index: 2;text-align: center;}#sk-3318d3ab-5a46-4773-80f1-6bec97dcf4c8 div.sk-container {/* jupyter's `normalize.less` sets `[hidden] { display: none; }` but bootstrap.min.css set `[hidden] { display: none !important; }` so we also need the `!important` here to be able to override the default hidden behavior on the sphinx rendered scikit-learn.org. See: https://github.com/scikit-learn/scikit-learn/issues/21755 */display: inline-block !important;position: relative;}#sk-3318d3ab-5a46-4773-80f1-6bec97dcf4c8 div.sk-text-repr-fallback {display: none;}</style><div id=\"sk-3318d3ab-5a46-4773-80f1-6bec97dcf4c8\" class=\"sk-top-container\"><div class=\"sk-text-repr-fallback\"><pre>ColumnTransformer(remainder=&#x27;passthrough&#x27;,\n",
              "                  transformers=[(&#x27;pipeline&#x27;,\n",
              "                                 Pipeline(steps=[(&#x27;simpleimputer&#x27;,\n",
              "                                                  SimpleImputer(strategy=&#x27;median&#x27;)),\n",
              "                                                 (&#x27;standardscaler&#x27;,\n",
              "                                                  StandardScaler())]),\n",
              "                                 &lt;sklearn.compose._column_transformer.make_column_selector object at 0x7efe75301050&gt;),\n",
              "                                (&#x27;onehotencoder&#x27;,\n",
              "                                 OneHotEncoder(handle_unknown=&#x27;ignore&#x27;,\n",
              "                                               sparse=False),\n",
              "                                 &lt;sklearn.compose._column_transformer.make_column_selector object at 0x7efe75301090&gt;)])</pre><b>Please rerun this cell to show the HTML repr or trust the notebook.</b></div><div class=\"sk-container\" hidden><div class=\"sk-item sk-dashed-wrapped\"><div class=\"sk-label-container\"><div class=\"sk-label sk-toggleable\"><input class=\"sk-toggleable__control sk-hidden--visually\" id=\"1cd5ea98-ddd6-4b8b-9503-044673b4126c\" type=\"checkbox\" ><label for=\"1cd5ea98-ddd6-4b8b-9503-044673b4126c\" class=\"sk-toggleable__label sk-toggleable__label-arrow\">ColumnTransformer</label><div class=\"sk-toggleable__content\"><pre>ColumnTransformer(remainder=&#x27;passthrough&#x27;,\n",
              "                  transformers=[(&#x27;pipeline&#x27;,\n",
              "                                 Pipeline(steps=[(&#x27;simpleimputer&#x27;,\n",
              "                                                  SimpleImputer(strategy=&#x27;median&#x27;)),\n",
              "                                                 (&#x27;standardscaler&#x27;,\n",
              "                                                  StandardScaler())]),\n",
              "                                 &lt;sklearn.compose._column_transformer.make_column_selector object at 0x7efe75301050&gt;),\n",
              "                                (&#x27;onehotencoder&#x27;,\n",
              "                                 OneHotEncoder(handle_unknown=&#x27;ignore&#x27;,\n",
              "                                               sparse=False),\n",
              "                                 &lt;sklearn.compose._column_transformer.make_column_selector object at 0x7efe75301090&gt;)])</pre></div></div></div><div class=\"sk-parallel\"><div class=\"sk-parallel-item\"><div class=\"sk-item\"><div class=\"sk-label-container\"><div class=\"sk-label sk-toggleable\"><input class=\"sk-toggleable__control sk-hidden--visually\" id=\"23efb1d0-7187-48d3-99ab-6fb5dad235ae\" type=\"checkbox\" ><label for=\"23efb1d0-7187-48d3-99ab-6fb5dad235ae\" class=\"sk-toggleable__label sk-toggleable__label-arrow\">pipeline</label><div class=\"sk-toggleable__content\"><pre>&lt;sklearn.compose._column_transformer.make_column_selector object at 0x7efe75301050&gt;</pre></div></div></div><div class=\"sk-serial\"><div class=\"sk-item\"><div class=\"sk-serial\"><div class=\"sk-item\"><div class=\"sk-estimator sk-toggleable\"><input class=\"sk-toggleable__control sk-hidden--visually\" id=\"7fe527c4-d515-4b1e-9979-7e13d8c49405\" type=\"checkbox\" ><label for=\"7fe527c4-d515-4b1e-9979-7e13d8c49405\" class=\"sk-toggleable__label sk-toggleable__label-arrow\">SimpleImputer</label><div class=\"sk-toggleable__content\"><pre>SimpleImputer(strategy=&#x27;median&#x27;)</pre></div></div></div><div class=\"sk-item\"><div class=\"sk-estimator sk-toggleable\"><input class=\"sk-toggleable__control sk-hidden--visually\" id=\"159fdc6e-7b5b-45dd-9739-df3a31ce1ecc\" type=\"checkbox\" ><label for=\"159fdc6e-7b5b-45dd-9739-df3a31ce1ecc\" class=\"sk-toggleable__label sk-toggleable__label-arrow\">StandardScaler</label><div class=\"sk-toggleable__content\"><pre>StandardScaler()</pre></div></div></div></div></div></div></div></div><div class=\"sk-parallel-item\"><div class=\"sk-item\"><div class=\"sk-label-container\"><div class=\"sk-label sk-toggleable\"><input class=\"sk-toggleable__control sk-hidden--visually\" id=\"8520abdb-4870-4ac8-8499-40e4ef528033\" type=\"checkbox\" ><label for=\"8520abdb-4870-4ac8-8499-40e4ef528033\" class=\"sk-toggleable__label sk-toggleable__label-arrow\">onehotencoder</label><div class=\"sk-toggleable__content\"><pre>&lt;sklearn.compose._column_transformer.make_column_selector object at 0x7efe75301090&gt;</pre></div></div></div><div class=\"sk-serial\"><div class=\"sk-item\"><div class=\"sk-estimator sk-toggleable\"><input class=\"sk-toggleable__control sk-hidden--visually\" id=\"51a8c144-0847-4c49-8166-35017a07a977\" type=\"checkbox\" ><label for=\"51a8c144-0847-4c49-8166-35017a07a977\" class=\"sk-toggleable__label sk-toggleable__label-arrow\">OneHotEncoder</label><div class=\"sk-toggleable__content\"><pre>OneHotEncoder(handle_unknown=&#x27;ignore&#x27;, sparse=False)</pre></div></div></div></div></div></div><div class=\"sk-parallel-item\"><div class=\"sk-item\"><div class=\"sk-label-container\"><div class=\"sk-label sk-toggleable\"><input class=\"sk-toggleable__control sk-hidden--visually\" id=\"a534a0e4-ee86-4797-aa55-c9f7becbc6bc\" type=\"checkbox\" ><label for=\"a534a0e4-ee86-4797-aa55-c9f7becbc6bc\" class=\"sk-toggleable__label sk-toggleable__label-arrow\">remainder</label><div class=\"sk-toggleable__content\"><pre>[]</pre></div></div></div><div class=\"sk-serial\"><div class=\"sk-item\"><div class=\"sk-estimator sk-toggleable\"><input class=\"sk-toggleable__control sk-hidden--visually\" id=\"e7b3b324-f00d-41a3-9e81-bcdd04242b3e\" type=\"checkbox\" ><label for=\"e7b3b324-f00d-41a3-9e81-bcdd04242b3e\" class=\"sk-toggleable__label sk-toggleable__label-arrow\">passthrough</label><div class=\"sk-toggleable__content\"><pre>passthrough</pre></div></div></div></div></div></div></div></div></div></div>"
            ]
          },
          "metadata": {},
          "execution_count": 20
        }
      ],
      "source": [
        "preprocessor.fit(X_train)"
      ]
    },
    {
      "cell_type": "code",
      "execution_count": 21,
      "metadata": {
        "id": "M7E7yRV9EZaj"
      },
      "outputs": [],
      "source": [
        "X_train_post = preprocessor.transform(X_train)\n",
        "X_test_post = preprocessor.transform(X_test)"
      ]
    },
    {
      "cell_type": "markdown",
      "metadata": {
        "id": "SY8AtUCUE1tt"
      },
      "source": [
        "# Post Processing"
      ]
    },
    {
      "cell_type": "code",
      "execution_count": 22,
      "metadata": {
        "id": "4lMtrNyUE3vw"
      },
      "outputs": [],
      "source": [
        "X_train_viz = pd.DataFrame(X_train_post)\n",
        "X_test_viz = pd.DataFrame(X_test_post)"
      ]
    },
    {
      "cell_type": "code",
      "execution_count": 23,
      "metadata": {
        "colab": {
          "base_uri": "https://localhost:8080/"
        },
        "id": "fiGIzWfqE6_Z",
        "outputId": "fdde7b41-1a64-45bc-89c7-f8db54e84b51"
      },
      "outputs": [
        {
          "output_type": "stream",
          "name": "stdout",
          "text": [
            "Missing values in training data:\n",
            "0\n",
            "Data Type in Training data:\n",
            "float64\n",
            "\n",
            "Missing values in test data:\n",
            "0\n",
            "Data Type in Test Data:\n",
            "float64\n",
            "\n"
          ]
        }
      ],
      "source": [
        "print(f\"\"\"Missing values in training data:\n",
        "{X_train_viz.isna().sum().sum()}\n",
        "Data Type in Training data:\n",
        "{X_train_post.dtype}\n",
        "\n",
        "Missing values in test data:\n",
        "{X_test_viz.isna().sum().sum()}\n",
        "Data Type in Test Data:\n",
        "{X_test_post.dtype}\n",
        "\"\"\")"
      ]
    },
    {
      "cell_type": "markdown",
      "metadata": {
        "id": "urJfIvTxG_7k"
      },
      "source": [
        "## Training Data"
      ]
    },
    {
      "cell_type": "code",
      "execution_count": 24,
      "metadata": {
        "colab": {
          "base_uri": "https://localhost:8080/"
        },
        "id": "O_S9v_w3GhGv",
        "outputId": "0f7ac1b2-50ba-4799-81bd-141c79641ea8"
      },
      "outputs": [
        {
          "output_type": "execute_result",
          "data": {
            "text/plain": [
              "array([[ 0.82748547, -0.71277507,  1.82810922, ...,  0.        ,\n",
              "         1.        ,  0.        ],\n",
              "       [ 0.56664432, -1.29105225,  0.60336888, ...,  0.        ,\n",
              "         1.        ,  0.        ],\n",
              "       [-0.12102782,  1.81331864,  0.24454056, ...,  1.        ,\n",
              "         0.        ,  0.        ],\n",
              "       ...,\n",
              "       [ 1.12389588, -0.92052713,  1.52302674, ...,  1.        ,\n",
              "         0.        ,  0.        ],\n",
              "       [ 1.77599877, -0.2277552 , -0.38377708, ...,  1.        ,\n",
              "         0.        ,  0.        ],\n",
              "       [ 0.82748547, -0.95867683, -0.73836105, ...,  1.        ,\n",
              "         0.        ,  0.        ]])"
            ]
          },
          "metadata": {},
          "execution_count": 24
        }
      ],
      "source": [
        "# Post processing training numpy array\n",
        "X_train_post"
      ]
    },
    {
      "cell_type": "code",
      "execution_count": 25,
      "metadata": {
        "colab": {
          "base_uri": "https://localhost:8080/",
          "height": 424
        },
        "id": "v5zL55d2GoVY",
        "outputId": "a0127740-4c2f-4f01-fcba-c6a14d48fcb1"
      },
      "outputs": [
        {
          "output_type": "execute_result",
          "data": {
            "text/plain": [
              "            0         1         2         3    4    5    6    7    8    9   \\\n",
              "0     0.827485 -0.712775  1.828109  0.668862  0.0  1.0  0.0  0.0  0.0  0.0   \n",
              "1     0.566644 -1.291052  0.603369  0.668862  0.0  0.0  1.0  0.0  0.0  0.0   \n",
              "2    -0.121028  1.813319  0.244541  0.668862  0.0  0.0  1.0  0.0  0.0  0.0   \n",
              "3    -1.158464 -1.004931 -0.952591 -0.799831  0.0  1.0  0.0  0.0  0.0  1.0   \n",
              "4     1.538870 -0.965484 -0.336460 -0.799831  0.0  1.0  0.0  0.0  0.0  0.0   \n",
              "...        ...       ...       ...       ...  ...  ...  ...  ...  ...  ...   \n",
              "6387 -0.821742  4.309657 -0.044657 -0.799831  0.0  0.0  1.0  0.0  0.0  0.0   \n",
              "6388  0.649639  1.008625 -1.058907 -0.799831  0.0  1.0  0.0  0.0  0.0  0.0   \n",
              "6389  1.123896 -0.920527  1.523027 -0.799831  0.0  1.0  0.0  0.0  0.0  0.0   \n",
              "6390  1.775999 -0.227755 -0.383777 -0.799831  0.0  0.0  0.0  1.0  0.0  0.0   \n",
              "6391  0.827485 -0.958677 -0.738361 -0.799831  1.0  0.0  0.0  0.0  0.0  0.0   \n",
              "\n",
              "      ...   22   23   24   25   26   27   28   29   30   31  \n",
              "0     ...  0.0  0.0  0.0  0.0  0.0  1.0  0.0  0.0  1.0  0.0  \n",
              "1     ...  1.0  0.0  0.0  0.0  0.0  1.0  0.0  0.0  1.0  0.0  \n",
              "2     ...  0.0  0.0  0.0  1.0  0.0  0.0  0.0  1.0  0.0  0.0  \n",
              "3     ...  0.0  0.0  0.0  0.0  1.0  0.0  0.0  1.0  0.0  0.0  \n",
              "4     ...  0.0  0.0  0.0  0.0  1.0  0.0  0.0  1.0  0.0  0.0  \n",
              "...   ...  ...  ...  ...  ...  ...  ...  ...  ...  ...  ...  \n",
              "6387  ...  0.0  0.0  0.0  0.0  0.0  1.0  1.0  0.0  0.0  0.0  \n",
              "6388  ...  0.0  0.0  0.0  0.0  1.0  0.0  0.0  1.0  0.0  0.0  \n",
              "6389  ...  0.0  0.0  0.0  0.0  1.0  0.0  0.0  1.0  0.0  0.0  \n",
              "6390  ...  1.0  0.0  0.0  0.0  1.0  0.0  0.0  1.0  0.0  0.0  \n",
              "6391  ...  0.0  0.0  0.0  1.0  0.0  0.0  0.0  1.0  0.0  0.0  \n",
              "\n",
              "[6392 rows x 32 columns]"
            ],
            "text/html": [
              "\n",
              "  <div id=\"df-fe586223-6807-426e-9cd0-ed4ef6512c76\">\n",
              "    <div class=\"colab-df-container\">\n",
              "      <div>\n",
              "<style scoped>\n",
              "    .dataframe tbody tr th:only-of-type {\n",
              "        vertical-align: middle;\n",
              "    }\n",
              "\n",
              "    .dataframe tbody tr th {\n",
              "        vertical-align: top;\n",
              "    }\n",
              "\n",
              "    .dataframe thead th {\n",
              "        text-align: right;\n",
              "    }\n",
              "</style>\n",
              "<table border=\"1\" class=\"dataframe\">\n",
              "  <thead>\n",
              "    <tr style=\"text-align: right;\">\n",
              "      <th></th>\n",
              "      <th>0</th>\n",
              "      <th>1</th>\n",
              "      <th>2</th>\n",
              "      <th>3</th>\n",
              "      <th>4</th>\n",
              "      <th>5</th>\n",
              "      <th>6</th>\n",
              "      <th>7</th>\n",
              "      <th>8</th>\n",
              "      <th>9</th>\n",
              "      <th>...</th>\n",
              "      <th>22</th>\n",
              "      <th>23</th>\n",
              "      <th>24</th>\n",
              "      <th>25</th>\n",
              "      <th>26</th>\n",
              "      <th>27</th>\n",
              "      <th>28</th>\n",
              "      <th>29</th>\n",
              "      <th>30</th>\n",
              "      <th>31</th>\n",
              "    </tr>\n",
              "  </thead>\n",
              "  <tbody>\n",
              "    <tr>\n",
              "      <th>0</th>\n",
              "      <td>0.827485</td>\n",
              "      <td>-0.712775</td>\n",
              "      <td>1.828109</td>\n",
              "      <td>0.668862</td>\n",
              "      <td>0.0</td>\n",
              "      <td>1.0</td>\n",
              "      <td>0.0</td>\n",
              "      <td>0.0</td>\n",
              "      <td>0.0</td>\n",
              "      <td>0.0</td>\n",
              "      <td>...</td>\n",
              "      <td>0.0</td>\n",
              "      <td>0.0</td>\n",
              "      <td>0.0</td>\n",
              "      <td>0.0</td>\n",
              "      <td>0.0</td>\n",
              "      <td>1.0</td>\n",
              "      <td>0.0</td>\n",
              "      <td>0.0</td>\n",
              "      <td>1.0</td>\n",
              "      <td>0.0</td>\n",
              "    </tr>\n",
              "    <tr>\n",
              "      <th>1</th>\n",
              "      <td>0.566644</td>\n",
              "      <td>-1.291052</td>\n",
              "      <td>0.603369</td>\n",
              "      <td>0.668862</td>\n",
              "      <td>0.0</td>\n",
              "      <td>0.0</td>\n",
              "      <td>1.0</td>\n",
              "      <td>0.0</td>\n",
              "      <td>0.0</td>\n",
              "      <td>0.0</td>\n",
              "      <td>...</td>\n",
              "      <td>1.0</td>\n",
              "      <td>0.0</td>\n",
              "      <td>0.0</td>\n",
              "      <td>0.0</td>\n",
              "      <td>0.0</td>\n",
              "      <td>1.0</td>\n",
              "      <td>0.0</td>\n",
              "      <td>0.0</td>\n",
              "      <td>1.0</td>\n",
              "      <td>0.0</td>\n",
              "    </tr>\n",
              "    <tr>\n",
              "      <th>2</th>\n",
              "      <td>-0.121028</td>\n",
              "      <td>1.813319</td>\n",
              "      <td>0.244541</td>\n",
              "      <td>0.668862</td>\n",
              "      <td>0.0</td>\n",
              "      <td>0.0</td>\n",
              "      <td>1.0</td>\n",
              "      <td>0.0</td>\n",
              "      <td>0.0</td>\n",
              "      <td>0.0</td>\n",
              "      <td>...</td>\n",
              "      <td>0.0</td>\n",
              "      <td>0.0</td>\n",
              "      <td>0.0</td>\n",
              "      <td>1.0</td>\n",
              "      <td>0.0</td>\n",
              "      <td>0.0</td>\n",
              "      <td>0.0</td>\n",
              "      <td>1.0</td>\n",
              "      <td>0.0</td>\n",
              "      <td>0.0</td>\n",
              "    </tr>\n",
              "    <tr>\n",
              "      <th>3</th>\n",
              "      <td>-1.158464</td>\n",
              "      <td>-1.004931</td>\n",
              "      <td>-0.952591</td>\n",
              "      <td>-0.799831</td>\n",
              "      <td>0.0</td>\n",
              "      <td>1.0</td>\n",
              "      <td>0.0</td>\n",
              "      <td>0.0</td>\n",
              "      <td>0.0</td>\n",
              "      <td>1.0</td>\n",
              "      <td>...</td>\n",
              "      <td>0.0</td>\n",
              "      <td>0.0</td>\n",
              "      <td>0.0</td>\n",
              "      <td>0.0</td>\n",
              "      <td>1.0</td>\n",
              "      <td>0.0</td>\n",
              "      <td>0.0</td>\n",
              "      <td>1.0</td>\n",
              "      <td>0.0</td>\n",
              "      <td>0.0</td>\n",
              "    </tr>\n",
              "    <tr>\n",
              "      <th>4</th>\n",
              "      <td>1.538870</td>\n",
              "      <td>-0.965484</td>\n",
              "      <td>-0.336460</td>\n",
              "      <td>-0.799831</td>\n",
              "      <td>0.0</td>\n",
              "      <td>1.0</td>\n",
              "      <td>0.0</td>\n",
              "      <td>0.0</td>\n",
              "      <td>0.0</td>\n",
              "      <td>0.0</td>\n",
              "      <td>...</td>\n",
              "      <td>0.0</td>\n",
              "      <td>0.0</td>\n",
              "      <td>0.0</td>\n",
              "      <td>0.0</td>\n",
              "      <td>1.0</td>\n",
              "      <td>0.0</td>\n",
              "      <td>0.0</td>\n",
              "      <td>1.0</td>\n",
              "      <td>0.0</td>\n",
              "      <td>0.0</td>\n",
              "    </tr>\n",
              "    <tr>\n",
              "      <th>...</th>\n",
              "      <td>...</td>\n",
              "      <td>...</td>\n",
              "      <td>...</td>\n",
              "      <td>...</td>\n",
              "      <td>...</td>\n",
              "      <td>...</td>\n",
              "      <td>...</td>\n",
              "      <td>...</td>\n",
              "      <td>...</td>\n",
              "      <td>...</td>\n",
              "      <td>...</td>\n",
              "      <td>...</td>\n",
              "      <td>...</td>\n",
              "      <td>...</td>\n",
              "      <td>...</td>\n",
              "      <td>...</td>\n",
              "      <td>...</td>\n",
              "      <td>...</td>\n",
              "      <td>...</td>\n",
              "      <td>...</td>\n",
              "      <td>...</td>\n",
              "    </tr>\n",
              "    <tr>\n",
              "      <th>6387</th>\n",
              "      <td>-0.821742</td>\n",
              "      <td>4.309657</td>\n",
              "      <td>-0.044657</td>\n",
              "      <td>-0.799831</td>\n",
              "      <td>0.0</td>\n",
              "      <td>0.0</td>\n",
              "      <td>1.0</td>\n",
              "      <td>0.0</td>\n",
              "      <td>0.0</td>\n",
              "      <td>0.0</td>\n",
              "      <td>...</td>\n",
              "      <td>0.0</td>\n",
              "      <td>0.0</td>\n",
              "      <td>0.0</td>\n",
              "      <td>0.0</td>\n",
              "      <td>0.0</td>\n",
              "      <td>1.0</td>\n",
              "      <td>1.0</td>\n",
              "      <td>0.0</td>\n",
              "      <td>0.0</td>\n",
              "      <td>0.0</td>\n",
              "    </tr>\n",
              "    <tr>\n",
              "      <th>6388</th>\n",
              "      <td>0.649639</td>\n",
              "      <td>1.008625</td>\n",
              "      <td>-1.058907</td>\n",
              "      <td>-0.799831</td>\n",
              "      <td>0.0</td>\n",
              "      <td>1.0</td>\n",
              "      <td>0.0</td>\n",
              "      <td>0.0</td>\n",
              "      <td>0.0</td>\n",
              "      <td>0.0</td>\n",
              "      <td>...</td>\n",
              "      <td>0.0</td>\n",
              "      <td>0.0</td>\n",
              "      <td>0.0</td>\n",
              "      <td>0.0</td>\n",
              "      <td>1.0</td>\n",
              "      <td>0.0</td>\n",
              "      <td>0.0</td>\n",
              "      <td>1.0</td>\n",
              "      <td>0.0</td>\n",
              "      <td>0.0</td>\n",
              "    </tr>\n",
              "    <tr>\n",
              "      <th>6389</th>\n",
              "      <td>1.123896</td>\n",
              "      <td>-0.920527</td>\n",
              "      <td>1.523027</td>\n",
              "      <td>-0.799831</td>\n",
              "      <td>0.0</td>\n",
              "      <td>1.0</td>\n",
              "      <td>0.0</td>\n",
              "      <td>0.0</td>\n",
              "      <td>0.0</td>\n",
              "      <td>0.0</td>\n",
              "      <td>...</td>\n",
              "      <td>0.0</td>\n",
              "      <td>0.0</td>\n",
              "      <td>0.0</td>\n",
              "      <td>0.0</td>\n",
              "      <td>1.0</td>\n",
              "      <td>0.0</td>\n",
              "      <td>0.0</td>\n",
              "      <td>1.0</td>\n",
              "      <td>0.0</td>\n",
              "      <td>0.0</td>\n",
              "    </tr>\n",
              "    <tr>\n",
              "      <th>6390</th>\n",
              "      <td>1.775999</td>\n",
              "      <td>-0.227755</td>\n",
              "      <td>-0.383777</td>\n",
              "      <td>-0.799831</td>\n",
              "      <td>0.0</td>\n",
              "      <td>0.0</td>\n",
              "      <td>0.0</td>\n",
              "      <td>1.0</td>\n",
              "      <td>0.0</td>\n",
              "      <td>0.0</td>\n",
              "      <td>...</td>\n",
              "      <td>1.0</td>\n",
              "      <td>0.0</td>\n",
              "      <td>0.0</td>\n",
              "      <td>0.0</td>\n",
              "      <td>1.0</td>\n",
              "      <td>0.0</td>\n",
              "      <td>0.0</td>\n",
              "      <td>1.0</td>\n",
              "      <td>0.0</td>\n",
              "      <td>0.0</td>\n",
              "    </tr>\n",
              "    <tr>\n",
              "      <th>6391</th>\n",
              "      <td>0.827485</td>\n",
              "      <td>-0.958677</td>\n",
              "      <td>-0.738361</td>\n",
              "      <td>-0.799831</td>\n",
              "      <td>1.0</td>\n",
              "      <td>0.0</td>\n",
              "      <td>0.0</td>\n",
              "      <td>0.0</td>\n",
              "      <td>0.0</td>\n",
              "      <td>0.0</td>\n",
              "      <td>...</td>\n",
              "      <td>0.0</td>\n",
              "      <td>0.0</td>\n",
              "      <td>0.0</td>\n",
              "      <td>1.0</td>\n",
              "      <td>0.0</td>\n",
              "      <td>0.0</td>\n",
              "      <td>0.0</td>\n",
              "      <td>1.0</td>\n",
              "      <td>0.0</td>\n",
              "      <td>0.0</td>\n",
              "    </tr>\n",
              "  </tbody>\n",
              "</table>\n",
              "<p>6392 rows × 32 columns</p>\n",
              "</div>\n",
              "      <button class=\"colab-df-convert\" onclick=\"convertToInteractive('df-fe586223-6807-426e-9cd0-ed4ef6512c76')\"\n",
              "              title=\"Convert this dataframe to an interactive table.\"\n",
              "              style=\"display:none;\">\n",
              "        \n",
              "  <svg xmlns=\"http://www.w3.org/2000/svg\" height=\"24px\"viewBox=\"0 0 24 24\"\n",
              "       width=\"24px\">\n",
              "    <path d=\"M0 0h24v24H0V0z\" fill=\"none\"/>\n",
              "    <path d=\"M18.56 5.44l.94 2.06.94-2.06 2.06-.94-2.06-.94-.94-2.06-.94 2.06-2.06.94zm-11 1L8.5 8.5l.94-2.06 2.06-.94-2.06-.94L8.5 2.5l-.94 2.06-2.06.94zm10 10l.94 2.06.94-2.06 2.06-.94-2.06-.94-.94-2.06-.94 2.06-2.06.94z\"/><path d=\"M17.41 7.96l-1.37-1.37c-.4-.4-.92-.59-1.43-.59-.52 0-1.04.2-1.43.59L10.3 9.45l-7.72 7.72c-.78.78-.78 2.05 0 2.83L4 21.41c.39.39.9.59 1.41.59.51 0 1.02-.2 1.41-.59l7.78-7.78 2.81-2.81c.8-.78.8-2.07 0-2.86zM5.41 20L4 18.59l7.72-7.72 1.47 1.35L5.41 20z\"/>\n",
              "  </svg>\n",
              "      </button>\n",
              "      \n",
              "  <style>\n",
              "    .colab-df-container {\n",
              "      display:flex;\n",
              "      flex-wrap:wrap;\n",
              "      gap: 12px;\n",
              "    }\n",
              "\n",
              "    .colab-df-convert {\n",
              "      background-color: #E8F0FE;\n",
              "      border: none;\n",
              "      border-radius: 50%;\n",
              "      cursor: pointer;\n",
              "      display: none;\n",
              "      fill: #1967D2;\n",
              "      height: 32px;\n",
              "      padding: 0 0 0 0;\n",
              "      width: 32px;\n",
              "    }\n",
              "\n",
              "    .colab-df-convert:hover {\n",
              "      background-color: #E2EBFA;\n",
              "      box-shadow: 0px 1px 2px rgba(60, 64, 67, 0.3), 0px 1px 3px 1px rgba(60, 64, 67, 0.15);\n",
              "      fill: #174EA6;\n",
              "    }\n",
              "\n",
              "    [theme=dark] .colab-df-convert {\n",
              "      background-color: #3B4455;\n",
              "      fill: #D2E3FC;\n",
              "    }\n",
              "\n",
              "    [theme=dark] .colab-df-convert:hover {\n",
              "      background-color: #434B5C;\n",
              "      box-shadow: 0px 1px 3px 1px rgba(0, 0, 0, 0.15);\n",
              "      filter: drop-shadow(0px 1px 2px rgba(0, 0, 0, 0.3));\n",
              "      fill: #FFFFFF;\n",
              "    }\n",
              "  </style>\n",
              "\n",
              "      <script>\n",
              "        const buttonEl =\n",
              "          document.querySelector('#df-fe586223-6807-426e-9cd0-ed4ef6512c76 button.colab-df-convert');\n",
              "        buttonEl.style.display =\n",
              "          google.colab.kernel.accessAllowed ? 'block' : 'none';\n",
              "\n",
              "        async function convertToInteractive(key) {\n",
              "          const element = document.querySelector('#df-fe586223-6807-426e-9cd0-ed4ef6512c76');\n",
              "          const dataTable =\n",
              "            await google.colab.kernel.invokeFunction('convertToInteractive',\n",
              "                                                     [key], {});\n",
              "          if (!dataTable) return;\n",
              "\n",
              "          const docLinkHtml = 'Like what you see? Visit the ' +\n",
              "            '<a target=\"_blank\" href=https://colab.research.google.com/notebooks/data_table.ipynb>data table notebook</a>'\n",
              "            + ' to learn more about interactive tables.';\n",
              "          element.innerHTML = '';\n",
              "          dataTable['output_type'] = 'display_data';\n",
              "          await google.colab.output.renderOutput(dataTable, element);\n",
              "          const docLink = document.createElement('div');\n",
              "          docLink.innerHTML = docLinkHtml;\n",
              "          element.appendChild(docLink);\n",
              "        }\n",
              "      </script>\n",
              "    </div>\n",
              "  </div>\n",
              "  "
            ]
          },
          "metadata": {},
          "execution_count": 25
        }
      ],
      "source": [
        "# Post processing training dataframe\n",
        "X_train_viz"
      ]
    },
    {
      "cell_type": "code",
      "execution_count": 26,
      "metadata": {
        "colab": {
          "base_uri": "https://localhost:8080/",
          "height": 394
        },
        "id": "xoqFfOfUHC7t",
        "outputId": "96883f09-0fe7-43cd-a5bd-5788120f3525"
      },
      "outputs": [
        {
          "output_type": "execute_result",
          "data": {
            "text/plain": [
              "            0        1        2        3        4        5        6        7   \\\n",
              "count  6392.00  6392.00  6392.00  6392.00  6392.00  6392.00  6392.00  6392.00   \n",
              "mean     -0.00    -0.00     0.00    -0.00     0.04     0.59     0.34     0.01   \n",
              "std       1.00     1.00     1.00     1.00     0.20     0.49     0.47     0.12   \n",
              "min      -1.97    -1.29    -1.77    -0.80     0.00     0.00     0.00     0.00   \n",
              "25%      -0.80    -0.76    -0.76    -0.80     0.00     0.00     0.00     0.00   \n",
              "50%      -0.05    -0.23     0.03    -0.80     0.00     1.00     0.00     0.00   \n",
              "75%       0.77     0.56     0.72     0.67     0.00     1.00     1.00     0.00   \n",
              "max       2.01     5.13     1.99     2.14     1.00     1.00     1.00     1.00   \n",
              "\n",
              "            8        9   ...       22       23       24       25       26  \\\n",
              "count  6392.00  6392.00  ...  6392.00  6392.00  6392.00  6392.00  6392.00   \n",
              "mean      0.01     0.07  ...     0.14     0.05     0.02     0.27     0.33   \n",
              "std       0.12     0.26  ...     0.35     0.22     0.14     0.45     0.47   \n",
              "min       0.00     0.00  ...     0.00     0.00     0.00     0.00     0.00   \n",
              "25%       0.00     0.00  ...     0.00     0.00     0.00     0.00     0.00   \n",
              "50%       0.00     0.00  ...     0.00     0.00     0.00     0.00     0.00   \n",
              "75%       0.00     0.00  ...     0.00     0.00     0.00     1.00     1.00   \n",
              "max       1.00     1.00  ...     1.00     1.00     1.00     1.00     1.00   \n",
              "\n",
              "            27       28       29       30       31  \n",
              "count  6392.00  6392.00  6392.00  6392.00  6392.00  \n",
              "mean      0.40     0.12     0.65     0.11     0.11  \n",
              "std       0.49     0.33     0.48     0.31     0.32  \n",
              "min       0.00     0.00     0.00     0.00     0.00  \n",
              "25%       0.00     0.00     0.00     0.00     0.00  \n",
              "50%       0.00     0.00     1.00     0.00     0.00  \n",
              "75%       1.00     0.00     1.00     0.00     0.00  \n",
              "max       1.00     1.00     1.00     1.00     1.00  \n",
              "\n",
              "[8 rows x 32 columns]"
            ],
            "text/html": [
              "\n",
              "  <div id=\"df-d15395d7-8a24-4ceb-882f-596b76f049fa\">\n",
              "    <div class=\"colab-df-container\">\n",
              "      <div>\n",
              "<style scoped>\n",
              "    .dataframe tbody tr th:only-of-type {\n",
              "        vertical-align: middle;\n",
              "    }\n",
              "\n",
              "    .dataframe tbody tr th {\n",
              "        vertical-align: top;\n",
              "    }\n",
              "\n",
              "    .dataframe thead th {\n",
              "        text-align: right;\n",
              "    }\n",
              "</style>\n",
              "<table border=\"1\" class=\"dataframe\">\n",
              "  <thead>\n",
              "    <tr style=\"text-align: right;\">\n",
              "      <th></th>\n",
              "      <th>0</th>\n",
              "      <th>1</th>\n",
              "      <th>2</th>\n",
              "      <th>3</th>\n",
              "      <th>4</th>\n",
              "      <th>5</th>\n",
              "      <th>6</th>\n",
              "      <th>7</th>\n",
              "      <th>8</th>\n",
              "      <th>9</th>\n",
              "      <th>...</th>\n",
              "      <th>22</th>\n",
              "      <th>23</th>\n",
              "      <th>24</th>\n",
              "      <th>25</th>\n",
              "      <th>26</th>\n",
              "      <th>27</th>\n",
              "      <th>28</th>\n",
              "      <th>29</th>\n",
              "      <th>30</th>\n",
              "      <th>31</th>\n",
              "    </tr>\n",
              "  </thead>\n",
              "  <tbody>\n",
              "    <tr>\n",
              "      <th>count</th>\n",
              "      <td>6392.00</td>\n",
              "      <td>6392.00</td>\n",
              "      <td>6392.00</td>\n",
              "      <td>6392.00</td>\n",
              "      <td>6392.00</td>\n",
              "      <td>6392.00</td>\n",
              "      <td>6392.00</td>\n",
              "      <td>6392.00</td>\n",
              "      <td>6392.00</td>\n",
              "      <td>6392.00</td>\n",
              "      <td>...</td>\n",
              "      <td>6392.00</td>\n",
              "      <td>6392.00</td>\n",
              "      <td>6392.00</td>\n",
              "      <td>6392.00</td>\n",
              "      <td>6392.00</td>\n",
              "      <td>6392.00</td>\n",
              "      <td>6392.00</td>\n",
              "      <td>6392.00</td>\n",
              "      <td>6392.00</td>\n",
              "      <td>6392.00</td>\n",
              "    </tr>\n",
              "    <tr>\n",
              "      <th>mean</th>\n",
              "      <td>-0.00</td>\n",
              "      <td>-0.00</td>\n",
              "      <td>0.00</td>\n",
              "      <td>-0.00</td>\n",
              "      <td>0.04</td>\n",
              "      <td>0.59</td>\n",
              "      <td>0.34</td>\n",
              "      <td>0.01</td>\n",
              "      <td>0.01</td>\n",
              "      <td>0.07</td>\n",
              "      <td>...</td>\n",
              "      <td>0.14</td>\n",
              "      <td>0.05</td>\n",
              "      <td>0.02</td>\n",
              "      <td>0.27</td>\n",
              "      <td>0.33</td>\n",
              "      <td>0.40</td>\n",
              "      <td>0.12</td>\n",
              "      <td>0.65</td>\n",
              "      <td>0.11</td>\n",
              "      <td>0.11</td>\n",
              "    </tr>\n",
              "    <tr>\n",
              "      <th>std</th>\n",
              "      <td>1.00</td>\n",
              "      <td>1.00</td>\n",
              "      <td>1.00</td>\n",
              "      <td>1.00</td>\n",
              "      <td>0.20</td>\n",
              "      <td>0.49</td>\n",
              "      <td>0.47</td>\n",
              "      <td>0.12</td>\n",
              "      <td>0.12</td>\n",
              "      <td>0.26</td>\n",
              "      <td>...</td>\n",
              "      <td>0.35</td>\n",
              "      <td>0.22</td>\n",
              "      <td>0.14</td>\n",
              "      <td>0.45</td>\n",
              "      <td>0.47</td>\n",
              "      <td>0.49</td>\n",
              "      <td>0.33</td>\n",
              "      <td>0.48</td>\n",
              "      <td>0.31</td>\n",
              "      <td>0.32</td>\n",
              "    </tr>\n",
              "    <tr>\n",
              "      <th>min</th>\n",
              "      <td>-1.97</td>\n",
              "      <td>-1.29</td>\n",
              "      <td>-1.77</td>\n",
              "      <td>-0.80</td>\n",
              "      <td>0.00</td>\n",
              "      <td>0.00</td>\n",
              "      <td>0.00</td>\n",
              "      <td>0.00</td>\n",
              "      <td>0.00</td>\n",
              "      <td>0.00</td>\n",
              "      <td>...</td>\n",
              "      <td>0.00</td>\n",
              "      <td>0.00</td>\n",
              "      <td>0.00</td>\n",
              "      <td>0.00</td>\n",
              "      <td>0.00</td>\n",
              "      <td>0.00</td>\n",
              "      <td>0.00</td>\n",
              "      <td>0.00</td>\n",
              "      <td>0.00</td>\n",
              "      <td>0.00</td>\n",
              "    </tr>\n",
              "    <tr>\n",
              "      <th>25%</th>\n",
              "      <td>-0.80</td>\n",
              "      <td>-0.76</td>\n",
              "      <td>-0.76</td>\n",
              "      <td>-0.80</td>\n",
              "      <td>0.00</td>\n",
              "      <td>0.00</td>\n",
              "      <td>0.00</td>\n",
              "      <td>0.00</td>\n",
              "      <td>0.00</td>\n",
              "      <td>0.00</td>\n",
              "      <td>...</td>\n",
              "      <td>0.00</td>\n",
              "      <td>0.00</td>\n",
              "      <td>0.00</td>\n",
              "      <td>0.00</td>\n",
              "      <td>0.00</td>\n",
              "      <td>0.00</td>\n",
              "      <td>0.00</td>\n",
              "      <td>0.00</td>\n",
              "      <td>0.00</td>\n",
              "      <td>0.00</td>\n",
              "    </tr>\n",
              "    <tr>\n",
              "      <th>50%</th>\n",
              "      <td>-0.05</td>\n",
              "      <td>-0.23</td>\n",
              "      <td>0.03</td>\n",
              "      <td>-0.80</td>\n",
              "      <td>0.00</td>\n",
              "      <td>1.00</td>\n",
              "      <td>0.00</td>\n",
              "      <td>0.00</td>\n",
              "      <td>0.00</td>\n",
              "      <td>0.00</td>\n",
              "      <td>...</td>\n",
              "      <td>0.00</td>\n",
              "      <td>0.00</td>\n",
              "      <td>0.00</td>\n",
              "      <td>0.00</td>\n",
              "      <td>0.00</td>\n",
              "      <td>0.00</td>\n",
              "      <td>0.00</td>\n",
              "      <td>1.00</td>\n",
              "      <td>0.00</td>\n",
              "      <td>0.00</td>\n",
              "    </tr>\n",
              "    <tr>\n",
              "      <th>75%</th>\n",
              "      <td>0.77</td>\n",
              "      <td>0.56</td>\n",
              "      <td>0.72</td>\n",
              "      <td>0.67</td>\n",
              "      <td>0.00</td>\n",
              "      <td>1.00</td>\n",
              "      <td>1.00</td>\n",
              "      <td>0.00</td>\n",
              "      <td>0.00</td>\n",
              "      <td>0.00</td>\n",
              "      <td>...</td>\n",
              "      <td>0.00</td>\n",
              "      <td>0.00</td>\n",
              "      <td>0.00</td>\n",
              "      <td>1.00</td>\n",
              "      <td>1.00</td>\n",
              "      <td>1.00</td>\n",
              "      <td>0.00</td>\n",
              "      <td>1.00</td>\n",
              "      <td>0.00</td>\n",
              "      <td>0.00</td>\n",
              "    </tr>\n",
              "    <tr>\n",
              "      <th>max</th>\n",
              "      <td>2.01</td>\n",
              "      <td>5.13</td>\n",
              "      <td>1.99</td>\n",
              "      <td>2.14</td>\n",
              "      <td>1.00</td>\n",
              "      <td>1.00</td>\n",
              "      <td>1.00</td>\n",
              "      <td>1.00</td>\n",
              "      <td>1.00</td>\n",
              "      <td>1.00</td>\n",
              "      <td>...</td>\n",
              "      <td>1.00</td>\n",
              "      <td>1.00</td>\n",
              "      <td>1.00</td>\n",
              "      <td>1.00</td>\n",
              "      <td>1.00</td>\n",
              "      <td>1.00</td>\n",
              "      <td>1.00</td>\n",
              "      <td>1.00</td>\n",
              "      <td>1.00</td>\n",
              "      <td>1.00</td>\n",
              "    </tr>\n",
              "  </tbody>\n",
              "</table>\n",
              "<p>8 rows × 32 columns</p>\n",
              "</div>\n",
              "      <button class=\"colab-df-convert\" onclick=\"convertToInteractive('df-d15395d7-8a24-4ceb-882f-596b76f049fa')\"\n",
              "              title=\"Convert this dataframe to an interactive table.\"\n",
              "              style=\"display:none;\">\n",
              "        \n",
              "  <svg xmlns=\"http://www.w3.org/2000/svg\" height=\"24px\"viewBox=\"0 0 24 24\"\n",
              "       width=\"24px\">\n",
              "    <path d=\"M0 0h24v24H0V0z\" fill=\"none\"/>\n",
              "    <path d=\"M18.56 5.44l.94 2.06.94-2.06 2.06-.94-2.06-.94-.94-2.06-.94 2.06-2.06.94zm-11 1L8.5 8.5l.94-2.06 2.06-.94-2.06-.94L8.5 2.5l-.94 2.06-2.06.94zm10 10l.94 2.06.94-2.06 2.06-.94-2.06-.94-.94-2.06-.94 2.06-2.06.94z\"/><path d=\"M17.41 7.96l-1.37-1.37c-.4-.4-.92-.59-1.43-.59-.52 0-1.04.2-1.43.59L10.3 9.45l-7.72 7.72c-.78.78-.78 2.05 0 2.83L4 21.41c.39.39.9.59 1.41.59.51 0 1.02-.2 1.41-.59l7.78-7.78 2.81-2.81c.8-.78.8-2.07 0-2.86zM5.41 20L4 18.59l7.72-7.72 1.47 1.35L5.41 20z\"/>\n",
              "  </svg>\n",
              "      </button>\n",
              "      \n",
              "  <style>\n",
              "    .colab-df-container {\n",
              "      display:flex;\n",
              "      flex-wrap:wrap;\n",
              "      gap: 12px;\n",
              "    }\n",
              "\n",
              "    .colab-df-convert {\n",
              "      background-color: #E8F0FE;\n",
              "      border: none;\n",
              "      border-radius: 50%;\n",
              "      cursor: pointer;\n",
              "      display: none;\n",
              "      fill: #1967D2;\n",
              "      height: 32px;\n",
              "      padding: 0 0 0 0;\n",
              "      width: 32px;\n",
              "    }\n",
              "\n",
              "    .colab-df-convert:hover {\n",
              "      background-color: #E2EBFA;\n",
              "      box-shadow: 0px 1px 2px rgba(60, 64, 67, 0.3), 0px 1px 3px 1px rgba(60, 64, 67, 0.15);\n",
              "      fill: #174EA6;\n",
              "    }\n",
              "\n",
              "    [theme=dark] .colab-df-convert {\n",
              "      background-color: #3B4455;\n",
              "      fill: #D2E3FC;\n",
              "    }\n",
              "\n",
              "    [theme=dark] .colab-df-convert:hover {\n",
              "      background-color: #434B5C;\n",
              "      box-shadow: 0px 1px 3px 1px rgba(0, 0, 0, 0.15);\n",
              "      filter: drop-shadow(0px 1px 2px rgba(0, 0, 0, 0.3));\n",
              "      fill: #FFFFFF;\n",
              "    }\n",
              "  </style>\n",
              "\n",
              "      <script>\n",
              "        const buttonEl =\n",
              "          document.querySelector('#df-d15395d7-8a24-4ceb-882f-596b76f049fa button.colab-df-convert');\n",
              "        buttonEl.style.display =\n",
              "          google.colab.kernel.accessAllowed ? 'block' : 'none';\n",
              "\n",
              "        async function convertToInteractive(key) {\n",
              "          const element = document.querySelector('#df-d15395d7-8a24-4ceb-882f-596b76f049fa');\n",
              "          const dataTable =\n",
              "            await google.colab.kernel.invokeFunction('convertToInteractive',\n",
              "                                                     [key], {});\n",
              "          if (!dataTable) return;\n",
              "\n",
              "          const docLinkHtml = 'Like what you see? Visit the ' +\n",
              "            '<a target=\"_blank\" href=https://colab.research.google.com/notebooks/data_table.ipynb>data table notebook</a>'\n",
              "            + ' to learn more about interactive tables.';\n",
              "          element.innerHTML = '';\n",
              "          dataTable['output_type'] = 'display_data';\n",
              "          await google.colab.output.renderOutput(dataTable, element);\n",
              "          const docLink = document.createElement('div');\n",
              "          docLink.innerHTML = docLinkHtml;\n",
              "          element.appendChild(docLink);\n",
              "        }\n",
              "      </script>\n",
              "    </div>\n",
              "  </div>\n",
              "  "
            ]
          },
          "metadata": {},
          "execution_count": 26
        }
      ],
      "source": [
        "X_train_viz.describe().round(2)"
      ]
    },
    {
      "cell_type": "markdown",
      "metadata": {
        "id": "Bc1zgKYxHH-l"
      },
      "source": [
        "## Test Data"
      ]
    },
    {
      "cell_type": "code",
      "execution_count": 27,
      "metadata": {
        "colab": {
          "base_uri": "https://localhost:8080/"
        },
        "id": "nh0nR-4CGj9S",
        "outputId": "3099517c-2fed-48a8-cfb5-a6f367da204a"
      },
      "outputs": [
        {
          "output_type": "execute_result",
          "data": {
            "text/plain": [
              "array([[ 0.34137241, -0.77664625, -0.99881554, ...,  1.        ,\n",
              "         0.        ,  0.        ],\n",
              "       [-1.16913501,  0.1003166 , -1.58519423, ...,  1.        ,\n",
              "         0.        ,  0.        ],\n",
              "       [ 0.38879808, -0.48299432, -1.59578435, ...,  1.        ,\n",
              "         0.        ,  0.        ],\n",
              "       ...,\n",
              "       [-1.12882319,  1.21832428,  1.09397975, ...,  1.        ,\n",
              "         0.        ,  0.        ],\n",
              "       [-1.48688696, -0.77809567, -0.36679966, ...,  1.        ,\n",
              "         0.        ,  0.        ],\n",
              "       [ 0.53107507, -0.77976293,  0.11221189, ...,  1.        ,\n",
              "         0.        ,  0.        ]])"
            ]
          },
          "metadata": {},
          "execution_count": 27
        }
      ],
      "source": [
        "# Post processing test numpy array\n",
        "X_test_post"
      ]
    },
    {
      "cell_type": "code",
      "execution_count": 28,
      "metadata": {
        "colab": {
          "base_uri": "https://localhost:8080/",
          "height": 424
        },
        "id": "1XPM9vyHHOw0",
        "outputId": "35b2cc99-b0c7-425f-d4a1-8566a087fd7c"
      },
      "outputs": [
        {
          "output_type": "execute_result",
          "data": {
            "text/plain": [
              "            0         1         2         3    4    5    6    7    8    9   \\\n",
              "0     0.341372 -0.776646 -0.998816  2.137555  0.0  1.0  0.0  0.0  0.0  0.0   \n",
              "1    -1.169135  0.100317 -1.585194 -0.799831  0.0  1.0  0.0  0.0  0.0  0.0   \n",
              "2     0.388798 -0.482994 -1.595784  0.668862  0.0  0.0  1.0  0.0  0.0  0.0   \n",
              "3    -0.049889 -0.415440  0.506592  0.668862  0.0  0.0  1.0  0.0  0.0  0.0   \n",
              "4    -0.632039 -1.047426  0.886725 -0.799831  0.0  0.0  1.0  0.0  0.0  0.0   \n",
              "...        ...       ...       ...       ...  ...  ...  ...  ...  ...  ...   \n",
              "2126  1.123896 -1.134688  0.473646  2.137555  0.0  1.0  0.0  0.0  0.0  0.0   \n",
              "2127 -0.632039 -1.291052  0.018124 -0.799831  0.0  1.0  0.0  0.0  0.0  0.0   \n",
              "2128 -1.128823  1.218324  1.093980 -0.799831  0.0  1.0  0.0  0.0  0.0  0.0   \n",
              "2129 -1.486887 -0.778096 -0.366800  0.668862  0.0  1.0  0.0  0.0  0.0  0.0   \n",
              "2130  0.531075 -0.779763  0.112212 -0.799831  0.0  1.0  0.0  0.0  0.0  0.0   \n",
              "\n",
              "      ...   22   23   24   25   26   27   28   29   30   31  \n",
              "0     ...  0.0  0.0  0.0  0.0  0.0  1.0  0.0  1.0  0.0  0.0  \n",
              "1     ...  0.0  0.0  0.0  1.0  0.0  0.0  0.0  1.0  0.0  0.0  \n",
              "2     ...  0.0  0.0  0.0  1.0  0.0  0.0  0.0  1.0  0.0  0.0  \n",
              "3     ...  0.0  1.0  0.0  0.0  0.0  1.0  0.0  0.0  0.0  1.0  \n",
              "4     ...  0.0  0.0  0.0  0.0  1.0  0.0  0.0  1.0  0.0  0.0  \n",
              "...   ...  ...  ...  ...  ...  ...  ...  ...  ...  ...  ...  \n",
              "2126  ...  0.0  0.0  0.0  0.0  0.0  1.0  0.0  1.0  0.0  0.0  \n",
              "2127  ...  0.0  0.0  0.0  0.0  1.0  0.0  0.0  1.0  0.0  0.0  \n",
              "2128  ...  0.0  0.0  0.0  0.0  1.0  0.0  0.0  1.0  0.0  0.0  \n",
              "2129  ...  0.0  0.0  0.0  1.0  0.0  0.0  0.0  1.0  0.0  0.0  \n",
              "2130  ...  0.0  0.0  0.0  0.0  1.0  0.0  0.0  1.0  0.0  0.0  \n",
              "\n",
              "[2131 rows x 32 columns]"
            ],
            "text/html": [
              "\n",
              "  <div id=\"df-52537db1-8de7-42e1-866b-a96bac76ebe2\">\n",
              "    <div class=\"colab-df-container\">\n",
              "      <div>\n",
              "<style scoped>\n",
              "    .dataframe tbody tr th:only-of-type {\n",
              "        vertical-align: middle;\n",
              "    }\n",
              "\n",
              "    .dataframe tbody tr th {\n",
              "        vertical-align: top;\n",
              "    }\n",
              "\n",
              "    .dataframe thead th {\n",
              "        text-align: right;\n",
              "    }\n",
              "</style>\n",
              "<table border=\"1\" class=\"dataframe\">\n",
              "  <thead>\n",
              "    <tr style=\"text-align: right;\">\n",
              "      <th></th>\n",
              "      <th>0</th>\n",
              "      <th>1</th>\n",
              "      <th>2</th>\n",
              "      <th>3</th>\n",
              "      <th>4</th>\n",
              "      <th>5</th>\n",
              "      <th>6</th>\n",
              "      <th>7</th>\n",
              "      <th>8</th>\n",
              "      <th>9</th>\n",
              "      <th>...</th>\n",
              "      <th>22</th>\n",
              "      <th>23</th>\n",
              "      <th>24</th>\n",
              "      <th>25</th>\n",
              "      <th>26</th>\n",
              "      <th>27</th>\n",
              "      <th>28</th>\n",
              "      <th>29</th>\n",
              "      <th>30</th>\n",
              "      <th>31</th>\n",
              "    </tr>\n",
              "  </thead>\n",
              "  <tbody>\n",
              "    <tr>\n",
              "      <th>0</th>\n",
              "      <td>0.341372</td>\n",
              "      <td>-0.776646</td>\n",
              "      <td>-0.998816</td>\n",
              "      <td>2.137555</td>\n",
              "      <td>0.0</td>\n",
              "      <td>1.0</td>\n",
              "      <td>0.0</td>\n",
              "      <td>0.0</td>\n",
              "      <td>0.0</td>\n",
              "      <td>0.0</td>\n",
              "      <td>...</td>\n",
              "      <td>0.0</td>\n",
              "      <td>0.0</td>\n",
              "      <td>0.0</td>\n",
              "      <td>0.0</td>\n",
              "      <td>0.0</td>\n",
              "      <td>1.0</td>\n",
              "      <td>0.0</td>\n",
              "      <td>1.0</td>\n",
              "      <td>0.0</td>\n",
              "      <td>0.0</td>\n",
              "    </tr>\n",
              "    <tr>\n",
              "      <th>1</th>\n",
              "      <td>-1.169135</td>\n",
              "      <td>0.100317</td>\n",
              "      <td>-1.585194</td>\n",
              "      <td>-0.799831</td>\n",
              "      <td>0.0</td>\n",
              "      <td>1.0</td>\n",
              "      <td>0.0</td>\n",
              "      <td>0.0</td>\n",
              "      <td>0.0</td>\n",
              "      <td>0.0</td>\n",
              "      <td>...</td>\n",
              "      <td>0.0</td>\n",
              "      <td>0.0</td>\n",
              "      <td>0.0</td>\n",
              "      <td>1.0</td>\n",
              "      <td>0.0</td>\n",
              "      <td>0.0</td>\n",
              "      <td>0.0</td>\n",
              "      <td>1.0</td>\n",
              "      <td>0.0</td>\n",
              "      <td>0.0</td>\n",
              "    </tr>\n",
              "    <tr>\n",
              "      <th>2</th>\n",
              "      <td>0.388798</td>\n",
              "      <td>-0.482994</td>\n",
              "      <td>-1.595784</td>\n",
              "      <td>0.668862</td>\n",
              "      <td>0.0</td>\n",
              "      <td>0.0</td>\n",
              "      <td>1.0</td>\n",
              "      <td>0.0</td>\n",
              "      <td>0.0</td>\n",
              "      <td>0.0</td>\n",
              "      <td>...</td>\n",
              "      <td>0.0</td>\n",
              "      <td>0.0</td>\n",
              "      <td>0.0</td>\n",
              "      <td>1.0</td>\n",
              "      <td>0.0</td>\n",
              "      <td>0.0</td>\n",
              "      <td>0.0</td>\n",
              "      <td>1.0</td>\n",
              "      <td>0.0</td>\n",
              "      <td>0.0</td>\n",
              "    </tr>\n",
              "    <tr>\n",
              "      <th>3</th>\n",
              "      <td>-0.049889</td>\n",
              "      <td>-0.415440</td>\n",
              "      <td>0.506592</td>\n",
              "      <td>0.668862</td>\n",
              "      <td>0.0</td>\n",
              "      <td>0.0</td>\n",
              "      <td>1.0</td>\n",
              "      <td>0.0</td>\n",
              "      <td>0.0</td>\n",
              "      <td>0.0</td>\n",
              "      <td>...</td>\n",
              "      <td>0.0</td>\n",
              "      <td>1.0</td>\n",
              "      <td>0.0</td>\n",
              "      <td>0.0</td>\n",
              "      <td>0.0</td>\n",
              "      <td>1.0</td>\n",
              "      <td>0.0</td>\n",
              "      <td>0.0</td>\n",
              "      <td>0.0</td>\n",
              "      <td>1.0</td>\n",
              "    </tr>\n",
              "    <tr>\n",
              "      <th>4</th>\n",
              "      <td>-0.632039</td>\n",
              "      <td>-1.047426</td>\n",
              "      <td>0.886725</td>\n",
              "      <td>-0.799831</td>\n",
              "      <td>0.0</td>\n",
              "      <td>0.0</td>\n",
              "      <td>1.0</td>\n",
              "      <td>0.0</td>\n",
              "      <td>0.0</td>\n",
              "      <td>0.0</td>\n",
              "      <td>...</td>\n",
              "      <td>0.0</td>\n",
              "      <td>0.0</td>\n",
              "      <td>0.0</td>\n",
              "      <td>0.0</td>\n",
              "      <td>1.0</td>\n",
              "      <td>0.0</td>\n",
              "      <td>0.0</td>\n",
              "      <td>1.0</td>\n",
              "      <td>0.0</td>\n",
              "      <td>0.0</td>\n",
              "    </tr>\n",
              "    <tr>\n",
              "      <th>...</th>\n",
              "      <td>...</td>\n",
              "      <td>...</td>\n",
              "      <td>...</td>\n",
              "      <td>...</td>\n",
              "      <td>...</td>\n",
              "      <td>...</td>\n",
              "      <td>...</td>\n",
              "      <td>...</td>\n",
              "      <td>...</td>\n",
              "      <td>...</td>\n",
              "      <td>...</td>\n",
              "      <td>...</td>\n",
              "      <td>...</td>\n",
              "      <td>...</td>\n",
              "      <td>...</td>\n",
              "      <td>...</td>\n",
              "      <td>...</td>\n",
              "      <td>...</td>\n",
              "      <td>...</td>\n",
              "      <td>...</td>\n",
              "      <td>...</td>\n",
              "    </tr>\n",
              "    <tr>\n",
              "      <th>2126</th>\n",
              "      <td>1.123896</td>\n",
              "      <td>-1.134688</td>\n",
              "      <td>0.473646</td>\n",
              "      <td>2.137555</td>\n",
              "      <td>0.0</td>\n",
              "      <td>1.0</td>\n",
              "      <td>0.0</td>\n",
              "      <td>0.0</td>\n",
              "      <td>0.0</td>\n",
              "      <td>0.0</td>\n",
              "      <td>...</td>\n",
              "      <td>0.0</td>\n",
              "      <td>0.0</td>\n",
              "      <td>0.0</td>\n",
              "      <td>0.0</td>\n",
              "      <td>0.0</td>\n",
              "      <td>1.0</td>\n",
              "      <td>0.0</td>\n",
              "      <td>1.0</td>\n",
              "      <td>0.0</td>\n",
              "      <td>0.0</td>\n",
              "    </tr>\n",
              "    <tr>\n",
              "      <th>2127</th>\n",
              "      <td>-0.632039</td>\n",
              "      <td>-1.291052</td>\n",
              "      <td>0.018124</td>\n",
              "      <td>-0.799831</td>\n",
              "      <td>0.0</td>\n",
              "      <td>1.0</td>\n",
              "      <td>0.0</td>\n",
              "      <td>0.0</td>\n",
              "      <td>0.0</td>\n",
              "      <td>0.0</td>\n",
              "      <td>...</td>\n",
              "      <td>0.0</td>\n",
              "      <td>0.0</td>\n",
              "      <td>0.0</td>\n",
              "      <td>0.0</td>\n",
              "      <td>1.0</td>\n",
              "      <td>0.0</td>\n",
              "      <td>0.0</td>\n",
              "      <td>1.0</td>\n",
              "      <td>0.0</td>\n",
              "      <td>0.0</td>\n",
              "    </tr>\n",
              "    <tr>\n",
              "      <th>2128</th>\n",
              "      <td>-1.128823</td>\n",
              "      <td>1.218324</td>\n",
              "      <td>1.093980</td>\n",
              "      <td>-0.799831</td>\n",
              "      <td>0.0</td>\n",
              "      <td>1.0</td>\n",
              "      <td>0.0</td>\n",
              "      <td>0.0</td>\n",
              "      <td>0.0</td>\n",
              "      <td>0.0</td>\n",
              "      <td>...</td>\n",
              "      <td>0.0</td>\n",
              "      <td>0.0</td>\n",
              "      <td>0.0</td>\n",
              "      <td>0.0</td>\n",
              "      <td>1.0</td>\n",
              "      <td>0.0</td>\n",
              "      <td>0.0</td>\n",
              "      <td>1.0</td>\n",
              "      <td>0.0</td>\n",
              "      <td>0.0</td>\n",
              "    </tr>\n",
              "    <tr>\n",
              "      <th>2129</th>\n",
              "      <td>-1.486887</td>\n",
              "      <td>-0.778096</td>\n",
              "      <td>-0.366800</td>\n",
              "      <td>0.668862</td>\n",
              "      <td>0.0</td>\n",
              "      <td>1.0</td>\n",
              "      <td>0.0</td>\n",
              "      <td>0.0</td>\n",
              "      <td>0.0</td>\n",
              "      <td>0.0</td>\n",
              "      <td>...</td>\n",
              "      <td>0.0</td>\n",
              "      <td>0.0</td>\n",
              "      <td>0.0</td>\n",
              "      <td>1.0</td>\n",
              "      <td>0.0</td>\n",
              "      <td>0.0</td>\n",
              "      <td>0.0</td>\n",
              "      <td>1.0</td>\n",
              "      <td>0.0</td>\n",
              "      <td>0.0</td>\n",
              "    </tr>\n",
              "    <tr>\n",
              "      <th>2130</th>\n",
              "      <td>0.531075</td>\n",
              "      <td>-0.779763</td>\n",
              "      <td>0.112212</td>\n",
              "      <td>-0.799831</td>\n",
              "      <td>0.0</td>\n",
              "      <td>1.0</td>\n",
              "      <td>0.0</td>\n",
              "      <td>0.0</td>\n",
              "      <td>0.0</td>\n",
              "      <td>0.0</td>\n",
              "      <td>...</td>\n",
              "      <td>0.0</td>\n",
              "      <td>0.0</td>\n",
              "      <td>0.0</td>\n",
              "      <td>0.0</td>\n",
              "      <td>1.0</td>\n",
              "      <td>0.0</td>\n",
              "      <td>0.0</td>\n",
              "      <td>1.0</td>\n",
              "      <td>0.0</td>\n",
              "      <td>0.0</td>\n",
              "    </tr>\n",
              "  </tbody>\n",
              "</table>\n",
              "<p>2131 rows × 32 columns</p>\n",
              "</div>\n",
              "      <button class=\"colab-df-convert\" onclick=\"convertToInteractive('df-52537db1-8de7-42e1-866b-a96bac76ebe2')\"\n",
              "              title=\"Convert this dataframe to an interactive table.\"\n",
              "              style=\"display:none;\">\n",
              "        \n",
              "  <svg xmlns=\"http://www.w3.org/2000/svg\" height=\"24px\"viewBox=\"0 0 24 24\"\n",
              "       width=\"24px\">\n",
              "    <path d=\"M0 0h24v24H0V0z\" fill=\"none\"/>\n",
              "    <path d=\"M18.56 5.44l.94 2.06.94-2.06 2.06-.94-2.06-.94-.94-2.06-.94 2.06-2.06.94zm-11 1L8.5 8.5l.94-2.06 2.06-.94-2.06-.94L8.5 2.5l-.94 2.06-2.06.94zm10 10l.94 2.06.94-2.06 2.06-.94-2.06-.94-.94-2.06-.94 2.06-2.06.94z\"/><path d=\"M17.41 7.96l-1.37-1.37c-.4-.4-.92-.59-1.43-.59-.52 0-1.04.2-1.43.59L10.3 9.45l-7.72 7.72c-.78.78-.78 2.05 0 2.83L4 21.41c.39.39.9.59 1.41.59.51 0 1.02-.2 1.41-.59l7.78-7.78 2.81-2.81c.8-.78.8-2.07 0-2.86zM5.41 20L4 18.59l7.72-7.72 1.47 1.35L5.41 20z\"/>\n",
              "  </svg>\n",
              "      </button>\n",
              "      \n",
              "  <style>\n",
              "    .colab-df-container {\n",
              "      display:flex;\n",
              "      flex-wrap:wrap;\n",
              "      gap: 12px;\n",
              "    }\n",
              "\n",
              "    .colab-df-convert {\n",
              "      background-color: #E8F0FE;\n",
              "      border: none;\n",
              "      border-radius: 50%;\n",
              "      cursor: pointer;\n",
              "      display: none;\n",
              "      fill: #1967D2;\n",
              "      height: 32px;\n",
              "      padding: 0 0 0 0;\n",
              "      width: 32px;\n",
              "    }\n",
              "\n",
              "    .colab-df-convert:hover {\n",
              "      background-color: #E2EBFA;\n",
              "      box-shadow: 0px 1px 2px rgba(60, 64, 67, 0.3), 0px 1px 3px 1px rgba(60, 64, 67, 0.15);\n",
              "      fill: #174EA6;\n",
              "    }\n",
              "\n",
              "    [theme=dark] .colab-df-convert {\n",
              "      background-color: #3B4455;\n",
              "      fill: #D2E3FC;\n",
              "    }\n",
              "\n",
              "    [theme=dark] .colab-df-convert:hover {\n",
              "      background-color: #434B5C;\n",
              "      box-shadow: 0px 1px 3px 1px rgba(0, 0, 0, 0.15);\n",
              "      filter: drop-shadow(0px 1px 2px rgba(0, 0, 0, 0.3));\n",
              "      fill: #FFFFFF;\n",
              "    }\n",
              "  </style>\n",
              "\n",
              "      <script>\n",
              "        const buttonEl =\n",
              "          document.querySelector('#df-52537db1-8de7-42e1-866b-a96bac76ebe2 button.colab-df-convert');\n",
              "        buttonEl.style.display =\n",
              "          google.colab.kernel.accessAllowed ? 'block' : 'none';\n",
              "\n",
              "        async function convertToInteractive(key) {\n",
              "          const element = document.querySelector('#df-52537db1-8de7-42e1-866b-a96bac76ebe2');\n",
              "          const dataTable =\n",
              "            await google.colab.kernel.invokeFunction('convertToInteractive',\n",
              "                                                     [key], {});\n",
              "          if (!dataTable) return;\n",
              "\n",
              "          const docLinkHtml = 'Like what you see? Visit the ' +\n",
              "            '<a target=\"_blank\" href=https://colab.research.google.com/notebooks/data_table.ipynb>data table notebook</a>'\n",
              "            + ' to learn more about interactive tables.';\n",
              "          element.innerHTML = '';\n",
              "          dataTable['output_type'] = 'display_data';\n",
              "          await google.colab.output.renderOutput(dataTable, element);\n",
              "          const docLink = document.createElement('div');\n",
              "          docLink.innerHTML = docLinkHtml;\n",
              "          element.appendChild(docLink);\n",
              "        }\n",
              "      </script>\n",
              "    </div>\n",
              "  </div>\n",
              "  "
            ]
          },
          "metadata": {},
          "execution_count": 28
        }
      ],
      "source": [
        "# Post processing test dataframe\n",
        "X_test_viz"
      ]
    },
    {
      "cell_type": "code",
      "execution_count": 29,
      "metadata": {
        "colab": {
          "base_uri": "https://localhost:8080/",
          "height": 394
        },
        "id": "IcU07fljG1ow",
        "outputId": "80d3b536-51b2-4b51-fbfa-1eafece4cc40"
      },
      "outputs": [
        {
          "output_type": "execute_result",
          "data": {
            "text/plain": [
              "            0        1        2        3        4        5        6        7   \\\n",
              "count  2131.00  2131.00  2131.00  2131.00  2131.00  2131.00  2131.00  2131.00   \n",
              "mean     -0.04     0.01    -0.06     0.01     0.03     0.61     0.33     0.01   \n",
              "std       1.01     1.04     0.98     1.01     0.16     0.49     0.47     0.11   \n",
              "min      -1.96    -1.29    -1.75    -0.80     0.00     0.00     0.00     0.00   \n",
              "25%      -0.88    -0.76    -0.78    -0.80     0.00     0.00     0.00     0.00   \n",
              "50%      -0.05    -0.24    -0.15    -0.80     0.00     1.00     0.00     0.00   \n",
              "75%       0.74     0.56     0.64     0.67     0.00     1.00     1.00     0.00   \n",
              "max       2.01     4.79     1.99     2.14     1.00     1.00     1.00     1.00   \n",
              "\n",
              "            8        9   ...       22       23       24       25       26  \\\n",
              "count  2131.00  2131.00  ...  2131.00  2131.00  2131.00  2131.00  2131.00   \n",
              "mean      0.01     0.08  ...     0.14     0.05     0.01     0.30     0.32   \n",
              "std       0.12     0.27  ...     0.34     0.23     0.11     0.46     0.47   \n",
              "min       0.00     0.00  ...     0.00     0.00     0.00     0.00     0.00   \n",
              "25%       0.00     0.00  ...     0.00     0.00     0.00     0.00     0.00   \n",
              "50%       0.00     0.00  ...     0.00     0.00     0.00     0.00     0.00   \n",
              "75%       0.00     0.00  ...     0.00     0.00     0.00     1.00     1.00   \n",
              "max       1.00     1.00  ...     1.00     1.00     1.00     1.00     1.00   \n",
              "\n",
              "            27       28       29       30      31  \n",
              "count  2131.00  2131.00  2131.00  2131.00  2131.0  \n",
              "mean      0.38     0.13     0.66     0.11     0.1  \n",
              "std       0.49     0.34     0.47     0.31     0.3  \n",
              "min       0.00     0.00     0.00     0.00     0.0  \n",
              "25%       0.00     0.00     0.00     0.00     0.0  \n",
              "50%       0.00     0.00     1.00     0.00     0.0  \n",
              "75%       1.00     0.00     1.00     0.00     0.0  \n",
              "max       1.00     1.00     1.00     1.00     1.0  \n",
              "\n",
              "[8 rows x 32 columns]"
            ],
            "text/html": [
              "\n",
              "  <div id=\"df-d7f2cdce-657a-4194-93ab-00fae296b043\">\n",
              "    <div class=\"colab-df-container\">\n",
              "      <div>\n",
              "<style scoped>\n",
              "    .dataframe tbody tr th:only-of-type {\n",
              "        vertical-align: middle;\n",
              "    }\n",
              "\n",
              "    .dataframe tbody tr th {\n",
              "        vertical-align: top;\n",
              "    }\n",
              "\n",
              "    .dataframe thead th {\n",
              "        text-align: right;\n",
              "    }\n",
              "</style>\n",
              "<table border=\"1\" class=\"dataframe\">\n",
              "  <thead>\n",
              "    <tr style=\"text-align: right;\">\n",
              "      <th></th>\n",
              "      <th>0</th>\n",
              "      <th>1</th>\n",
              "      <th>2</th>\n",
              "      <th>3</th>\n",
              "      <th>4</th>\n",
              "      <th>5</th>\n",
              "      <th>6</th>\n",
              "      <th>7</th>\n",
              "      <th>8</th>\n",
              "      <th>9</th>\n",
              "      <th>...</th>\n",
              "      <th>22</th>\n",
              "      <th>23</th>\n",
              "      <th>24</th>\n",
              "      <th>25</th>\n",
              "      <th>26</th>\n",
              "      <th>27</th>\n",
              "      <th>28</th>\n",
              "      <th>29</th>\n",
              "      <th>30</th>\n",
              "      <th>31</th>\n",
              "    </tr>\n",
              "  </thead>\n",
              "  <tbody>\n",
              "    <tr>\n",
              "      <th>count</th>\n",
              "      <td>2131.00</td>\n",
              "      <td>2131.00</td>\n",
              "      <td>2131.00</td>\n",
              "      <td>2131.00</td>\n",
              "      <td>2131.00</td>\n",
              "      <td>2131.00</td>\n",
              "      <td>2131.00</td>\n",
              "      <td>2131.00</td>\n",
              "      <td>2131.00</td>\n",
              "      <td>2131.00</td>\n",
              "      <td>...</td>\n",
              "      <td>2131.00</td>\n",
              "      <td>2131.00</td>\n",
              "      <td>2131.00</td>\n",
              "      <td>2131.00</td>\n",
              "      <td>2131.00</td>\n",
              "      <td>2131.00</td>\n",
              "      <td>2131.00</td>\n",
              "      <td>2131.00</td>\n",
              "      <td>2131.00</td>\n",
              "      <td>2131.0</td>\n",
              "    </tr>\n",
              "    <tr>\n",
              "      <th>mean</th>\n",
              "      <td>-0.04</td>\n",
              "      <td>0.01</td>\n",
              "      <td>-0.06</td>\n",
              "      <td>0.01</td>\n",
              "      <td>0.03</td>\n",
              "      <td>0.61</td>\n",
              "      <td>0.33</td>\n",
              "      <td>0.01</td>\n",
              "      <td>0.01</td>\n",
              "      <td>0.08</td>\n",
              "      <td>...</td>\n",
              "      <td>0.14</td>\n",
              "      <td>0.05</td>\n",
              "      <td>0.01</td>\n",
              "      <td>0.30</td>\n",
              "      <td>0.32</td>\n",
              "      <td>0.38</td>\n",
              "      <td>0.13</td>\n",
              "      <td>0.66</td>\n",
              "      <td>0.11</td>\n",
              "      <td>0.1</td>\n",
              "    </tr>\n",
              "    <tr>\n",
              "      <th>std</th>\n",
              "      <td>1.01</td>\n",
              "      <td>1.04</td>\n",
              "      <td>0.98</td>\n",
              "      <td>1.01</td>\n",
              "      <td>0.16</td>\n",
              "      <td>0.49</td>\n",
              "      <td>0.47</td>\n",
              "      <td>0.11</td>\n",
              "      <td>0.12</td>\n",
              "      <td>0.27</td>\n",
              "      <td>...</td>\n",
              "      <td>0.34</td>\n",
              "      <td>0.23</td>\n",
              "      <td>0.11</td>\n",
              "      <td>0.46</td>\n",
              "      <td>0.47</td>\n",
              "      <td>0.49</td>\n",
              "      <td>0.34</td>\n",
              "      <td>0.47</td>\n",
              "      <td>0.31</td>\n",
              "      <td>0.3</td>\n",
              "    </tr>\n",
              "    <tr>\n",
              "      <th>min</th>\n",
              "      <td>-1.96</td>\n",
              "      <td>-1.29</td>\n",
              "      <td>-1.75</td>\n",
              "      <td>-0.80</td>\n",
              "      <td>0.00</td>\n",
              "      <td>0.00</td>\n",
              "      <td>0.00</td>\n",
              "      <td>0.00</td>\n",
              "      <td>0.00</td>\n",
              "      <td>0.00</td>\n",
              "      <td>...</td>\n",
              "      <td>0.00</td>\n",
              "      <td>0.00</td>\n",
              "      <td>0.00</td>\n",
              "      <td>0.00</td>\n",
              "      <td>0.00</td>\n",
              "      <td>0.00</td>\n",
              "      <td>0.00</td>\n",
              "      <td>0.00</td>\n",
              "      <td>0.00</td>\n",
              "      <td>0.0</td>\n",
              "    </tr>\n",
              "    <tr>\n",
              "      <th>25%</th>\n",
              "      <td>-0.88</td>\n",
              "      <td>-0.76</td>\n",
              "      <td>-0.78</td>\n",
              "      <td>-0.80</td>\n",
              "      <td>0.00</td>\n",
              "      <td>0.00</td>\n",
              "      <td>0.00</td>\n",
              "      <td>0.00</td>\n",
              "      <td>0.00</td>\n",
              "      <td>0.00</td>\n",
              "      <td>...</td>\n",
              "      <td>0.00</td>\n",
              "      <td>0.00</td>\n",
              "      <td>0.00</td>\n",
              "      <td>0.00</td>\n",
              "      <td>0.00</td>\n",
              "      <td>0.00</td>\n",
              "      <td>0.00</td>\n",
              "      <td>0.00</td>\n",
              "      <td>0.00</td>\n",
              "      <td>0.0</td>\n",
              "    </tr>\n",
              "    <tr>\n",
              "      <th>50%</th>\n",
              "      <td>-0.05</td>\n",
              "      <td>-0.24</td>\n",
              "      <td>-0.15</td>\n",
              "      <td>-0.80</td>\n",
              "      <td>0.00</td>\n",
              "      <td>1.00</td>\n",
              "      <td>0.00</td>\n",
              "      <td>0.00</td>\n",
              "      <td>0.00</td>\n",
              "      <td>0.00</td>\n",
              "      <td>...</td>\n",
              "      <td>0.00</td>\n",
              "      <td>0.00</td>\n",
              "      <td>0.00</td>\n",
              "      <td>0.00</td>\n",
              "      <td>0.00</td>\n",
              "      <td>0.00</td>\n",
              "      <td>0.00</td>\n",
              "      <td>1.00</td>\n",
              "      <td>0.00</td>\n",
              "      <td>0.0</td>\n",
              "    </tr>\n",
              "    <tr>\n",
              "      <th>75%</th>\n",
              "      <td>0.74</td>\n",
              "      <td>0.56</td>\n",
              "      <td>0.64</td>\n",
              "      <td>0.67</td>\n",
              "      <td>0.00</td>\n",
              "      <td>1.00</td>\n",
              "      <td>1.00</td>\n",
              "      <td>0.00</td>\n",
              "      <td>0.00</td>\n",
              "      <td>0.00</td>\n",
              "      <td>...</td>\n",
              "      <td>0.00</td>\n",
              "      <td>0.00</td>\n",
              "      <td>0.00</td>\n",
              "      <td>1.00</td>\n",
              "      <td>1.00</td>\n",
              "      <td>1.00</td>\n",
              "      <td>0.00</td>\n",
              "      <td>1.00</td>\n",
              "      <td>0.00</td>\n",
              "      <td>0.0</td>\n",
              "    </tr>\n",
              "    <tr>\n",
              "      <th>max</th>\n",
              "      <td>2.01</td>\n",
              "      <td>4.79</td>\n",
              "      <td>1.99</td>\n",
              "      <td>2.14</td>\n",
              "      <td>1.00</td>\n",
              "      <td>1.00</td>\n",
              "      <td>1.00</td>\n",
              "      <td>1.00</td>\n",
              "      <td>1.00</td>\n",
              "      <td>1.00</td>\n",
              "      <td>...</td>\n",
              "      <td>1.00</td>\n",
              "      <td>1.00</td>\n",
              "      <td>1.00</td>\n",
              "      <td>1.00</td>\n",
              "      <td>1.00</td>\n",
              "      <td>1.00</td>\n",
              "      <td>1.00</td>\n",
              "      <td>1.00</td>\n",
              "      <td>1.00</td>\n",
              "      <td>1.0</td>\n",
              "    </tr>\n",
              "  </tbody>\n",
              "</table>\n",
              "<p>8 rows × 32 columns</p>\n",
              "</div>\n",
              "      <button class=\"colab-df-convert\" onclick=\"convertToInteractive('df-d7f2cdce-657a-4194-93ab-00fae296b043')\"\n",
              "              title=\"Convert this dataframe to an interactive table.\"\n",
              "              style=\"display:none;\">\n",
              "        \n",
              "  <svg xmlns=\"http://www.w3.org/2000/svg\" height=\"24px\"viewBox=\"0 0 24 24\"\n",
              "       width=\"24px\">\n",
              "    <path d=\"M0 0h24v24H0V0z\" fill=\"none\"/>\n",
              "    <path d=\"M18.56 5.44l.94 2.06.94-2.06 2.06-.94-2.06-.94-.94-2.06-.94 2.06-2.06.94zm-11 1L8.5 8.5l.94-2.06 2.06-.94-2.06-.94L8.5 2.5l-.94 2.06-2.06.94zm10 10l.94 2.06.94-2.06 2.06-.94-2.06-.94-.94-2.06-.94 2.06-2.06.94z\"/><path d=\"M17.41 7.96l-1.37-1.37c-.4-.4-.92-.59-1.43-.59-.52 0-1.04.2-1.43.59L10.3 9.45l-7.72 7.72c-.78.78-.78 2.05 0 2.83L4 21.41c.39.39.9.59 1.41.59.51 0 1.02-.2 1.41-.59l7.78-7.78 2.81-2.81c.8-.78.8-2.07 0-2.86zM5.41 20L4 18.59l7.72-7.72 1.47 1.35L5.41 20z\"/>\n",
              "  </svg>\n",
              "      </button>\n",
              "      \n",
              "  <style>\n",
              "    .colab-df-container {\n",
              "      display:flex;\n",
              "      flex-wrap:wrap;\n",
              "      gap: 12px;\n",
              "    }\n",
              "\n",
              "    .colab-df-convert {\n",
              "      background-color: #E8F0FE;\n",
              "      border: none;\n",
              "      border-radius: 50%;\n",
              "      cursor: pointer;\n",
              "      display: none;\n",
              "      fill: #1967D2;\n",
              "      height: 32px;\n",
              "      padding: 0 0 0 0;\n",
              "      width: 32px;\n",
              "    }\n",
              "\n",
              "    .colab-df-convert:hover {\n",
              "      background-color: #E2EBFA;\n",
              "      box-shadow: 0px 1px 2px rgba(60, 64, 67, 0.3), 0px 1px 3px 1px rgba(60, 64, 67, 0.15);\n",
              "      fill: #174EA6;\n",
              "    }\n",
              "\n",
              "    [theme=dark] .colab-df-convert {\n",
              "      background-color: #3B4455;\n",
              "      fill: #D2E3FC;\n",
              "    }\n",
              "\n",
              "    [theme=dark] .colab-df-convert:hover {\n",
              "      background-color: #434B5C;\n",
              "      box-shadow: 0px 1px 3px 1px rgba(0, 0, 0, 0.15);\n",
              "      filter: drop-shadow(0px 1px 2px rgba(0, 0, 0, 0.3));\n",
              "      fill: #FFFFFF;\n",
              "    }\n",
              "  </style>\n",
              "\n",
              "      <script>\n",
              "        const buttonEl =\n",
              "          document.querySelector('#df-d7f2cdce-657a-4194-93ab-00fae296b043 button.colab-df-convert');\n",
              "        buttonEl.style.display =\n",
              "          google.colab.kernel.accessAllowed ? 'block' : 'none';\n",
              "\n",
              "        async function convertToInteractive(key) {\n",
              "          const element = document.querySelector('#df-d7f2cdce-657a-4194-93ab-00fae296b043');\n",
              "          const dataTable =\n",
              "            await google.colab.kernel.invokeFunction('convertToInteractive',\n",
              "                                                     [key], {});\n",
              "          if (!dataTable) return;\n",
              "\n",
              "          const docLinkHtml = 'Like what you see? Visit the ' +\n",
              "            '<a target=\"_blank\" href=https://colab.research.google.com/notebooks/data_table.ipynb>data table notebook</a>'\n",
              "            + ' to learn more about interactive tables.';\n",
              "          element.innerHTML = '';\n",
              "          dataTable['output_type'] = 'display_data';\n",
              "          await google.colab.output.renderOutput(dataTable, element);\n",
              "          const docLink = document.createElement('div');\n",
              "          docLink.innerHTML = docLinkHtml;\n",
              "          element.appendChild(docLink);\n",
              "        }\n",
              "      </script>\n",
              "    </div>\n",
              "  </div>\n",
              "  "
            ]
          },
          "metadata": {},
          "execution_count": 29
        }
      ],
      "source": [
        "X_test_viz.describe().round(2)"
      ]
    },
    {
      "cell_type": "markdown",
      "metadata": {
        "id": "KODNm13j-Ims"
      },
      "source": [
        "# Prediction Model"
      ]
    },
    {
      "cell_type": "code",
      "execution_count": 30,
      "metadata": {
        "colab": {
          "base_uri": "https://localhost:8080/",
          "height": 349
        },
        "id": "ObaDuPN98itB",
        "outputId": "868e75d2-7f66-4cf3-f60c-3a50616aded4"
      },
      "outputs": [
        {
          "output_type": "display_data",
          "data": {
            "text/plain": [
              "<Figure size 432x288 with 2 Axes>"
            ],
            "image/png": "[encoded data removed]"
          },
          "metadata": {
            "needs_background": "light"
          }
        }
      ],
      "source": [
        "corr = df1.corr()\n",
        "sns.heatmap(data=corr, annot=True, linewidth=0.5);"
      ]
    },
    {
      "cell_type": "markdown",
      "metadata": {
        "id": "dmgEUxwh9h_o"
      },
      "source": [
        "Quickly observing any correlation between the numerical data columns, the only two columns with any significant correlation is Item MRP and Item Outlet Sales."
      ]
    },
    {
      "cell_type": "markdown",
      "metadata": {
        "id": "FOZTDYgQ26vZ"
      },
      "source": [
        "## Functions"
      ]
    },
    {
      "cell_type": "code",
      "execution_count": 31,
      "metadata": {
        "id": "MT64sBtt28BS"
      },
      "outputs": [],
      "source": [
        "# Evaluation Function\n",
        "def eval(yog, y_pred, i):\n",
        "    mae = mean_absolute_error(yog, y_pred)\n",
        "    mse = mean_squared_error(yog, y_pred)\n",
        "    rmse = np.sqrt(mse)\n",
        "    r2 = r2_score(yog, y_pred)\n",
        "    print(f\"\"\"{i}\n",
        "    MAE Score: {mae}\n",
        "    MSE Score: {mse}\n",
        "    RMSE Score: {rmse}\n",
        "    R2 Score: {r2}\n",
        "    \"\"\")"
      ]
    },
    {
      "cell_type": "code",
      "execution_count": 32,
      "metadata": {
        "id": "eaz315KRBgt3"
      },
      "outputs": [],
      "source": [
        "# Parameter Change Function\n",
        "def mod(tree_model, arg):\n",
        "    for i in arg:\n",
        "        if arg == est_list:\n",
        "            tree = tree_model(n_estimators=i, random_state=42)\n",
        "        elif arg == depth_list:\n",
        "            tree = tree_model(max_depth=i, random_state=42)\n",
        "        elif arg == max_feat:\n",
        "            tree = tree_model(max_features=i, random_state=42)\n",
        "        pipe = make_pipeline(preprocessor, tree)\n",
        "        pipe.fit(X_train, y_train)\n",
        "        tr = pipe.score(X_train, y_train)\n",
        "        ts = pipe.score(X_test, y_test)\n",
        "        scores.loc[i, 'Train Score'] = tr\n",
        "        scores.loc[i, 'Test Score'] = ts"
      ]
    },
    {
      "cell_type": "code",
      "execution_count": 33,
      "metadata": {
        "id": "hgBn_yfYI1uq"
      },
      "outputs": [],
      "source": [
        "# Visualization Function\n",
        "def viz(list_type):\n",
        "    fig, axes = plt.subplots(ncols=1, figsize=(8, 5))\n",
        "    axes.grid(c='grey')\n",
        "\n",
        "    sns.lineplot(data=scores, x=list_type, y='Test Score', label='Test Data')\n",
        "    sns.lineplot(data=scores, x=list_type, y='Train Score', label='Train Data')\n",
        "    axes.set_xticks(list_type)\n",
        "    axes.set_ylabel('R2 Score', fontsize=15)\n",
        "    axes.set_xlim(left=min(list_type), right=max(list_type))\n",
        "    axes.set_ylim(bottom=min(scores['Test Score'] - 0.05), top=(max(scores['Train Score']) + 0.05))\n",
        "    plt.legend()\n",
        "    if list_type == depth_list:\n",
        "        axes.set_xlabel('Depth', fontsize=15)\n",
        "    elif list_type == est_list:\n",
        "        axes.set_xlabel('Number of Estimators', fontsize=15)\n",
        "    elif list_type == max_feat:\n",
        "        axes.set_xlabel('Number of Features', fontsize=15)"
      ]
    },
    {
      "cell_type": "markdown",
      "metadata": {
        "id": "EAk4E5812znn"
      },
      "source": [
        "## Linear Regression Model"
      ]
    },
    {
      "cell_type": "code",
      "execution_count": 34,
      "metadata": {
        "colab": {
          "base_uri": "https://localhost:8080/",
          "height": 227
        },
        "id": "ITlfAZKC21hX",
        "outputId": "e0b828c8-5a4d-4a0a-f1ed-d52d84a4995a"
      },
      "outputs": [
        {
          "output_type": "execute_result",
          "data": {
            "text/plain": [
              "Pipeline(steps=[('columntransformer',\n",
              "                 ColumnTransformer(remainder='passthrough',\n",
              "                                   transformers=[('pipeline',\n",
              "                                                  Pipeline(steps=[('simpleimputer',\n",
              "                                                                   SimpleImputer(strategy='median')),\n",
              "                                                                  ('standardscaler',\n",
              "                                                                   StandardScaler())]),\n",
              "                                                  <sklearn.compose._column_transformer.make_column_selector object at 0x7efe75301050>),\n",
              "                                                 ('onehotencoder',\n",
              "                                                  OneHotEncoder(handle_unknown='ignore',\n",
              "                                                                sparse=False),\n",
              "                                                  <sklearn.compose._column_transformer.make_column_selector object at 0x7efe75301090>)])),\n",
              "                ('linearregression', LinearRegression())])"
            ],
            "text/html": [
              "<style>#sk-2943f246-b69b-48e7-a9d1-fafee00ffb46 {color: black;background-color: white;}#sk-2943f246-b69b-48e7-a9d1-fafee00ffb46 pre{padding: 0;}#sk-2943f246-b69b-48e7-a9d1-fafee00ffb46 div.sk-toggleable {background-color: white;}#sk-2943f246-b69b-48e7-a9d1-fafee00ffb46 label.sk-toggleable__label {cursor: pointer;display: block;width: 100%;margin-bottom: 0;padding: 0.3em;box-sizing: border-box;text-align: center;}#sk-2943f246-b69b-48e7-a9d1-fafee00ffb46 label.sk-toggleable__label-arrow:before {content: \"▸\";float: left;margin-right: 0.25em;color: #696969;}#sk-2943f246-b69b-48e7-a9d1-fafee00ffb46 label.sk-toggleable__label-arrow:hover:before {color: black;}#sk-2943f246-b69b-48e7-a9d1-fafee00ffb46 div.sk-estimator:hover label.sk-toggleable__label-arrow:before {color: black;}#sk-2943f246-b69b-48e7-a9d1-fafee00ffb46 div.sk-toggleable__content {max-height: 0;max-width: 0;overflow: hidden;text-align: left;background-color: #f0f8ff;}#sk-2943f246-b69b-48e7-a9d1-fafee00ffb46 div.sk-toggleable__content pre {margin: 0.2em;color: black;border-radius: 0.25em;background-color: #f0f8ff;}#sk-2943f246-b69b-48e7-a9d1-fafee00ffb46 input.sk-toggleable__control:checked~div.sk-toggleable__content {max-height: 200px;max-width: 100%;overflow: auto;}#sk-2943f246-b69b-48e7-a9d1-fafee00ffb46 input.sk-toggleable__control:checked~label.sk-toggleable__label-arrow:before {content: \"▾\";}#sk-2943f246-b69b-48e7-a9d1-fafee00ffb46 div.sk-estimator input.sk-toggleable__control:checked~label.sk-toggleable__label {background-color: #d4ebff;}#sk-2943f246-b69b-48e7-a9d1-fafee00ffb46 div.sk-label input.sk-toggleable__control:checked~label.sk-toggleable__label {background-color: #d4ebff;}#sk-2943f246-b69b-48e7-a9d1-fafee00ffb46 input.sk-hidden--visually {border: 0;clip: rect(1px 1px 1px 1px);clip: rect(1px, 1px, 1px, 1px);height: 1px;margin: -1px;overflow: hidden;padding: 0;position: absolute;width: 1px;}#sk-2943f246-b69b-48e7-a9d1-fafee00ffb46 div.sk-estimator {font-family: monospace;background-color: #f0f8ff;border: 1px dotted black;border-radius: 0.25em;box-sizing: border-box;margin-bottom: 0.5em;}#sk-2943f246-b69b-48e7-a9d1-fafee00ffb46 div.sk-estimator:hover {background-color: #d4ebff;}#sk-2943f246-b69b-48e7-a9d1-fafee00ffb46 div.sk-parallel-item::after {content: \"\";width: 100%;border-bottom: 1px solid gray;flex-grow: 1;}#sk-2943f246-b69b-48e7-a9d1-fafee00ffb46 div.sk-label:hover label.sk-toggleable__label {background-color: #d4ebff;}#sk-2943f246-b69b-48e7-a9d1-fafee00ffb46 div.sk-serial::before {content: \"\";position: absolute;border-left: 1px solid gray;box-sizing: border-box;top: 2em;bottom: 0;left: 50%;}#sk-2943f246-b69b-48e7-a9d1-fafee00ffb46 div.sk-serial {display: flex;flex-direction: column;align-items: center;background-color: white;padding-right: 0.2em;padding-left: 0.2em;}#sk-2943f246-b69b-48e7-a9d1-fafee00ffb46 div.sk-item {z-index: 1;}#sk-2943f246-b69b-48e7-a9d1-fafee00ffb46 div.sk-parallel {display: flex;align-items: stretch;justify-content: center;background-color: white;}#sk-2943f246-b69b-48e7-a9d1-fafee00ffb46 div.sk-parallel::before {content: \"\";position: absolute;border-left: 1px solid gray;box-sizing: border-box;top: 2em;bottom: 0;left: 50%;}#sk-2943f246-b69b-48e7-a9d1-fafee00ffb46 div.sk-parallel-item {display: flex;flex-direction: column;position: relative;background-color: white;}#sk-2943f246-b69b-48e7-a9d1-fafee00ffb46 div.sk-parallel-item:first-child::after {align-self: flex-end;width: 50%;}#sk-2943f246-b69b-48e7-a9d1-fafee00ffb46 div.sk-parallel-item:last-child::after {align-self: flex-start;width: 50%;}#sk-2943f246-b69b-48e7-a9d1-fafee00ffb46 div.sk-parallel-item:only-child::after {width: 0;}#sk-2943f246-b69b-48e7-a9d1-fafee00ffb46 div.sk-dashed-wrapped {border: 1px dashed gray;margin: 0 0.4em 0.5em 0.4em;box-sizing: border-box;padding-bottom: 0.4em;background-color: white;position: relative;}#sk-2943f246-b69b-48e7-a9d1-fafee00ffb46 div.sk-label label {font-family: monospace;font-weight: bold;background-color: white;display: inline-block;line-height: 1.2em;}#sk-2943f246-b69b-48e7-a9d1-fafee00ffb46 div.sk-label-container {position: relative;z-index: 2;text-align: center;}#sk-2943f246-b69b-48e7-a9d1-fafee00ffb46 div.sk-container {/* jupyter's `normalize.less` sets `[hidden] { display: none; }` but bootstrap.min.css set `[hidden] { display: none !important; }` so we also need the `!important` here to be able to override the default hidden behavior on the sphinx rendered scikit-learn.org. See: https://github.com/scikit-learn/scikit-learn/issues/21755 */display: inline-block !important;position: relative;}#sk-2943f246-b69b-48e7-a9d1-fafee00ffb46 div.sk-text-repr-fallback {display: none;}</style><div id=\"sk-2943f246-b69b-48e7-a9d1-fafee00ffb46\" class=\"sk-top-container\"><div class=\"sk-text-repr-fallback\"><pre>Pipeline(steps=[(&#x27;columntransformer&#x27;,\n",
              "                 ColumnTransformer(remainder=&#x27;passthrough&#x27;,\n",
              "                                   transformers=[(&#x27;pipeline&#x27;,\n",
              "                                                  Pipeline(steps=[(&#x27;simpleimputer&#x27;,\n",
              "                                                                   SimpleImputer(strategy=&#x27;median&#x27;)),\n",
              "                                                                  (&#x27;standardscaler&#x27;,\n",
              "                                                                   StandardScaler())]),\n",
              "                                                  &lt;sklearn.compose._column_transformer.make_column_selector object at 0x7efe75301050&gt;),\n",
              "                                                 (&#x27;onehotencoder&#x27;,\n",
              "                                                  OneHotEncoder(handle_unknown=&#x27;ignore&#x27;,\n",
              "                                                                sparse=False),\n",
              "                                                  &lt;sklearn.compose._column_transformer.make_column_selector object at 0x7efe75301090&gt;)])),\n",
              "                (&#x27;linearregression&#x27;, LinearRegression())])</pre><b>Please rerun this cell to show the HTML repr or trust the notebook.</b></div><div class=\"sk-container\" hidden><div class=\"sk-item sk-dashed-wrapped\"><div class=\"sk-label-container\"><div class=\"sk-label sk-toggleable\"><input class=\"sk-toggleable__control sk-hidden--visually\" id=\"93d87c0e-dbaa-489c-8716-f1b93a68cb02\" type=\"checkbox\" ><label for=\"93d87c0e-dbaa-489c-8716-f1b93a68cb02\" class=\"sk-toggleable__label sk-toggleable__label-arrow\">Pipeline</label><div class=\"sk-toggleable__content\"><pre>Pipeline(steps=[(&#x27;columntransformer&#x27;,\n",
              "                 ColumnTransformer(remainder=&#x27;passthrough&#x27;,\n",
              "                                   transformers=[(&#x27;pipeline&#x27;,\n",
              "                                                  Pipeline(steps=[(&#x27;simpleimputer&#x27;,\n",
              "                                                                   SimpleImputer(strategy=&#x27;median&#x27;)),\n",
              "                                                                  (&#x27;standardscaler&#x27;,\n",
              "                                                                   StandardScaler())]),\n",
              "                                                  &lt;sklearn.compose._column_transformer.make_column_selector object at 0x7efe75301050&gt;),\n",
              "                                                 (&#x27;onehotencoder&#x27;,\n",
              "                                                  OneHotEncoder(handle_unknown=&#x27;ignore&#x27;,\n",
              "                                                                sparse=False),\n",
              "                                                  &lt;sklearn.compose._column_transformer.make_column_selector object at 0x7efe75301090&gt;)])),\n",
              "                (&#x27;linearregression&#x27;, LinearRegression())])</pre></div></div></div><div class=\"sk-serial\"><div class=\"sk-item sk-dashed-wrapped\"><div class=\"sk-label-container\"><div class=\"sk-label sk-toggleable\"><input class=\"sk-toggleable__control sk-hidden--visually\" id=\"807865fe-7359-45cc-87b0-b1bd55aed31f\" type=\"checkbox\" ><label for=\"807865fe-7359-45cc-87b0-b1bd55aed31f\" class=\"sk-toggleable__label sk-toggleable__label-arrow\">columntransformer: ColumnTransformer</label><div class=\"sk-toggleable__content\"><pre>ColumnTransformer(remainder=&#x27;passthrough&#x27;,\n",
              "                  transformers=[(&#x27;pipeline&#x27;,\n",
              "                                 Pipeline(steps=[(&#x27;simpleimputer&#x27;,\n",
              "                                                  SimpleImputer(strategy=&#x27;median&#x27;)),\n",
              "                                                 (&#x27;standardscaler&#x27;,\n",
              "                                                  StandardScaler())]),\n",
              "                                 &lt;sklearn.compose._column_transformer.make_column_selector object at 0x7efe75301050&gt;),\n",
              "                                (&#x27;onehotencoder&#x27;,\n",
              "                                 OneHotEncoder(handle_unknown=&#x27;ignore&#x27;,\n",
              "                                               sparse=False),\n",
              "                                 &lt;sklearn.compose._column_transformer.make_column_selector object at 0x7efe75301090&gt;)])</pre></div></div></div><div class=\"sk-parallel\"><div class=\"sk-parallel-item\"><div class=\"sk-item\"><div class=\"sk-label-container\"><div class=\"sk-label sk-toggleable\"><input class=\"sk-toggleable__control sk-hidden--visually\" id=\"c9f9066d-bfa9-4830-97d3-1072e3a299b9\" type=\"checkbox\" ><label for=\"c9f9066d-bfa9-4830-97d3-1072e3a299b9\" class=\"sk-toggleable__label sk-toggleable__label-arrow\">pipeline</label><div class=\"sk-toggleable__content\"><pre>&lt;sklearn.compose._column_transformer.make_column_selector object at 0x7efe75301050&gt;</pre></div></div></div><div class=\"sk-serial\"><div class=\"sk-item\"><div class=\"sk-serial\"><div class=\"sk-item\"><div class=\"sk-estimator sk-toggleable\"><input class=\"sk-toggleable__control sk-hidden--visually\" id=\"7c9b7e1e-f5c8-49f1-9092-8678232dca00\" type=\"checkbox\" ><label for=\"7c9b7e1e-f5c8-49f1-9092-8678232dca00\" class=\"sk-toggleable__label sk-toggleable__label-arrow\">SimpleImputer</label><div class=\"sk-toggleable__content\"><pre>SimpleImputer(strategy=&#x27;median&#x27;)</pre></div></div></div><div class=\"sk-item\"><div class=\"sk-estimator sk-toggleable\"><input class=\"sk-toggleable__control sk-hidden--visually\" id=\"225bc0c5-60f1-4064-97b8-46b43a896c16\" type=\"checkbox\" ><label for=\"225bc0c5-60f1-4064-97b8-46b43a896c16\" class=\"sk-toggleable__label sk-toggleable__label-arrow\">StandardScaler</label><div class=\"sk-toggleable__content\"><pre>StandardScaler()</pre></div></div></div></div></div></div></div></div><div class=\"sk-parallel-item\"><div class=\"sk-item\"><div class=\"sk-label-container\"><div class=\"sk-label sk-toggleable\"><input class=\"sk-toggleable__control sk-hidden--visually\" id=\"ff69e473-2d78-4da3-986c-673898c5f8c7\" type=\"checkbox\" ><label for=\"ff69e473-2d78-4da3-986c-673898c5f8c7\" class=\"sk-toggleable__label sk-toggleable__label-arrow\">onehotencoder</label><div class=\"sk-toggleable__content\"><pre>&lt;sklearn.compose._column_transformer.make_column_selector object at 0x7efe75301090&gt;</pre></div></div></div><div class=\"sk-serial\"><div class=\"sk-item\"><div class=\"sk-estimator sk-toggleable\"><input class=\"sk-toggleable__control sk-hidden--visually\" id=\"f3e4f12c-2d27-4dce-8754-5a212201c087\" type=\"checkbox\" ><label for=\"f3e4f12c-2d27-4dce-8754-5a212201c087\" class=\"sk-toggleable__label sk-toggleable__label-arrow\">OneHotEncoder</label><div class=\"sk-toggleable__content\"><pre>OneHotEncoder(handle_unknown=&#x27;ignore&#x27;, sparse=False)</pre></div></div></div></div></div></div><div class=\"sk-parallel-item\"><div class=\"sk-item\"><div class=\"sk-label-container\"><div class=\"sk-label sk-toggleable\"><input class=\"sk-toggleable__control sk-hidden--visually\" id=\"5970238e-2abe-47fc-8d53-0fce6bf39a71\" type=\"checkbox\" ><label for=\"5970238e-2abe-47fc-8d53-0fce6bf39a71\" class=\"sk-toggleable__label sk-toggleable__label-arrow\">remainder</label><div class=\"sk-toggleable__content\"><pre>[]</pre></div></div></div><div class=\"sk-serial\"><div class=\"sk-item\"><div class=\"sk-estimator sk-toggleable\"><input class=\"sk-toggleable__control sk-hidden--visually\" id=\"dd6340e0-e821-413a-b953-cd68847a0f42\" type=\"checkbox\" ><label for=\"dd6340e0-e821-413a-b953-cd68847a0f42\" class=\"sk-toggleable__label sk-toggleable__label-arrow\">passthrough</label><div class=\"sk-toggleable__content\"><pre>passthrough</pre></div></div></div></div></div></div></div></div><div class=\"sk-item\"><div class=\"sk-estimator sk-toggleable\"><input class=\"sk-toggleable__control sk-hidden--visually\" id=\"4a238ff9-1ad3-4b5b-9bc0-662c6f6b22a3\" type=\"checkbox\" ><label for=\"4a238ff9-1ad3-4b5b-9bc0-662c6f6b22a3\" class=\"sk-toggleable__label sk-toggleable__label-arrow\">LinearRegression</label><div class=\"sk-toggleable__content\"><pre>LinearRegression()</pre></div></div></div></div></div></div></div>"
            ]
          },
          "metadata": {},
          "execution_count": 34
        }
      ],
      "source": [
        "# Instantiate\n",
        "linreg = LinearRegression()\n",
        "# Pipeline\n",
        "lr_pipe = make_pipeline(preprocessor, linreg)\n",
        "# Fit Pipeline model to data\n",
        "lr_pipe.fit(X_train, y_train)"
      ]
    },
    {
      "cell_type": "code",
      "execution_count": 35,
      "metadata": {
        "id": "mXDzkLzV4NA1"
      },
      "outputs": [],
      "source": [
        "# Predictions\n",
        "train_pred = lr_pipe.predict(X_train)\n",
        "test_pred = lr_pipe.predict(X_test)"
      ]
    },
    {
      "cell_type": "code",
      "execution_count": 36,
      "metadata": {
        "colab": {
          "base_uri": "https://localhost:8080/"
        },
        "id": "ejATXm-Z4wHl",
        "outputId": "66aa9dc3-8a5a-4697-a531-97ea63be4bfa"
      },
      "outputs": [
        {
          "output_type": "stream",
          "name": "stdout",
          "text": [
            "Training Data\n",
            "    MAE Score: 847.5514172715895\n",
            "    MSE Score: 1299554.0566424213\n",
            "    RMSE Score: 1139.979849226477\n",
            "    R2 Score: 0.5608807205140047\n",
            "    \n",
            "Test Data\n",
            "    MAE Score: 806.5431954950727\n",
            "    MSE Score: 1199788.00528599\n",
            "    RMSE Score: 1095.348348830631\n",
            "    R2 Score: 0.5651330619543434\n",
            "    \n"
          ]
        }
      ],
      "source": [
        "# Evaluation\n",
        "eval(y_train, train_pred, 'Training Data')\n",
        "eval(y_test, test_pred, 'Test Data')"
      ]
    },
    {
      "cell_type": "markdown",
      "metadata": {
        "id": "wsFlvqYG5JZr"
      },
      "source": [
        "R2\n",
        "___\n",
        "Using a `Linear Regression` model, we can see that our model can only account for little more than 56% of the data. Which is not a good sign for a useful model as it only accounts for little more than half the data.\n",
        "\n",
        "MAE / RMSE\n",
        "___\n",
        "Looking at the `MAE` and `RMSE`, they are about ₹200 to ₹300 apart. This means there aren't many large errors for `RMSE` to punish, but we still have an error margin of ~₹800 to ~₹1,100 from our models predictions to the actual reported total outlet sales of any given item. Which in the context of the \" Item_Outlet_Sales \" column, which is our target vector, that is a very large amount. In some cases, the model is potentially doubling the predicting sales of an item. So, despite the `MAE` and `RMSE` being seemingly close together, the actual values they hold are far too large for me to recommend this model."
      ]
    },
    {
      "cell_type": "markdown",
      "metadata": {
        "id": "3m5xHYL578VW"
      },
      "source": [
        "## Random Forest Regression Model"
      ]
    },
    {
      "cell_type": "markdown",
      "metadata": {
        "id": "zsF8g6PW_ssu"
      },
      "source": [
        "### Initial Attempt"
      ]
    },
    {
      "cell_type": "code",
      "execution_count": 37,
      "metadata": {
        "colab": {
          "base_uri": "https://localhost:8080/",
          "height": 227
        },
        "id": "VU6nYDB5_VHI",
        "outputId": "ed132015-f20a-4a29-90a2-87a6bc7955cf"
      },
      "outputs": [
        {
          "output_type": "execute_result",
          "data": {
            "text/plain": [
              "Pipeline(steps=[('columntransformer',\n",
              "                 ColumnTransformer(remainder='passthrough',\n",
              "                                   transformers=[('pipeline',\n",
              "                                                  Pipeline(steps=[('simpleimputer',\n",
              "                                                                   SimpleImputer(strategy='median')),\n",
              "                                                                  ('standardscaler',\n",
              "                                                                   StandardScaler())]),\n",
              "                                                  <sklearn.compose._column_transformer.make_column_selector object at 0x7efe75301050>),\n",
              "                                                 ('onehotencoder',\n",
              "                                                  OneHotEncoder(handle_unknown='ignore',\n",
              "                                                                sparse=False),\n",
              "                                                  <sklearn.compose._column_transformer.make_column_selector object at 0x7efe75301090>)])),\n",
              "                ('randomforestregressor',\n",
              "                 RandomForestRegressor(random_state=42))])"
            ],
            "text/html": [
              "<style>#sk-e2f855d8-c93b-43e6-9e70-d50ff7b03d89 {color: black;background-color: white;}#sk-e2f855d8-c93b-43e6-9e70-d50ff7b03d89 pre{padding: 0;}#sk-e2f855d8-c93b-43e6-9e70-d50ff7b03d89 div.sk-toggleable {background-color: white;}#sk-e2f855d8-c93b-43e6-9e70-d50ff7b03d89 label.sk-toggleable__label {cursor: pointer;display: block;width: 100%;margin-bottom: 0;padding: 0.3em;box-sizing: border-box;text-align: center;}#sk-e2f855d8-c93b-43e6-9e70-d50ff7b03d89 label.sk-toggleable__label-arrow:before {content: \"▸\";float: left;margin-right: 0.25em;color: #696969;}#sk-e2f855d8-c93b-43e6-9e70-d50ff7b03d89 label.sk-toggleable__label-arrow:hover:before {color: black;}#sk-e2f855d8-c93b-43e6-9e70-d50ff7b03d89 div.sk-estimator:hover label.sk-toggleable__label-arrow:before {color: black;}#sk-e2f855d8-c93b-43e6-9e70-d50ff7b03d89 div.sk-toggleable__content {max-height: 0;max-width: 0;overflow: hidden;text-align: left;background-color: #f0f8ff;}#sk-e2f855d8-c93b-43e6-9e70-d50ff7b03d89 div.sk-toggleable__content pre {margin: 0.2em;color: black;border-radius: 0.25em;background-color: #f0f8ff;}#sk-e2f855d8-c93b-43e6-9e70-d50ff7b03d89 input.sk-toggleable__control:checked~div.sk-toggleable__content {max-height: 200px;max-width: 100%;overflow: auto;}#sk-e2f855d8-c93b-43e6-9e70-d50ff7b03d89 input.sk-toggleable__control:checked~label.sk-toggleable__label-arrow:before {content: \"▾\";}#sk-e2f855d8-c93b-43e6-9e70-d50ff7b03d89 div.sk-estimator input.sk-toggleable__control:checked~label.sk-toggleable__label {background-color: #d4ebff;}#sk-e2f855d8-c93b-43e6-9e70-d50ff7b03d89 div.sk-label input.sk-toggleable__control:checked~label.sk-toggleable__label {background-color: #d4ebff;}#sk-e2f855d8-c93b-43e6-9e70-d50ff7b03d89 input.sk-hidden--visually {border: 0;clip: rect(1px 1px 1px 1px);clip: rect(1px, 1px, 1px, 1px);height: 1px;margin: -1px;overflow: hidden;padding: 0;position: absolute;width: 1px;}#sk-e2f855d8-c93b-43e6-9e70-d50ff7b03d89 div.sk-estimator {font-family: monospace;background-color: #f0f8ff;border: 1px dotted black;border-radius: 0.25em;box-sizing: border-box;margin-bottom: 0.5em;}#sk-e2f855d8-c93b-43e6-9e70-d50ff7b03d89 div.sk-estimator:hover {background-color: #d4ebff;}#sk-e2f855d8-c93b-43e6-9e70-d50ff7b03d89 div.sk-parallel-item::after {content: \"\";width: 100%;border-bottom: 1px solid gray;flex-grow: 1;}#sk-e2f855d8-c93b-43e6-9e70-d50ff7b03d89 div.sk-label:hover label.sk-toggleable__label {background-color: #d4ebff;}#sk-e2f855d8-c93b-43e6-9e70-d50ff7b03d89 div.sk-serial::before {content: \"\";position: absolute;border-left: 1px solid gray;box-sizing: border-box;top: 2em;bottom: 0;left: 50%;}#sk-e2f855d8-c93b-43e6-9e70-d50ff7b03d89 div.sk-serial {display: flex;flex-direction: column;align-items: center;background-color: white;padding-right: 0.2em;padding-left: 0.2em;}#sk-e2f855d8-c93b-43e6-9e70-d50ff7b03d89 div.sk-item {z-index: 1;}#sk-e2f855d8-c93b-43e6-9e70-d50ff7b03d89 div.sk-parallel {display: flex;align-items: stretch;justify-content: center;background-color: white;}#sk-e2f855d8-c93b-43e6-9e70-d50ff7b03d89 div.sk-parallel::before {content: \"\";position: absolute;border-left: 1px solid gray;box-sizing: border-box;top: 2em;bottom: 0;left: 50%;}#sk-e2f855d8-c93b-43e6-9e70-d50ff7b03d89 div.sk-parallel-item {display: flex;flex-direction: column;position: relative;background-color: white;}#sk-e2f855d8-c93b-43e6-9e70-d50ff7b03d89 div.sk-parallel-item:first-child::after {align-self: flex-end;width: 50%;}#sk-e2f855d8-c93b-43e6-9e70-d50ff7b03d89 div.sk-parallel-item:last-child::after {align-self: flex-start;width: 50%;}#sk-e2f855d8-c93b-43e6-9e70-d50ff7b03d89 div.sk-parallel-item:only-child::after {width: 0;}#sk-e2f855d8-c93b-43e6-9e70-d50ff7b03d89 div.sk-dashed-wrapped {border: 1px dashed gray;margin: 0 0.4em 0.5em 0.4em;box-sizing: border-box;padding-bottom: 0.4em;background-color: white;position: relative;}#sk-e2f855d8-c93b-43e6-9e70-d50ff7b03d89 div.sk-label label {font-family: monospace;font-weight: bold;background-color: white;display: inline-block;line-height: 1.2em;}#sk-e2f855d8-c93b-43e6-9e70-d50ff7b03d89 div.sk-label-container {position: relative;z-index: 2;text-align: center;}#sk-e2f855d8-c93b-43e6-9e70-d50ff7b03d89 div.sk-container {/* jupyter's `normalize.less` sets `[hidden] { display: none; }` but bootstrap.min.css set `[hidden] { display: none !important; }` so we also need the `!important` here to be able to override the default hidden behavior on the sphinx rendered scikit-learn.org. See: https://github.com/scikit-learn/scikit-learn/issues/21755 */display: inline-block !important;position: relative;}#sk-e2f855d8-c93b-43e6-9e70-d50ff7b03d89 div.sk-text-repr-fallback {display: none;}</style><div id=\"sk-e2f855d8-c93b-43e6-9e70-d50ff7b03d89\" class=\"sk-top-container\"><div class=\"sk-text-repr-fallback\"><pre>Pipeline(steps=[(&#x27;columntransformer&#x27;,\n",
              "                 ColumnTransformer(remainder=&#x27;passthrough&#x27;,\n",
              "                                   transformers=[(&#x27;pipeline&#x27;,\n",
              "                                                  Pipeline(steps=[(&#x27;simpleimputer&#x27;,\n",
              "                                                                   SimpleImputer(strategy=&#x27;median&#x27;)),\n",
              "                                                                  (&#x27;standardscaler&#x27;,\n",
              "                                                                   StandardScaler())]),\n",
              "                                                  &lt;sklearn.compose._column_transformer.make_column_selector object at 0x7efe75301050&gt;),\n",
              "                                                 (&#x27;onehotencoder&#x27;,\n",
              "                                                  OneHotEncoder(handle_unknown=&#x27;ignore&#x27;,\n",
              "                                                                sparse=False),\n",
              "                                                  &lt;sklearn.compose._column_transformer.make_column_selector object at 0x7efe75301090&gt;)])),\n",
              "                (&#x27;randomforestregressor&#x27;,\n",
              "                 RandomForestRegressor(random_state=42))])</pre><b>Please rerun this cell to show the HTML repr or trust the notebook.</b></div><div class=\"sk-container\" hidden><div class=\"sk-item sk-dashed-wrapped\"><div class=\"sk-label-container\"><div class=\"sk-label sk-toggleable\"><input class=\"sk-toggleable__control sk-hidden--visually\" id=\"43cbc5c1-85e4-4bd2-a3b6-20d4f3ae2046\" type=\"checkbox\" ><label for=\"43cbc5c1-85e4-4bd2-a3b6-20d4f3ae2046\" class=\"sk-toggleable__label sk-toggleable__label-arrow\">Pipeline</label><div class=\"sk-toggleable__content\"><pre>Pipeline(steps=[(&#x27;columntransformer&#x27;,\n",
              "                 ColumnTransformer(remainder=&#x27;passthrough&#x27;,\n",
              "                                   transformers=[(&#x27;pipeline&#x27;,\n",
              "                                                  Pipeline(steps=[(&#x27;simpleimputer&#x27;,\n",
              "                                                                   SimpleImputer(strategy=&#x27;median&#x27;)),\n",
              "                                                                  (&#x27;standardscaler&#x27;,\n",
              "                                                                   StandardScaler())]),\n",
              "                                                  &lt;sklearn.compose._column_transformer.make_column_selector object at 0x7efe75301050&gt;),\n",
              "                                                 (&#x27;onehotencoder&#x27;,\n",
              "                                                  OneHotEncoder(handle_unknown=&#x27;ignore&#x27;,\n",
              "                                                                sparse=False),\n",
              "                                                  &lt;sklearn.compose._column_transformer.make_column_selector object at 0x7efe75301090&gt;)])),\n",
              "                (&#x27;randomforestregressor&#x27;,\n",
              "                 RandomForestRegressor(random_state=42))])</pre></div></div></div><div class=\"sk-serial\"><div class=\"sk-item sk-dashed-wrapped\"><div class=\"sk-label-container\"><div class=\"sk-label sk-toggleable\"><input class=\"sk-toggleable__control sk-hidden--visually\" id=\"f9d3f095-4677-4eb7-ab6c-97298ac2a627\" type=\"checkbox\" ><label for=\"f9d3f095-4677-4eb7-ab6c-97298ac2a627\" class=\"sk-toggleable__label sk-toggleable__label-arrow\">columntransformer: ColumnTransformer</label><div class=\"sk-toggleable__content\"><pre>ColumnTransformer(remainder=&#x27;passthrough&#x27;,\n",
              "                  transformers=[(&#x27;pipeline&#x27;,\n",
              "                                 Pipeline(steps=[(&#x27;simpleimputer&#x27;,\n",
              "                                                  SimpleImputer(strategy=&#x27;median&#x27;)),\n",
              "                                                 (&#x27;standardscaler&#x27;,\n",
              "                                                  StandardScaler())]),\n",
              "                                 &lt;sklearn.compose._column_transformer.make_column_selector object at 0x7efe75301050&gt;),\n",
              "                                (&#x27;onehotencoder&#x27;,\n",
              "                                 OneHotEncoder(handle_unknown=&#x27;ignore&#x27;,\n",
              "                                               sparse=False),\n",
              "                                 &lt;sklearn.compose._column_transformer.make_column_selector object at 0x7efe75301090&gt;)])</pre></div></div></div><div class=\"sk-parallel\"><div class=\"sk-parallel-item\"><div class=\"sk-item\"><div class=\"sk-label-container\"><div class=\"sk-label sk-toggleable\"><input class=\"sk-toggleable__control sk-hidden--visually\" id=\"4def394a-fa76-4957-a5ea-90652f4046da\" type=\"checkbox\" ><label for=\"4def394a-fa76-4957-a5ea-90652f4046da\" class=\"sk-toggleable__label sk-toggleable__label-arrow\">pipeline</label><div class=\"sk-toggleable__content\"><pre>&lt;sklearn.compose._column_transformer.make_column_selector object at 0x7efe75301050&gt;</pre></div></div></div><div class=\"sk-serial\"><div class=\"sk-item\"><div class=\"sk-serial\"><div class=\"sk-item\"><div class=\"sk-estimator sk-toggleable\"><input class=\"sk-toggleable__control sk-hidden--visually\" id=\"215e9111-17ea-4e6c-9c02-b630bcd16f2c\" type=\"checkbox\" ><label for=\"215e9111-17ea-4e6c-9c02-b630bcd16f2c\" class=\"sk-toggleable__label sk-toggleable__label-arrow\">SimpleImputer</label><div class=\"sk-toggleable__content\"><pre>SimpleImputer(strategy=&#x27;median&#x27;)</pre></div></div></div><div class=\"sk-item\"><div class=\"sk-estimator sk-toggleable\"><input class=\"sk-toggleable__control sk-hidden--visually\" id=\"53c2e65e-5181-48ea-818d-0e0d1b2209e6\" type=\"checkbox\" ><label for=\"53c2e65e-5181-48ea-818d-0e0d1b2209e6\" class=\"sk-toggleable__label sk-toggleable__label-arrow\">StandardScaler</label><div class=\"sk-toggleable__content\"><pre>StandardScaler()</pre></div></div></div></div></div></div></div></div><div class=\"sk-parallel-item\"><div class=\"sk-item\"><div class=\"sk-label-container\"><div class=\"sk-label sk-toggleable\"><input class=\"sk-toggleable__control sk-hidden--visually\" id=\"66ba421e-1aab-49ff-b0ea-f70f6c099cb1\" type=\"checkbox\" ><label for=\"66ba421e-1aab-49ff-b0ea-f70f6c099cb1\" class=\"sk-toggleable__label sk-toggleable__label-arrow\">onehotencoder</label><div class=\"sk-toggleable__content\"><pre>&lt;sklearn.compose._column_transformer.make_column_selector object at 0x7efe75301090&gt;</pre></div></div></div><div class=\"sk-serial\"><div class=\"sk-item\"><div class=\"sk-estimator sk-toggleable\"><input class=\"sk-toggleable__control sk-hidden--visually\" id=\"0cf368d2-2823-4f69-9bbd-c5b1c46dfa19\" type=\"checkbox\" ><label for=\"0cf368d2-2823-4f69-9bbd-c5b1c46dfa19\" class=\"sk-toggleable__label sk-toggleable__label-arrow\">OneHotEncoder</label><div class=\"sk-toggleable__content\"><pre>OneHotEncoder(handle_unknown=&#x27;ignore&#x27;, sparse=False)</pre></div></div></div></div></div></div><div class=\"sk-parallel-item\"><div class=\"sk-item\"><div class=\"sk-label-container\"><div class=\"sk-label sk-toggleable\"><input class=\"sk-toggleable__control sk-hidden--visually\" id=\"dc3ac76c-acbb-4b90-b539-6ff863813fa2\" type=\"checkbox\" ><label for=\"dc3ac76c-acbb-4b90-b539-6ff863813fa2\" class=\"sk-toggleable__label sk-toggleable__label-arrow\">remainder</label><div class=\"sk-toggleable__content\"><pre>[]</pre></div></div></div><div class=\"sk-serial\"><div class=\"sk-item\"><div class=\"sk-estimator sk-toggleable\"><input class=\"sk-toggleable__control sk-hidden--visually\" id=\"20fef404-b81c-4b76-8f50-b5449d74f1e0\" type=\"checkbox\" ><label for=\"20fef404-b81c-4b76-8f50-b5449d74f1e0\" class=\"sk-toggleable__label sk-toggleable__label-arrow\">passthrough</label><div class=\"sk-toggleable__content\"><pre>passthrough</pre></div></div></div></div></div></div></div></div><div class=\"sk-item\"><div class=\"sk-estimator sk-toggleable\"><input class=\"sk-toggleable__control sk-hidden--visually\" id=\"a1621003-c35b-40df-a1e1-1f506a77e5fe\" type=\"checkbox\" ><label for=\"a1621003-c35b-40df-a1e1-1f506a77e5fe\" class=\"sk-toggleable__label sk-toggleable__label-arrow\">RandomForestRegressor</label><div class=\"sk-toggleable__content\"><pre>RandomForestRegressor(random_state=42)</pre></div></div></div></div></div></div></div>"
            ]
          },
          "metadata": {},
          "execution_count": 37
        }
      ],
      "source": [
        "# Instantiate\n",
        "rf = RandomForestRegressor(random_state=42)\n",
        "# Pipeline\n",
        "rf_pipe = make_pipeline(preprocessor, rf)\n",
        "# Fit model to Data\n",
        "rf_pipe.fit(X_train, y_train)"
      ]
    },
    {
      "cell_type": "code",
      "execution_count": 38,
      "metadata": {
        "id": "zo9Veuw-_9Y4"
      },
      "outputs": [],
      "source": [
        "# Predictions\n",
        "train_pred = rf_pipe.predict(X_train)\n",
        "test_pred = rf_pipe.predict(X_test)"
      ]
    },
    {
      "cell_type": "code",
      "execution_count": 39,
      "metadata": {
        "colab": {
          "base_uri": "https://localhost:8080/"
        },
        "id": "vMmxQi5AAGrv",
        "outputId": "2bd48503-0aa0-42e0-af65-eeffbc84e122"
      },
      "outputs": [
        {
          "output_type": "stream",
          "name": "stdout",
          "text": [
            "Train Data\n",
            "    MAE Score: 300.84275078222777\n",
            "    MSE Score: 188291.9173321009\n",
            "    RMSE Score: 433.9261657610669\n",
            "    R2 Score: 0.9363761663862366\n",
            "    \n",
            "Test Data\n",
            "    MAE Score: 778.7052329835759\n",
            "    MSE Score: 1264764.3702360454\n",
            "    RMSE Score: 1124.6174328348486\n",
            "    R2 Score: 0.5415821740085747\n",
            "    \n"
          ]
        }
      ],
      "source": [
        "# Evaluation\n",
        "eval(y_train, train_pred, 'Train Data')\n",
        "eval(y_test, test_pred, 'Test Data')"
      ]
    },
    {
      "cell_type": "markdown",
      "metadata": {
        "id": "8WRATOZ7ARKT"
      },
      "source": [
        "R2\n",
        "___\n",
        "With default parameters we can see the model is `overfitting` as it has a near perfect score in the training data despite having slightly ove 0.54 on the Test data. This must be accounted for while fine tuning the model.\n",
        "\n",
        "MAE vs RMSE\n",
        "___\n",
        "The error in the train data is significantly smaller than the error in the test data, most likely due to `high variance`. The values are too large for the model in its current state to be of any use."
      ]
    },
    {
      "cell_type": "markdown",
      "metadata": {
        "id": "lt1Cp2nEBUdf"
      },
      "source": [
        "### Fine Tuning Model"
      ]
    },
    {
      "cell_type": "code",
      "execution_count": 40,
      "metadata": {
        "colab": {
          "base_uri": "https://localhost:8080/"
        },
        "id": "Gq7ZLixrBnYS",
        "outputId": "18371f97-2e25-43e0-94db-9879273b6b60"
      },
      "outputs": [
        {
          "output_type": "execute_result",
          "data": {
            "text/plain": [
              "{'bootstrap': True,\n",
              " 'ccp_alpha': 0.0,\n",
              " 'criterion': 'squared_error',\n",
              " 'max_depth': None,\n",
              " 'max_features': 'auto',\n",
              " 'max_leaf_nodes': None,\n",
              " 'max_samples': None,\n",
              " 'min_impurity_decrease': 0.0,\n",
              " 'min_samples_leaf': 1,\n",
              " 'min_samples_split': 2,\n",
              " 'min_weight_fraction_leaf': 0.0,\n",
              " 'n_estimators': 100,\n",
              " 'n_jobs': None,\n",
              " 'oob_score': False,\n",
              " 'random_state': 42,\n",
              " 'verbose': 0,\n",
              " 'warm_start': False}"
            ]
          },
          "metadata": {},
          "execution_count": 40
        }
      ],
      "source": [
        "# Checking current parameters\n",
        "rf.get_params()"
      ]
    },
    {
      "cell_type": "code",
      "execution_count": 41,
      "metadata": {
        "id": "HCeu_FjfGrhO"
      },
      "outputs": [],
      "source": [
        "# I will start by checking different values for n_estimators\n",
        "# Estimator list\n",
        "est_list = [50, 60, 70, 80, 90, 100, 110, 120, 130]\n",
        "# Scores DataFrame\n",
        "scores = pd.DataFrame(index=est_list, columns=['Test Score', 'Train Score'])\n",
        "# Estimator Function\n",
        "mod(RandomForestRegressor, est_list)"
      ]
    },
    {
      "cell_type": "code",
      "execution_count": 42,
      "metadata": {
        "colab": {
          "base_uri": "https://localhost:8080/",
          "height": 206
        },
        "id": "dbJIThDVIAc4",
        "outputId": "9a90ec14-70ae-4d38-a730-e29227d408dc"
      },
      "outputs": [
        {
          "output_type": "execute_result",
          "data": {
            "text/plain": [
              "    Test Score Train Score\n",
              "130   0.543864    0.937017\n",
              "120   0.543753    0.936751\n",
              "110   0.541786    0.936779\n",
              "100   0.541582    0.936376\n",
              "90    0.540986    0.936156"
            ],
            "text/html": [
              "\n",
              "  <div id=\"df-7257709d-9ddf-495c-b93f-92ae847057af\">\n",
              "    <div class=\"colab-df-container\">\n",
              "      <div>\n",
              "<style scoped>\n",
              "    .dataframe tbody tr th:only-of-type {\n",
              "        vertical-align: middle;\n",
              "    }\n",
              "\n",
              "    .dataframe tbody tr th {\n",
              "        vertical-align: top;\n",
              "    }\n",
              "\n",
              "    .dataframe thead th {\n",
              "        text-align: right;\n",
              "    }\n",
              "</style>\n",
              "<table border=\"1\" class=\"dataframe\">\n",
              "  <thead>\n",
              "    <tr style=\"text-align: right;\">\n",
              "      <th></th>\n",
              "      <th>Test Score</th>\n",
              "      <th>Train Score</th>\n",
              "    </tr>\n",
              "  </thead>\n",
              "  <tbody>\n",
              "    <tr>\n",
              "      <th>130</th>\n",
              "      <td>0.543864</td>\n",
              "      <td>0.937017</td>\n",
              "    </tr>\n",
              "    <tr>\n",
              "      <th>120</th>\n",
              "      <td>0.543753</td>\n",
              "      <td>0.936751</td>\n",
              "    </tr>\n",
              "    <tr>\n",
              "      <th>110</th>\n",
              "      <td>0.541786</td>\n",
              "      <td>0.936779</td>\n",
              "    </tr>\n",
              "    <tr>\n",
              "      <th>100</th>\n",
              "      <td>0.541582</td>\n",
              "      <td>0.936376</td>\n",
              "    </tr>\n",
              "    <tr>\n",
              "      <th>90</th>\n",
              "      <td>0.540986</td>\n",
              "      <td>0.936156</td>\n",
              "    </tr>\n",
              "  </tbody>\n",
              "</table>\n",
              "</div>\n",
              "      <button class=\"colab-df-convert\" onclick=\"convertToInteractive('df-7257709d-9ddf-495c-b93f-92ae847057af')\"\n",
              "              title=\"Convert this dataframe to an interactive table.\"\n",
              "              style=\"display:none;\">\n",
              "        \n",
              "  <svg xmlns=\"http://www.w3.org/2000/svg\" height=\"24px\"viewBox=\"0 0 24 24\"\n",
              "       width=\"24px\">\n",
              "    <path d=\"M0 0h24v24H0V0z\" fill=\"none\"/>\n",
              "    <path d=\"M18.56 5.44l.94 2.06.94-2.06 2.06-.94-2.06-.94-.94-2.06-.94 2.06-2.06.94zm-11 1L8.5 8.5l.94-2.06 2.06-.94-2.06-.94L8.5 2.5l-.94 2.06-2.06.94zm10 10l.94 2.06.94-2.06 2.06-.94-2.06-.94-.94-2.06-.94 2.06-2.06.94z\"/><path d=\"M17.41 7.96l-1.37-1.37c-.4-.4-.92-.59-1.43-.59-.52 0-1.04.2-1.43.59L10.3 9.45l-7.72 7.72c-.78.78-.78 2.05 0 2.83L4 21.41c.39.39.9.59 1.41.59.51 0 1.02-.2 1.41-.59l7.78-7.78 2.81-2.81c.8-.78.8-2.07 0-2.86zM5.41 20L4 18.59l7.72-7.72 1.47 1.35L5.41 20z\"/>\n",
              "  </svg>\n",
              "      </button>\n",
              "      \n",
              "  <style>\n",
              "    .colab-df-container {\n",
              "      display:flex;\n",
              "      flex-wrap:wrap;\n",
              "      gap: 12px;\n",
              "    }\n",
              "\n",
              "    .colab-df-convert {\n",
              "      background-color: #E8F0FE;\n",
              "      border: none;\n",
              "      border-radius: 50%;\n",
              "      cursor: pointer;\n",
              "      display: none;\n",
              "      fill: #1967D2;\n",
              "      height: 32px;\n",
              "      padding: 0 0 0 0;\n",
              "      width: 32px;\n",
              "    }\n",
              "\n",
              "    .colab-df-convert:hover {\n",
              "      background-color: #E2EBFA;\n",
              "      box-shadow: 0px 1px 2px rgba(60, 64, 67, 0.3), 0px 1px 3px 1px rgba(60, 64, 67, 0.15);\n",
              "      fill: #174EA6;\n",
              "    }\n",
              "\n",
              "    [theme=dark] .colab-df-convert {\n",
              "      background-color: #3B4455;\n",
              "      fill: #D2E3FC;\n",
              "    }\n",
              "\n",
              "    [theme=dark] .colab-df-convert:hover {\n",
              "      background-color: #434B5C;\n",
              "      box-shadow: 0px 1px 3px 1px rgba(0, 0, 0, 0.15);\n",
              "      filter: drop-shadow(0px 1px 2px rgba(0, 0, 0, 0.3));\n",
              "      fill: #FFFFFF;\n",
              "    }\n",
              "  </style>\n",
              "\n",
              "      <script>\n",
              "        const buttonEl =\n",
              "          document.querySelector('#df-7257709d-9ddf-495c-b93f-92ae847057af button.colab-df-convert');\n",
              "        buttonEl.style.display =\n",
              "          google.colab.kernel.accessAllowed ? 'block' : 'none';\n",
              "\n",
              "        async function convertToInteractive(key) {\n",
              "          const element = document.querySelector('#df-7257709d-9ddf-495c-b93f-92ae847057af');\n",
              "          const dataTable =\n",
              "            await google.colab.kernel.invokeFunction('convertToInteractive',\n",
              "                                                     [key], {});\n",
              "          if (!dataTable) return;\n",
              "\n",
              "          const docLinkHtml = 'Like what you see? Visit the ' +\n",
              "            '<a target=\"_blank\" href=https://colab.research.google.com/notebooks/data_table.ipynb>data table notebook</a>'\n",
              "            + ' to learn more about interactive tables.';\n",
              "          element.innerHTML = '';\n",
              "          dataTable['output_type'] = 'display_data';\n",
              "          await google.colab.output.renderOutput(dataTable, element);\n",
              "          const docLink = document.createElement('div');\n",
              "          docLink.innerHTML = docLinkHtml;\n",
              "          element.appendChild(docLink);\n",
              "        }\n",
              "      </script>\n",
              "    </div>\n",
              "  </div>\n",
              "  "
            ]
          },
          "metadata": {},
          "execution_count": 42
        }
      ],
      "source": [
        "# organize DataFrame from Largest to Smallest\n",
        "scores = scores.sort_values(by='Test Score', ascending=False)\n",
        "scores.head()"
      ]
    },
    {
      "cell_type": "markdown",
      "metadata": {
        "id": "43IVg9rVIsFj"
      },
      "source": [
        "The R2 peaks at 130 estimators, though there is still a clear sign of overfitting that needs to be addressed."
      ]
    },
    {
      "cell_type": "code",
      "execution_count": 43,
      "metadata": {
        "id": "sYIcgkjpJRMo"
      },
      "outputs": [],
      "source": [
        "# Depth list\n",
        "depth_list = list(range(2, 31))\n",
        "# Scores DataFrame\n",
        "scores = pd.DataFrame(index=depth_list, columns=['Test Score', 'Train Score'])\n",
        "# Testing Loop Function\n",
        "mod(RandomForestRegressor, depth_list)"
      ]
    },
    {
      "cell_type": "code",
      "execution_count": 44,
      "metadata": {
        "colab": {
          "base_uri": "https://localhost:8080/",
          "height": 206
        },
        "id": "IsfQABL4Jwfl",
        "outputId": "64c6f588-549f-4916-a7f6-587f27479682"
      },
      "outputs": [
        {
          "output_type": "execute_result",
          "data": {
            "text/plain": [
              "  Test Score Train Score\n",
              "5   0.602762    0.610587\n",
              "6   0.601335    0.624367\n",
              "7   0.598195    0.642597\n",
              "4   0.596634    0.595925\n",
              "8   0.596191    0.664802"
            ],
            "text/html": [
              "\n",
              "  <div id=\"df-f914de3a-978b-41e2-ad94-20e4ad2c251d\">\n",
              "    <div class=\"colab-df-container\">\n",
              "      <div>\n",
              "<style scoped>\n",
              "    .dataframe tbody tr th:only-of-type {\n",
              "        vertical-align: middle;\n",
              "    }\n",
              "\n",
              "    .dataframe tbody tr th {\n",
              "        vertical-align: top;\n",
              "    }\n",
              "\n",
              "    .dataframe thead th {\n",
              "        text-align: right;\n",
              "    }\n",
              "</style>\n",
              "<table border=\"1\" class=\"dataframe\">\n",
              "  <thead>\n",
              "    <tr style=\"text-align: right;\">\n",
              "      <th></th>\n",
              "      <th>Test Score</th>\n",
              "      <th>Train Score</th>\n",
              "    </tr>\n",
              "  </thead>\n",
              "  <tbody>\n",
              "    <tr>\n",
              "      <th>5</th>\n",
              "      <td>0.602762</td>\n",
              "      <td>0.610587</td>\n",
              "    </tr>\n",
              "    <tr>\n",
              "      <th>6</th>\n",
              "      <td>0.601335</td>\n",
              "      <td>0.624367</td>\n",
              "    </tr>\n",
              "    <tr>\n",
              "      <th>7</th>\n",
              "      <td>0.598195</td>\n",
              "      <td>0.642597</td>\n",
              "    </tr>\n",
              "    <tr>\n",
              "      <th>4</th>\n",
              "      <td>0.596634</td>\n",
              "      <td>0.595925</td>\n",
              "    </tr>\n",
              "    <tr>\n",
              "      <th>8</th>\n",
              "      <td>0.596191</td>\n",
              "      <td>0.664802</td>\n",
              "    </tr>\n",
              "  </tbody>\n",
              "</table>\n",
              "</div>\n",
              "      <button class=\"colab-df-convert\" onclick=\"convertToInteractive('df-f914de3a-978b-41e2-ad94-20e4ad2c251d')\"\n",
              "              title=\"Convert this dataframe to an interactive table.\"\n",
              "              style=\"display:none;\">\n",
              "        \n",
              "  <svg xmlns=\"http://www.w3.org/2000/svg\" height=\"24px\"viewBox=\"0 0 24 24\"\n",
              "       width=\"24px\">\n",
              "    <path d=\"M0 0h24v24H0V0z\" fill=\"none\"/>\n",
              "    <path d=\"M18.56 5.44l.94 2.06.94-2.06 2.06-.94-2.06-.94-.94-2.06-.94 2.06-2.06.94zm-11 1L8.5 8.5l.94-2.06 2.06-.94-2.06-.94L8.5 2.5l-.94 2.06-2.06.94zm10 10l.94 2.06.94-2.06 2.06-.94-2.06-.94-.94-2.06-.94 2.06-2.06.94z\"/><path d=\"M17.41 7.96l-1.37-1.37c-.4-.4-.92-.59-1.43-.59-.52 0-1.04.2-1.43.59L10.3 9.45l-7.72 7.72c-.78.78-.78 2.05 0 2.83L4 21.41c.39.39.9.59 1.41.59.51 0 1.02-.2 1.41-.59l7.78-7.78 2.81-2.81c.8-.78.8-2.07 0-2.86zM5.41 20L4 18.59l7.72-7.72 1.47 1.35L5.41 20z\"/>\n",
              "  </svg>\n",
              "      </button>\n",
              "      \n",
              "  <style>\n",
              "    .colab-df-container {\n",
              "      display:flex;\n",
              "      flex-wrap:wrap;\n",
              "      gap: 12px;\n",
              "    }\n",
              "\n",
              "    .colab-df-convert {\n",
              "      background-color: #E8F0FE;\n",
              "      border: none;\n",
              "      border-radius: 50%;\n",
              "      cursor: pointer;\n",
              "      display: none;\n",
              "      fill: #1967D2;\n",
              "      height: 32px;\n",
              "      padding: 0 0 0 0;\n",
              "      width: 32px;\n",
              "    }\n",
              "\n",
              "    .colab-df-convert:hover {\n",
              "      background-color: #E2EBFA;\n",
              "      box-shadow: 0px 1px 2px rgba(60, 64, 67, 0.3), 0px 1px 3px 1px rgba(60, 64, 67, 0.15);\n",
              "      fill: #174EA6;\n",
              "    }\n",
              "\n",
              "    [theme=dark] .colab-df-convert {\n",
              "      background-color: #3B4455;\n",
              "      fill: #D2E3FC;\n",
              "    }\n",
              "\n",
              "    [theme=dark] .colab-df-convert:hover {\n",
              "      background-color: #434B5C;\n",
              "      box-shadow: 0px 1px 3px 1px rgba(0, 0, 0, 0.15);\n",
              "      filter: drop-shadow(0px 1px 2px rgba(0, 0, 0, 0.3));\n",
              "      fill: #FFFFFF;\n",
              "    }\n",
              "  </style>\n",
              "\n",
              "      <script>\n",
              "        const buttonEl =\n",
              "          document.querySelector('#df-f914de3a-978b-41e2-ad94-20e4ad2c251d button.colab-df-convert');\n",
              "        buttonEl.style.display =\n",
              "          google.colab.kernel.accessAllowed ? 'block' : 'none';\n",
              "\n",
              "        async function convertToInteractive(key) {\n",
              "          const element = document.querySelector('#df-f914de3a-978b-41e2-ad94-20e4ad2c251d');\n",
              "          const dataTable =\n",
              "            await google.colab.kernel.invokeFunction('convertToInteractive',\n",
              "                                                     [key], {});\n",
              "          if (!dataTable) return;\n",
              "\n",
              "          const docLinkHtml = 'Like what you see? Visit the ' +\n",
              "            '<a target=\"_blank\" href=https://colab.research.google.com/notebooks/data_table.ipynb>data table notebook</a>'\n",
              "            + ' to learn more about interactive tables.';\n",
              "          element.innerHTML = '';\n",
              "          dataTable['output_type'] = 'display_data';\n",
              "          await google.colab.output.renderOutput(dataTable, element);\n",
              "          const docLink = document.createElement('div');\n",
              "          docLink.innerHTML = docLinkHtml;\n",
              "          element.appendChild(docLink);\n",
              "        }\n",
              "      </script>\n",
              "    </div>\n",
              "  </div>\n",
              "  "
            ]
          },
          "metadata": {},
          "execution_count": 44
        }
      ],
      "source": [
        "# Check scores DataFrame for highest Score\n",
        "scores = scores.sort_values(by='Test Score', ascending=False)\n",
        "scores.head()"
      ]
    },
    {
      "cell_type": "code",
      "execution_count": 45,
      "metadata": {
        "colab": {
          "base_uri": "https://localhost:8080/",
          "height": 339
        },
        "id": "pE1ISP1EKTPk",
        "outputId": "ae41a171-a76a-4082-fd0b-a39bf3dd6921"
      },
      "outputs": [
        {
          "output_type": "display_data",
          "data": {
            "text/plain": [
              "<Figure size 576x360 with 1 Axes>"
            ],
            "image/png": "[encoded data removed]"
          },
          "metadata": {
            "needs_background": "light"
          }
        }
      ],
      "source": [
        "# Lineplot Visualization\n",
        "viz(depth_list)"
      ]
    },
    {
      "cell_type": "markdown",
      "metadata": {
        "id": "AhzYuBAfKAfh"
      },
      "source": [
        "Here we see an interesting visual, where the scores seem to align most at depths 5, 20, and 30.\n",
        "\n",
        "Depth 5 is too low while at depth 30 it looks like the model is failing and crashing, I will choose depth 20 as the best option, despite having a lower score than at depth 5."
      ]
    },
    {
      "cell_type": "code",
      "execution_count": 47,
      "metadata": {
        "id": "Udle3duRKq2w"
      },
      "outputs": [],
      "source": [
        "# List of num of features\n",
        "max_feat = list(range(5, 30))\n",
        "# Scores DataFrame\n",
        "scores = pd.DataFrame(index=max_feat, columns=['Test Score', 'Train Score'])\n",
        "# Run mod function\n",
        "mod(RandomForestRegressor, max_feat)"
      ]
    },
    {
      "cell_type": "code",
      "execution_count": 48,
      "metadata": {
        "colab": {
          "base_uri": "https://localhost:8080/",
          "height": 206
        },
        "id": "IY-skmh4VuD-",
        "outputId": "7cd99e13-6954-4e0c-d3d0-cefdd9635a2c"
      },
      "outputs": [
        {
          "output_type": "execute_result",
          "data": {
            "text/plain": [
              "   Test Score Train Score\n",
              "10   0.552664    0.937072\n",
              "15   0.552514    0.937273\n",
              "11   0.549646    0.936862\n",
              "18   0.548946    0.936879\n",
              "16   0.548701    0.937513"
            ],
            "text/html": [
              "\n",
              "  <div id=\"df-7717a9d3-0acb-49bb-93bd-13a781ce02ec\">\n",
              "    <div class=\"colab-df-container\">\n",
              "      <div>\n",
              "<style scoped>\n",
              "    .dataframe tbody tr th:only-of-type {\n",
              "        vertical-align: middle;\n",
              "    }\n",
              "\n",
              "    .dataframe tbody tr th {\n",
              "        vertical-align: top;\n",
              "    }\n",
              "\n",
              "    .dataframe thead th {\n",
              "        text-align: right;\n",
              "    }\n",
              "</style>\n",
              "<table border=\"1\" class=\"dataframe\">\n",
              "  <thead>\n",
              "    <tr style=\"text-align: right;\">\n",
              "      <th></th>\n",
              "      <th>Test Score</th>\n",
              "      <th>Train Score</th>\n",
              "    </tr>\n",
              "  </thead>\n",
              "  <tbody>\n",
              "    <tr>\n",
              "      <th>10</th>\n",
              "      <td>0.552664</td>\n",
              "      <td>0.937072</td>\n",
              "    </tr>\n",
              "    <tr>\n",
              "      <th>15</th>\n",
              "      <td>0.552514</td>\n",
              "      <td>0.937273</td>\n",
              "    </tr>\n",
              "    <tr>\n",
              "      <th>11</th>\n",
              "      <td>0.549646</td>\n",
              "      <td>0.936862</td>\n",
              "    </tr>\n",
              "    <tr>\n",
              "      <th>18</th>\n",
              "      <td>0.548946</td>\n",
              "      <td>0.936879</td>\n",
              "    </tr>\n",
              "    <tr>\n",
              "      <th>16</th>\n",
              "      <td>0.548701</td>\n",
              "      <td>0.937513</td>\n",
              "    </tr>\n",
              "  </tbody>\n",
              "</table>\n",
              "</div>\n",
              "      <button class=\"colab-df-convert\" onclick=\"convertToInteractive('df-7717a9d3-0acb-49bb-93bd-13a781ce02ec')\"\n",
              "              title=\"Convert this dataframe to an interactive table.\"\n",
              "              style=\"display:none;\">\n",
              "        \n",
              "  <svg xmlns=\"http://www.w3.org/2000/svg\" height=\"24px\"viewBox=\"0 0 24 24\"\n",
              "       width=\"24px\">\n",
              "    <path d=\"M0 0h24v24H0V0z\" fill=\"none\"/>\n",
              "    <path d=\"M18.56 5.44l.94 2.06.94-2.06 2.06-.94-2.06-.94-.94-2.06-.94 2.06-2.06.94zm-11 1L8.5 8.5l.94-2.06 2.06-.94-2.06-.94L8.5 2.5l-.94 2.06-2.06.94zm10 10l.94 2.06.94-2.06 2.06-.94-2.06-.94-.94-2.06-.94 2.06-2.06.94z\"/><path d=\"M17.41 7.96l-1.37-1.37c-.4-.4-.92-.59-1.43-.59-.52 0-1.04.2-1.43.59L10.3 9.45l-7.72 7.72c-.78.78-.78 2.05 0 2.83L4 21.41c.39.39.9.59 1.41.59.51 0 1.02-.2 1.41-.59l7.78-7.78 2.81-2.81c.8-.78.8-2.07 0-2.86zM5.41 20L4 18.59l7.72-7.72 1.47 1.35L5.41 20z\"/>\n",
              "  </svg>\n",
              "      </button>\n",
              "      \n",
              "  <style>\n",
              "    .colab-df-container {\n",
              "      display:flex;\n",
              "      flex-wrap:wrap;\n",
              "      gap: 12px;\n",
              "    }\n",
              "\n",
              "    .colab-df-convert {\n",
              "      background-color: #E8F0FE;\n",
              "      border: none;\n",
              "      border-radius: 50%;\n",
              "      cursor: pointer;\n",
              "      display: none;\n",
              "      fill: #1967D2;\n",
              "      height: 32px;\n",
              "      padding: 0 0 0 0;\n",
              "      width: 32px;\n",
              "    }\n",
              "\n",
              "    .colab-df-convert:hover {\n",
              "      background-color: #E2EBFA;\n",
              "      box-shadow: 0px 1px 2px rgba(60, 64, 67, 0.3), 0px 1px 3px 1px rgba(60, 64, 67, 0.15);\n",
              "      fill: #174EA6;\n",
              "    }\n",
              "\n",
              "    [theme=dark] .colab-df-convert {\n",
              "      background-color: #3B4455;\n",
              "      fill: #D2E3FC;\n",
              "    }\n",
              "\n",
              "    [theme=dark] .colab-df-convert:hover {\n",
              "      background-color: #434B5C;\n",
              "      box-shadow: 0px 1px 3px 1px rgba(0, 0, 0, 0.15);\n",
              "      filter: drop-shadow(0px 1px 2px rgba(0, 0, 0, 0.3));\n",
              "      fill: #FFFFFF;\n",
              "    }\n",
              "  </style>\n",
              "\n",
              "      <script>\n",
              "        const buttonEl =\n",
              "          document.querySelector('#df-7717a9d3-0acb-49bb-93bd-13a781ce02ec button.colab-df-convert');\n",
              "        buttonEl.style.display =\n",
              "          google.colab.kernel.accessAllowed ? 'block' : 'none';\n",
              "\n",
              "        async function convertToInteractive(key) {\n",
              "          const element = document.querySelector('#df-7717a9d3-0acb-49bb-93bd-13a781ce02ec');\n",
              "          const dataTable =\n",
              "            await google.colab.kernel.invokeFunction('convertToInteractive',\n",
              "                                                     [key], {});\n",
              "          if (!dataTable) return;\n",
              "\n",
              "          const docLinkHtml = 'Like what you see? Visit the ' +\n",
              "            '<a target=\"_blank\" href=https://colab.research.google.com/notebooks/data_table.ipynb>data table notebook</a>'\n",
              "            + ' to learn more about interactive tables.';\n",
              "          element.innerHTML = '';\n",
              "          dataTable['output_type'] = 'display_data';\n",
              "          await google.colab.output.renderOutput(dataTable, element);\n",
              "          const docLink = document.createElement('div');\n",
              "          docLink.innerHTML = docLinkHtml;\n",
              "          element.appendChild(docLink);\n",
              "        }\n",
              "      </script>\n",
              "    </div>\n",
              "  </div>\n",
              "  "
            ]
          },
          "metadata": {},
          "execution_count": 48
        }
      ],
      "source": [
        "scores=scores.sort_values(by='Test Score', ascending=False)\n",
        "scores.head()"
      ]
    },
    {
      "cell_type": "markdown",
      "metadata": {
        "id": "3wBDHidfXO9w"
      },
      "source": [
        "The max features seem to peak at 10, I will use this for the final model"
      ]
    },
    {
      "cell_type": "markdown",
      "source": [
        "# Conclusion"
      ],
      "metadata": {
        "id": "sgnGSEY1s6ca"
      }
    },
    {
      "cell_type": "code",
      "source": [
        "# Instantiate\n",
        "rf = RandomForestRegressor(max_depth=20, max_features=10, n_estimators=130, random_state=42)\n",
        "# Pipeline\n",
        "rf_pipe = make_pipeline(preprocessor, rf)\n",
        "# Fit model to Data\n",
        "rf_pipe.fit(X_train, y_train)"
      ],
      "metadata": {
        "colab": {
          "base_uri": "https://localhost:8080/",
          "height": 227
        },
        "id": "3Wo_qc2Qs8lk",
        "outputId": "758da428-c269-41e2-e5ef-585903c57c8f"
      },
      "execution_count": 55,
      "outputs": [
        {
          "output_type": "execute_result",
          "data": {
            "text/plain": [
              "Pipeline(steps=[('columntransformer',\n",
              "                 ColumnTransformer(remainder='passthrough',\n",
              "                                   transformers=[('pipeline',\n",
              "                                                  Pipeline(steps=[('simpleimputer',\n",
              "                                                                   SimpleImputer(strategy='median')),\n",
              "                                                                  ('standardscaler',\n",
              "                                                                   StandardScaler())]),\n",
              "                                                  <sklearn.compose._column_transformer.make_column_selector object at 0x7efe75301050>),\n",
              "                                                 ('onehotencoder',\n",
              "                                                  OneHotEncoder(handle_unknown='ignore',\n",
              "                                                                sparse=False),\n",
              "                                                  <sklearn.compose._column_transformer.make_column_selector object at 0x7efe75301090>)])),\n",
              "                ('randomforestregressor',\n",
              "                 RandomForestRegressor(max_depth=20, max_features=10,\n",
              "                                       n_estimators=130, random_state=42))])"
            ],
            "text/html": [
              "<style>#sk-2a40df44-a2b5-4ea0-87e1-eb191d7ddad9 {color: black;background-color: white;}#sk-2a40df44-a2b5-4ea0-87e1-eb191d7ddad9 pre{padding: 0;}#sk-2a40df44-a2b5-4ea0-87e1-eb191d7ddad9 div.sk-toggleable {background-color: white;}#sk-2a40df44-a2b5-4ea0-87e1-eb191d7ddad9 label.sk-toggleable__label {cursor: pointer;display: block;width: 100%;margin-bottom: 0;padding: 0.3em;box-sizing: border-box;text-align: center;}#sk-2a40df44-a2b5-4ea0-87e1-eb191d7ddad9 label.sk-toggleable__label-arrow:before {content: \"▸\";float: left;margin-right: 0.25em;color: #696969;}#sk-2a40df44-a2b5-4ea0-87e1-eb191d7ddad9 label.sk-toggleable__label-arrow:hover:before {color: black;}#sk-2a40df44-a2b5-4ea0-87e1-eb191d7ddad9 div.sk-estimator:hover label.sk-toggleable__label-arrow:before {color: black;}#sk-2a40df44-a2b5-4ea0-87e1-eb191d7ddad9 div.sk-toggleable__content {max-height: 0;max-width: 0;overflow: hidden;text-align: left;background-color: #f0f8ff;}#sk-2a40df44-a2b5-4ea0-87e1-eb191d7ddad9 div.sk-toggleable__content pre {margin: 0.2em;color: black;border-radius: 0.25em;background-color: #f0f8ff;}#sk-2a40df44-a2b5-4ea0-87e1-eb191d7ddad9 input.sk-toggleable__control:checked~div.sk-toggleable__content {max-height: 200px;max-width: 100%;overflow: auto;}#sk-2a40df44-a2b5-4ea0-87e1-eb191d7ddad9 input.sk-toggleable__control:checked~label.sk-toggleable__label-arrow:before {content: \"▾\";}#sk-2a40df44-a2b5-4ea0-87e1-eb191d7ddad9 div.sk-estimator input.sk-toggleable__control:checked~label.sk-toggleable__label {background-color: #d4ebff;}#sk-2a40df44-a2b5-4ea0-87e1-eb191d7ddad9 div.sk-label input.sk-toggleable__control:checked~label.sk-toggleable__label {background-color: #d4ebff;}#sk-2a40df44-a2b5-4ea0-87e1-eb191d7ddad9 input.sk-hidden--visually {border: 0;clip: rect(1px 1px 1px 1px);clip: rect(1px, 1px, 1px, 1px);height: 1px;margin: -1px;overflow: hidden;padding: 0;position: absolute;width: 1px;}#sk-2a40df44-a2b5-4ea0-87e1-eb191d7ddad9 div.sk-estimator {font-family: monospace;background-color: #f0f8ff;border: 1px dotted black;border-radius: 0.25em;box-sizing: border-box;margin-bottom: 0.5em;}#sk-2a40df44-a2b5-4ea0-87e1-eb191d7ddad9 div.sk-estimator:hover {background-color: #d4ebff;}#sk-2a40df44-a2b5-4ea0-87e1-eb191d7ddad9 div.sk-parallel-item::after {content: \"\";width: 100%;border-bottom: 1px solid gray;flex-grow: 1;}#sk-2a40df44-a2b5-4ea0-87e1-eb191d7ddad9 div.sk-label:hover label.sk-toggleable__label {background-color: #d4ebff;}#sk-2a40df44-a2b5-4ea0-87e1-eb191d7ddad9 div.sk-serial::before {content: \"\";position: absolute;border-left: 1px solid gray;box-sizing: border-box;top: 2em;bottom: 0;left: 50%;}#sk-2a40df44-a2b5-4ea0-87e1-eb191d7ddad9 div.sk-serial {display: flex;flex-direction: column;align-items: center;background-color: white;padding-right: 0.2em;padding-left: 0.2em;}#sk-2a40df44-a2b5-4ea0-87e1-eb191d7ddad9 div.sk-item {z-index: 1;}#sk-2a40df44-a2b5-4ea0-87e1-eb191d7ddad9 div.sk-parallel {display: flex;align-items: stretch;justify-content: center;background-color: white;}#sk-2a40df44-a2b5-4ea0-87e1-eb191d7ddad9 div.sk-parallel::before {content: \"\";position: absolute;border-left: 1px solid gray;box-sizing: border-box;top: 2em;bottom: 0;left: 50%;}#sk-2a40df44-a2b5-4ea0-87e1-eb191d7ddad9 div.sk-parallel-item {display: flex;flex-direction: column;position: relative;background-color: white;}#sk-2a40df44-a2b5-4ea0-87e1-eb191d7ddad9 div.sk-parallel-item:first-child::after {align-self: flex-end;width: 50%;}#sk-2a40df44-a2b5-4ea0-87e1-eb191d7ddad9 div.sk-parallel-item:last-child::after {align-self: flex-start;width: 50%;}#sk-2a40df44-a2b5-4ea0-87e1-eb191d7ddad9 div.sk-parallel-item:only-child::after {width: 0;}#sk-2a40df44-a2b5-4ea0-87e1-eb191d7ddad9 div.sk-dashed-wrapped {border: 1px dashed gray;margin: 0 0.4em 0.5em 0.4em;box-sizing: border-box;padding-bottom: 0.4em;background-color: white;position: relative;}#sk-2a40df44-a2b5-4ea0-87e1-eb191d7ddad9 div.sk-label label {font-family: monospace;font-weight: bold;background-color: white;display: inline-block;line-height: 1.2em;}#sk-2a40df44-a2b5-4ea0-87e1-eb191d7ddad9 div.sk-label-container {position: relative;z-index: 2;text-align: center;}#sk-2a40df44-a2b5-4ea0-87e1-eb191d7ddad9 div.sk-container {/* jupyter's `normalize.less` sets `[hidden] { display: none; }` but bootstrap.min.css set `[hidden] { display: none !important; }` so we also need the `!important` here to be able to override the default hidden behavior on the sphinx rendered scikit-learn.org. See: https://github.com/scikit-learn/scikit-learn/issues/21755 */display: inline-block !important;position: relative;}#sk-2a40df44-a2b5-4ea0-87e1-eb191d7ddad9 div.sk-text-repr-fallback {display: none;}</style><div id=\"sk-2a40df44-a2b5-4ea0-87e1-eb191d7ddad9\" class=\"sk-top-container\"><div class=\"sk-text-repr-fallback\"><pre>Pipeline(steps=[(&#x27;columntransformer&#x27;,\n",
              "                 ColumnTransformer(remainder=&#x27;passthrough&#x27;,\n",
              "                                   transformers=[(&#x27;pipeline&#x27;,\n",
              "                                                  Pipeline(steps=[(&#x27;simpleimputer&#x27;,\n",
              "                                                                   SimpleImputer(strategy=&#x27;median&#x27;)),\n",
              "                                                                  (&#x27;standardscaler&#x27;,\n",
              "                                                                   StandardScaler())]),\n",
              "                                                  &lt;sklearn.compose._column_transformer.make_column_selector object at 0x7efe75301050&gt;),\n",
              "                                                 (&#x27;onehotencoder&#x27;,\n",
              "                                                  OneHotEncoder(handle_unknown=&#x27;ignore&#x27;,\n",
              "                                                                sparse=False),\n",
              "                                                  &lt;sklearn.compose._column_transformer.make_column_selector object at 0x7efe75301090&gt;)])),\n",
              "                (&#x27;randomforestregressor&#x27;,\n",
              "                 RandomForestRegressor(max_depth=20, max_features=10,\n",
              "                                       n_estimators=130, random_state=42))])</pre><b>Please rerun this cell to show the HTML repr or trust the notebook.</b></div><div class=\"sk-container\" hidden><div class=\"sk-item sk-dashed-wrapped\"><div class=\"sk-label-container\"><div class=\"sk-label sk-toggleable\"><input class=\"sk-toggleable__control sk-hidden--visually\" id=\"021194b0-2144-4731-9e2a-02ad536be4e0\" type=\"checkbox\" ><label for=\"021194b0-2144-4731-9e2a-02ad536be4e0\" class=\"sk-toggleable__label sk-toggleable__label-arrow\">Pipeline</label><div class=\"sk-toggleable__content\"><pre>Pipeline(steps=[(&#x27;columntransformer&#x27;,\n",
              "                 ColumnTransformer(remainder=&#x27;passthrough&#x27;,\n",
              "                                   transformers=[(&#x27;pipeline&#x27;,\n",
              "                                                  Pipeline(steps=[(&#x27;simpleimputer&#x27;,\n",
              "                                                                   SimpleImputer(strategy=&#x27;median&#x27;)),\n",
              "                                                                  (&#x27;standardscaler&#x27;,\n",
              "                                                                   StandardScaler())]),\n",
              "                                                  &lt;sklearn.compose._column_transformer.make_column_selector object at 0x7efe75301050&gt;),\n",
              "                                                 (&#x27;onehotencoder&#x27;,\n",
              "                                                  OneHotEncoder(handle_unknown=&#x27;ignore&#x27;,\n",
              "                                                                sparse=False),\n",
              "                                                  &lt;sklearn.compose._column_transformer.make_column_selector object at 0x7efe75301090&gt;)])),\n",
              "                (&#x27;randomforestregressor&#x27;,\n",
              "                 RandomForestRegressor(max_depth=20, max_features=10,\n",
              "                                       n_estimators=130, random_state=42))])</pre></div></div></div><div class=\"sk-serial\"><div class=\"sk-item sk-dashed-wrapped\"><div class=\"sk-label-container\"><div class=\"sk-label sk-toggleable\"><input class=\"sk-toggleable__control sk-hidden--visually\" id=\"05283c37-ee0e-4467-a862-559058905968\" type=\"checkbox\" ><label for=\"05283c37-ee0e-4467-a862-559058905968\" class=\"sk-toggleable__label sk-toggleable__label-arrow\">columntransformer: ColumnTransformer</label><div class=\"sk-toggleable__content\"><pre>ColumnTransformer(remainder=&#x27;passthrough&#x27;,\n",
              "                  transformers=[(&#x27;pipeline&#x27;,\n",
              "                                 Pipeline(steps=[(&#x27;simpleimputer&#x27;,\n",
              "                                                  SimpleImputer(strategy=&#x27;median&#x27;)),\n",
              "                                                 (&#x27;standardscaler&#x27;,\n",
              "                                                  StandardScaler())]),\n",
              "                                 &lt;sklearn.compose._column_transformer.make_column_selector object at 0x7efe75301050&gt;),\n",
              "                                (&#x27;onehotencoder&#x27;,\n",
              "                                 OneHotEncoder(handle_unknown=&#x27;ignore&#x27;,\n",
              "                                               sparse=False),\n",
              "                                 &lt;sklearn.compose._column_transformer.make_column_selector object at 0x7efe75301090&gt;)])</pre></div></div></div><div class=\"sk-parallel\"><div class=\"sk-parallel-item\"><div class=\"sk-item\"><div class=\"sk-label-container\"><div class=\"sk-label sk-toggleable\"><input class=\"sk-toggleable__control sk-hidden--visually\" id=\"84500fe5-5aec-409f-abaf-ca05551b4b91\" type=\"checkbox\" ><label for=\"84500fe5-5aec-409f-abaf-ca05551b4b91\" class=\"sk-toggleable__label sk-toggleable__label-arrow\">pipeline</label><div class=\"sk-toggleable__content\"><pre>&lt;sklearn.compose._column_transformer.make_column_selector object at 0x7efe75301050&gt;</pre></div></div></div><div class=\"sk-serial\"><div class=\"sk-item\"><div class=\"sk-serial\"><div class=\"sk-item\"><div class=\"sk-estimator sk-toggleable\"><input class=\"sk-toggleable__control sk-hidden--visually\" id=\"4d5c0eb9-5893-4d70-a48f-1dc97b6d58e1\" type=\"checkbox\" ><label for=\"4d5c0eb9-5893-4d70-a48f-1dc97b6d58e1\" class=\"sk-toggleable__label sk-toggleable__label-arrow\">SimpleImputer</label><div class=\"sk-toggleable__content\"><pre>SimpleImputer(strategy=&#x27;median&#x27;)</pre></div></div></div><div class=\"sk-item\"><div class=\"sk-estimator sk-toggleable\"><input class=\"sk-toggleable__control sk-hidden--visually\" id=\"d7456ec9-8efc-4ce7-9986-e2f965da31ee\" type=\"checkbox\" ><label for=\"d7456ec9-8efc-4ce7-9986-e2f965da31ee\" class=\"sk-toggleable__label sk-toggleable__label-arrow\">StandardScaler</label><div class=\"sk-toggleable__content\"><pre>StandardScaler()</pre></div></div></div></div></div></div></div></div><div class=\"sk-parallel-item\"><div class=\"sk-item\"><div class=\"sk-label-container\"><div class=\"sk-label sk-toggleable\"><input class=\"sk-toggleable__control sk-hidden--visually\" id=\"6783cd29-a072-48ee-8311-edb37d7722d0\" type=\"checkbox\" ><label for=\"6783cd29-a072-48ee-8311-edb37d7722d0\" class=\"sk-toggleable__label sk-toggleable__label-arrow\">onehotencoder</label><div class=\"sk-toggleable__content\"><pre>&lt;sklearn.compose._column_transformer.make_column_selector object at 0x7efe75301090&gt;</pre></div></div></div><div class=\"sk-serial\"><div class=\"sk-item\"><div class=\"sk-estimator sk-toggleable\"><input class=\"sk-toggleable__control sk-hidden--visually\" id=\"543c363e-23ba-4b6a-a7bd-f521ecf3afc9\" type=\"checkbox\" ><label for=\"543c363e-23ba-4b6a-a7bd-f521ecf3afc9\" class=\"sk-toggleable__label sk-toggleable__label-arrow\">OneHotEncoder</label><div class=\"sk-toggleable__content\"><pre>OneHotEncoder(handle_unknown=&#x27;ignore&#x27;, sparse=False)</pre></div></div></div></div></div></div><div class=\"sk-parallel-item\"><div class=\"sk-item\"><div class=\"sk-label-container\"><div class=\"sk-label sk-toggleable\"><input class=\"sk-toggleable__control sk-hidden--visually\" id=\"a3d983eb-f713-4694-bf2c-9d64be5690bd\" type=\"checkbox\" ><label for=\"a3d983eb-f713-4694-bf2c-9d64be5690bd\" class=\"sk-toggleable__label sk-toggleable__label-arrow\">remainder</label><div class=\"sk-toggleable__content\"><pre>[]</pre></div></div></div><div class=\"sk-serial\"><div class=\"sk-item\"><div class=\"sk-estimator sk-toggleable\"><input class=\"sk-toggleable__control sk-hidden--visually\" id=\"538071a5-7c17-43c9-85a9-fd5f983aefd4\" type=\"checkbox\" ><label for=\"538071a5-7c17-43c9-85a9-fd5f983aefd4\" class=\"sk-toggleable__label sk-toggleable__label-arrow\">passthrough</label><div class=\"sk-toggleable__content\"><pre>passthrough</pre></div></div></div></div></div></div></div></div><div class=\"sk-item\"><div class=\"sk-estimator sk-toggleable\"><input class=\"sk-toggleable__control sk-hidden--visually\" id=\"dbd2f6fc-303f-4c5f-bf55-366a3b867812\" type=\"checkbox\" ><label for=\"dbd2f6fc-303f-4c5f-bf55-366a3b867812\" class=\"sk-toggleable__label sk-toggleable__label-arrow\">RandomForestRegressor</label><div class=\"sk-toggleable__content\"><pre>RandomForestRegressor(max_depth=20, max_features=10, n_estimators=130,\n",
              "                      random_state=42)</pre></div></div></div></div></div></div></div>"
            ]
          },
          "metadata": {},
          "execution_count": 55
        }
      ]
    },
    {
      "cell_type": "code",
      "source": [
        "# Predictions\n",
        "train_pred = rf_pipe.predict(X_train)\n",
        "test_pred = rf_pipe.predict(X_test)"
      ],
      "metadata": {
        "id": "XatGkjS7tfN9"
      },
      "execution_count": 56,
      "outputs": []
    },
    {
      "cell_type": "code",
      "source": [
        "# Evaluation\n",
        "eval(y_train, train_pred, 'Train Data')\n",
        "eval(y_test, test_pred, 'Test Data')"
      ],
      "metadata": {
        "colab": {
          "base_uri": "https://localhost:8080/"
        },
        "id": "jsDL1EO6tmJi",
        "outputId": "7b094763-664c-47cc-ca48-33b619c66739"
      },
      "execution_count": 57,
      "outputs": [
        {
          "output_type": "stream",
          "name": "stdout",
          "text": [
            "Train Data\n",
            "    MAE Score: 374.25339664168166\n",
            "    MSE Score: 280941.41601202945\n",
            "    RMSE Score: 530.0390702693807\n",
            "    R2 Score: 0.9050699033669188\n",
            "    \n",
            "Test Data\n",
            "    MAE Score: 762.959466518153\n",
            "    MSE Score: 1202543.1069841476\n",
            "    RMSE Score: 1096.6052648898544\n",
            "    R2 Score: 0.5641344666740076\n",
            "    \n"
          ]
        }
      ]
    },
    {
      "cell_type": "markdown",
      "source": [
        "# Final Thoughts"
      ],
      "metadata": {
        "id": "rTTCocbj69aS"
      }
    },
    {
      "cell_type": "markdown",
      "source": [
        "I believe the Linear Regreesion model to be the better option for predicting this data.\n",
        "\n",
        "My reasoning resides on how it performed against a Random Tree Regression Model.\n",
        "\n",
        "The Random Tree Regression model kept overfitting even after I made adjustments by a significant margin.\n",
        "The closer I tried make the R2 scores for the Training data and Test data, the worse the score had to get.\n",
        "On the heatmap in my Predictions file you can see there is very little correlation with any of the numerical columns\n",
        "The categorical columns don't assist much in putting it all together, ultimately just creating too much noise for the \n",
        "Tree Regression Model to effectively work with other forms of data.\n",
        "\n",
        "\n",
        "The linear regression model managed to keep the R2 scores close together and overall higher than when the same was \n",
        "accomplished with the Tree Regression Model."
      ],
      "metadata": {
        "id": "OU58LoFN6_Wy"
      }
    }
  ],
  "metadata": {
    "colab": {
      "collapsed_sections": [],
      "provenance": [],
      "authorship_tag": "ABX9TyNKlH8kcsiXhzDUUEQGfhos",
      "include_colab_link": true
    },
    "kernelspec": {
      "display_name": "Python 3",
      "name": "python3"
    },
    "language_info": {
      "name": "python"
    }
  },
  "nbformat": 4,
  "nbformat_minor": 0
}
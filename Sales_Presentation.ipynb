{
  "nbformat": 4,
  "nbformat_minor": 0,
  "metadata": {
    "colab": {
      "provenance": [],
      "collapsed_sections": [],
      "mount_file_id": "1WNcYAhPeT8tPo58O7PN-FtyndsFoZCA7",
      "authorship_tag": "ABX9TyNPNn3rDuBRKEAHj3bxnlso",
      "include_colab_link": true
    },
    "kernelspec": {
      "name": "python3",
      "display_name": "Python 3"
    },
    "language_info": {
      "name": "python"
    }
  },
  "cells": [
    {
      "cell_type": "markdown",
      "metadata": {
        "id": "view-in-github",
        "colab_type": "text"
      },
      "source": [
        "<a href=\"https://colab.research.google.com/github/SantosAbimaelRomero/Sales-Preditions/blob/main/Sales_Presentation.ipynb\" target=\"_parent\"><img src=\"https://colab.research.google.com/assets/colab-badge.svg\" alt=\"Open In Colab\"/></a>"
      ]
    },
    {
      "cell_type": "markdown",
      "source": [
        "# Sales Statistics - Part 1\n",
        "- Santos Romero"
      ],
      "metadata": {
        "id": "M5mMbnant9gi"
      }
    },
    {
      "cell_type": "markdown",
      "source": [
        "## Loading Data"
      ],
      "metadata": {
        "id": "mQzmAqiNuA-1"
      }
    },
    {
      "cell_type": "code",
      "source": [
        "import pandas as pd\n",
        "from google.colab import drive\n",
        "drive.mount('/content/drive')"
      ],
      "metadata": {
        "id": "UY_GHoH7ugR_",
        "colab": {
          "base_uri": "https://localhost:8080/"
        },
        "outputId": "f1b51591-3c2e-425d-bc38-8c9ac2117987"
      },
      "execution_count": null,
      "outputs": [
        {
          "output_type": "stream",
          "name": "stdout",
          "text": [
            "Drive already mounted at /content/drive; to attempt to forcibly remount, call drive.mount(\"/content/drive\", force_remount=True).\n"
          ]
        }
      ]
    },
    {
      "cell_type": "code",
      "source": [
        "import matplotlib.pyplot as plt\n",
        "import seaborn as sns\n",
        "import numpy as np\n",
        "import matplotlib as mpl"
      ],
      "metadata": {
        "id": "U2-1N9P5Qji4"
      },
      "execution_count": null,
      "outputs": []
    },
    {
      "cell_type": "code",
      "source": [
        "sales_csv = pd.read_csv('/content/drive/MyDrive/Stack Projects/Project 1, Sales Predictions/sales_predictions.csv')"
      ],
      "metadata": {
        "id": "86WCKbZzrZ8I"
      },
      "execution_count": null,
      "outputs": []
    },
    {
      "cell_type": "markdown",
      "source": [
        "## Data Cleaning"
      ],
      "metadata": {
        "id": "xG9AI7ajrxHr"
      }
    },
    {
      "cell_type": "markdown",
      "source": [
        "### Overview of Data"
      ],
      "metadata": {
        "id": "P4vHCFI3ySPp"
      }
    },
    {
      "cell_type": "code",
      "source": [
        "sales_csv.info()"
      ],
      "metadata": {
        "colab": {
          "base_uri": "https://localhost:8080/"
        },
        "id": "G2fIRi3-sTs1",
        "outputId": "b1b6124b-dfd8-43f9-9536-0c7f63141e12"
      },
      "execution_count": null,
      "outputs": [
        {
          "output_type": "stream",
          "name": "stdout",
          "text": [
            "<class 'pandas.core.frame.DataFrame'>\n",
            "RangeIndex: 8523 entries, 0 to 8522\n",
            "Data columns (total 12 columns):\n",
            " #   Column                     Non-Null Count  Dtype  \n",
            "---  ------                     --------------  -----  \n",
            " 0   Item_Identifier            8523 non-null   object \n",
            " 1   Item_Weight                7060 non-null   float64\n",
            " 2   Item_Fat_Content           8523 non-null   object \n",
            " 3   Item_Visibility            8523 non-null   float64\n",
            " 4   Item_Type                  8523 non-null   object \n",
            " 5   Item_MRP                   8523 non-null   float64\n",
            " 6   Outlet_Identifier          8523 non-null   object \n",
            " 7   Outlet_Establishment_Year  8523 non-null   int64  \n",
            " 8   Outlet_Size                6113 non-null   object \n",
            " 9   Outlet_Location_Type       8523 non-null   object \n",
            " 10  Outlet_Type                8523 non-null   object \n",
            " 11  Item_Outlet_Sales          8523 non-null   float64\n",
            "dtypes: float64(4), int64(1), object(7)\n",
            "memory usage: 799.2+ KB\n"
          ]
        }
      ]
    },
    {
      "cell_type": "code",
      "source": [
        "sales_csv.head()"
      ],
      "metadata": {
        "colab": {
          "base_uri": "https://localhost:8080/",
          "height": 357
        },
        "id": "bRuS_XttuOlD",
        "outputId": "00eca9dc-d081-4d5c-885c-b0730becbe54"
      },
      "execution_count": null,
      "outputs": [
        {
          "output_type": "execute_result",
          "data": {
            "text/plain": [
              "  Item_Identifier  Item_Weight Item_Fat_Content  Item_Visibility  \\\n",
              "0           FDA15         9.30          Low Fat         0.016047   \n",
              "1           DRC01         5.92          Regular         0.019278   \n",
              "2           FDN15        17.50          Low Fat         0.016760   \n",
              "3           FDX07        19.20          Regular         0.000000   \n",
              "4           NCD19         8.93          Low Fat         0.000000   \n",
              "\n",
              "               Item_Type  Item_MRP Outlet_Identifier  \\\n",
              "0                  Dairy  249.8092            OUT049   \n",
              "1            Soft Drinks   48.2692            OUT018   \n",
              "2                   Meat  141.6180            OUT049   \n",
              "3  Fruits and Vegetables  182.0950            OUT010   \n",
              "4              Household   53.8614            OUT013   \n",
              "\n",
              "   Outlet_Establishment_Year Outlet_Size Outlet_Location_Type  \\\n",
              "0                       1999      Medium               Tier 1   \n",
              "1                       2009      Medium               Tier 3   \n",
              "2                       1999      Medium               Tier 1   \n",
              "3                       1998         NaN               Tier 3   \n",
              "4                       1987        High               Tier 3   \n",
              "\n",
              "         Outlet_Type  Item_Outlet_Sales  \n",
              "0  Supermarket Type1          3735.1380  \n",
              "1  Supermarket Type2           443.4228  \n",
              "2  Supermarket Type1          2097.2700  \n",
              "3      Grocery Store           732.3800  \n",
              "4  Supermarket Type1           994.7052  "
            ],
            "text/html": [
              "\n",
              "  <div id=\"df-d4efbf87-3725-4325-a2a8-20275cc3f2fa\">\n",
              "    <div class=\"colab-df-container\">\n",
              "      <div>\n",
              "<style scoped>\n",
              "    .dataframe tbody tr th:only-of-type {\n",
              "        vertical-align: middle;\n",
              "    }\n",
              "\n",
              "    .dataframe tbody tr th {\n",
              "        vertical-align: top;\n",
              "    }\n",
              "\n",
              "    .dataframe thead th {\n",
              "        text-align: right;\n",
              "    }\n",
              "</style>\n",
              "<table border=\"1\" class=\"dataframe\">\n",
              "  <thead>\n",
              "    <tr style=\"text-align: right;\">\n",
              "      <th></th>\n",
              "      <th>Item_Identifier</th>\n",
              "      <th>Item_Weight</th>\n",
              "      <th>Item_Fat_Content</th>\n",
              "      <th>Item_Visibility</th>\n",
              "      <th>Item_Type</th>\n",
              "      <th>Item_MRP</th>\n",
              "      <th>Outlet_Identifier</th>\n",
              "      <th>Outlet_Establishment_Year</th>\n",
              "      <th>Outlet_Size</th>\n",
              "      <th>Outlet_Location_Type</th>\n",
              "      <th>Outlet_Type</th>\n",
              "      <th>Item_Outlet_Sales</th>\n",
              "    </tr>\n",
              "  </thead>\n",
              "  <tbody>\n",
              "    <tr>\n",
              "      <th>0</th>\n",
              "      <td>FDA15</td>\n",
              "      <td>9.30</td>\n",
              "      <td>Low Fat</td>\n",
              "      <td>0.016047</td>\n",
              "      <td>Dairy</td>\n",
              "      <td>249.8092</td>\n",
              "      <td>OUT049</td>\n",
              "      <td>1999</td>\n",
              "      <td>Medium</td>\n",
              "      <td>Tier 1</td>\n",
              "      <td>Supermarket Type1</td>\n",
              "      <td>3735.1380</td>\n",
              "    </tr>\n",
              "    <tr>\n",
              "      <th>1</th>\n",
              "      <td>DRC01</td>\n",
              "      <td>5.92</td>\n",
              "      <td>Regular</td>\n",
              "      <td>0.019278</td>\n",
              "      <td>Soft Drinks</td>\n",
              "      <td>48.2692</td>\n",
              "      <td>OUT018</td>\n",
              "      <td>2009</td>\n",
              "      <td>Medium</td>\n",
              "      <td>Tier 3</td>\n",
              "      <td>Supermarket Type2</td>\n",
              "      <td>443.4228</td>\n",
              "    </tr>\n",
              "    <tr>\n",
              "      <th>2</th>\n",
              "      <td>FDN15</td>\n",
              "      <td>17.50</td>\n",
              "      <td>Low Fat</td>\n",
              "      <td>0.016760</td>\n",
              "      <td>Meat</td>\n",
              "      <td>141.6180</td>\n",
              "      <td>OUT049</td>\n",
              "      <td>1999</td>\n",
              "      <td>Medium</td>\n",
              "      <td>Tier 1</td>\n",
              "      <td>Supermarket Type1</td>\n",
              "      <td>2097.2700</td>\n",
              "    </tr>\n",
              "    <tr>\n",
              "      <th>3</th>\n",
              "      <td>FDX07</td>\n",
              "      <td>19.20</td>\n",
              "      <td>Regular</td>\n",
              "      <td>0.000000</td>\n",
              "      <td>Fruits and Vegetables</td>\n",
              "      <td>182.0950</td>\n",
              "      <td>OUT010</td>\n",
              "      <td>1998</td>\n",
              "      <td>NaN</td>\n",
              "      <td>Tier 3</td>\n",
              "      <td>Grocery Store</td>\n",
              "      <td>732.3800</td>\n",
              "    </tr>\n",
              "    <tr>\n",
              "      <th>4</th>\n",
              "      <td>NCD19</td>\n",
              "      <td>8.93</td>\n",
              "      <td>Low Fat</td>\n",
              "      <td>0.000000</td>\n",
              "      <td>Household</td>\n",
              "      <td>53.8614</td>\n",
              "      <td>OUT013</td>\n",
              "      <td>1987</td>\n",
              "      <td>High</td>\n",
              "      <td>Tier 3</td>\n",
              "      <td>Supermarket Type1</td>\n",
              "      <td>994.7052</td>\n",
              "    </tr>\n",
              "  </tbody>\n",
              "</table>\n",
              "</div>\n",
              "      <button class=\"colab-df-convert\" onclick=\"convertToInteractive('df-d4efbf87-3725-4325-a2a8-20275cc3f2fa')\"\n",
              "              title=\"Convert this dataframe to an interactive table.\"\n",
              "              style=\"display:none;\">\n",
              "        \n",
              "  <svg xmlns=\"http://www.w3.org/2000/svg\" height=\"24px\"viewBox=\"0 0 24 24\"\n",
              "       width=\"24px\">\n",
              "    <path d=\"M0 0h24v24H0V0z\" fill=\"none\"/>\n",
              "    <path d=\"M18.56 5.44l.94 2.06.94-2.06 2.06-.94-2.06-.94-.94-2.06-.94 2.06-2.06.94zm-11 1L8.5 8.5l.94-2.06 2.06-.94-2.06-.94L8.5 2.5l-.94 2.06-2.06.94zm10 10l.94 2.06.94-2.06 2.06-.94-2.06-.94-.94-2.06-.94 2.06-2.06.94z\"/><path d=\"M17.41 7.96l-1.37-1.37c-.4-.4-.92-.59-1.43-.59-.52 0-1.04.2-1.43.59L10.3 9.45l-7.72 7.72c-.78.78-.78 2.05 0 2.83L4 21.41c.39.39.9.59 1.41.59.51 0 1.02-.2 1.41-.59l7.78-7.78 2.81-2.81c.8-.78.8-2.07 0-2.86zM5.41 20L4 18.59l7.72-7.72 1.47 1.35L5.41 20z\"/>\n",
              "  </svg>\n",
              "      </button>\n",
              "      \n",
              "  <style>\n",
              "    .colab-df-container {\n",
              "      display:flex;\n",
              "      flex-wrap:wrap;\n",
              "      gap: 12px;\n",
              "    }\n",
              "\n",
              "    .colab-df-convert {\n",
              "      background-color: #E8F0FE;\n",
              "      border: none;\n",
              "      border-radius: 50%;\n",
              "      cursor: pointer;\n",
              "      display: none;\n",
              "      fill: #1967D2;\n",
              "      height: 32px;\n",
              "      padding: 0 0 0 0;\n",
              "      width: 32px;\n",
              "    }\n",
              "\n",
              "    .colab-df-convert:hover {\n",
              "      background-color: #E2EBFA;\n",
              "      box-shadow: 0px 1px 2px rgba(60, 64, 67, 0.3), 0px 1px 3px 1px rgba(60, 64, 67, 0.15);\n",
              "      fill: #174EA6;\n",
              "    }\n",
              "\n",
              "    [theme=dark] .colab-df-convert {\n",
              "      background-color: #3B4455;\n",
              "      fill: #D2E3FC;\n",
              "    }\n",
              "\n",
              "    [theme=dark] .colab-df-convert:hover {\n",
              "      background-color: #434B5C;\n",
              "      box-shadow: 0px 1px 3px 1px rgba(0, 0, 0, 0.15);\n",
              "      filter: drop-shadow(0px 1px 2px rgba(0, 0, 0, 0.3));\n",
              "      fill: #FFFFFF;\n",
              "    }\n",
              "  </style>\n",
              "\n",
              "      <script>\n",
              "        const buttonEl =\n",
              "          document.querySelector('#df-d4efbf87-3725-4325-a2a8-20275cc3f2fa button.colab-df-convert');\n",
              "        buttonEl.style.display =\n",
              "          google.colab.kernel.accessAllowed ? 'block' : 'none';\n",
              "\n",
              "        async function convertToInteractive(key) {\n",
              "          const element = document.querySelector('#df-d4efbf87-3725-4325-a2a8-20275cc3f2fa');\n",
              "          const dataTable =\n",
              "            await google.colab.kernel.invokeFunction('convertToInteractive',\n",
              "                                                     [key], {});\n",
              "          if (!dataTable) return;\n",
              "\n",
              "          const docLinkHtml = 'Like what you see? Visit the ' +\n",
              "            '<a target=\"_blank\" href=https://colab.research.google.com/notebooks/data_table.ipynb>data table notebook</a>'\n",
              "            + ' to learn more about interactive tables.';\n",
              "          element.innerHTML = '';\n",
              "          dataTable['output_type'] = 'display_data';\n",
              "          await google.colab.output.renderOutput(dataTable, element);\n",
              "          const docLink = document.createElement('div');\n",
              "          docLink.innerHTML = docLinkHtml;\n",
              "          element.appendChild(docLink);\n",
              "        }\n",
              "      </script>\n",
              "    </div>\n",
              "  </div>\n",
              "  "
            ]
          },
          "metadata": {},
          "execution_count": 6
        }
      ]
    },
    {
      "cell_type": "markdown",
      "source": [
        "General Info\n",
        "- 8523 rows\n",
        "- 11 Columns\n",
        "> - Item_Weight and Outlet_Size have NaNs\n",
        "> - No data type issues"
      ],
      "metadata": {
        "id": "g3hWzI2jsISk"
      }
    },
    {
      "cell_type": "markdown",
      "source": [
        "### Checking for duplicates"
      ],
      "metadata": {
        "id": "XTbZqYBmxiL4"
      }
    },
    {
      "cell_type": "code",
      "source": [
        "sales_csv.duplicated().sum()\n",
        "# Nothing was printed, contains no duplicates"
      ],
      "metadata": {
        "colab": {
          "base_uri": "https://localhost:8080/"
        },
        "id": "-2uqhyEZvaXx",
        "outputId": "f1547bd9-efe2-4d16-e37f-08defbed08db"
      },
      "execution_count": null,
      "outputs": [
        {
          "output_type": "execute_result",
          "data": {
            "text/plain": [
              "0"
            ]
          },
          "metadata": {},
          "execution_count": 7
        }
      ]
    },
    {
      "cell_type": "markdown",
      "source": [
        "### Missing Values"
      ],
      "metadata": {
        "id": "KmmKBVEzy2c5"
      }
    },
    {
      "cell_type": "code",
      "source": [
        "sales_csv.isna().sum()\n",
        "# Item_Weight and Outlet_Size are missing data"
      ],
      "metadata": {
        "colab": {
          "base_uri": "https://localhost:8080/"
        },
        "id": "0gaSNAz-0VoY",
        "outputId": "50691066-7ff8-4857-e820-560e9809ed0d"
      },
      "execution_count": null,
      "outputs": [
        {
          "output_type": "execute_result",
          "data": {
            "text/plain": [
              "Item_Identifier                 0\n",
              "Item_Weight                  1463\n",
              "Item_Fat_Content                0\n",
              "Item_Visibility                 0\n",
              "Item_Type                       0\n",
              "Item_MRP                        0\n",
              "Outlet_Identifier               0\n",
              "Outlet_Establishment_Year       0\n",
              "Outlet_Size                  2410\n",
              "Outlet_Location_Type            0\n",
              "Outlet_Type                     0\n",
              "Item_Outlet_Sales               0\n",
              "dtype: int64"
            ]
          },
          "metadata": {},
          "execution_count": 8
        }
      ]
    },
    {
      "cell_type": "markdown",
      "source": [
        "#### Outlet_Size"
      ],
      "metadata": {
        "id": "zxifVJM9KCyU"
      }
    },
    {
      "cell_type": "markdown",
      "source": [
        "Let's look for patterns with the other two related columns, Outlet_Location_Type and Outlet_Type"
      ],
      "metadata": {
        "id": "mtGpOA150cX8"
      }
    },
    {
      "cell_type": "code",
      "source": [
        "sales_csv.groupby('Outlet_Location_Type')['Outlet_Size'].value_counts()\n",
        "# Tier 1s are mostly small but can be any size\n",
        "# Tier 2s are all small\n",
        "# Tier 3s are mostly medium but can be High"
      ],
      "metadata": {
        "colab": {
          "base_uri": "https://localhost:8080/"
        },
        "id": "9xWPa6eQhOoO",
        "outputId": "6ab77a33-63f4-44b0-b6ed-8101659ce367"
      },
      "execution_count": null,
      "outputs": [
        {
          "output_type": "execute_result",
          "data": {
            "text/plain": [
              "Outlet_Location_Type  Outlet_Size\n",
              "Tier 1                Small          1458\n",
              "                      Medium          930\n",
              "Tier 2                Small           930\n",
              "Tier 3                Medium         1863\n",
              "                      High            932\n",
              "Name: Outlet_Size, dtype: int64"
            ]
          },
          "metadata": {},
          "execution_count": 9
        }
      ]
    },
    {
      "cell_type": "code",
      "source": [
        "sales_csv.groupby('Outlet_Type')['Outlet_Size'].value_counts()\n",
        "# Grocery Stores are all small\n",
        "# Supermarket Type1s are mostly small but can be any size\n",
        "# Supermarket Type2s and Type3s are all medium"
      ],
      "metadata": {
        "colab": {
          "base_uri": "https://localhost:8080/"
        },
        "id": "8mJ2QDsOzVje",
        "outputId": "1e676107-22f8-456a-8cad-da83ce0937ee"
      },
      "execution_count": null,
      "outputs": [
        {
          "output_type": "execute_result",
          "data": {
            "text/plain": [
              "Outlet_Type        Outlet_Size\n",
              "Grocery Store      Small           528\n",
              "Supermarket Type1  Small          1860\n",
              "                   High            932\n",
              "                   Medium          930\n",
              "Supermarket Type2  Medium          928\n",
              "Supermarket Type3  Medium          935\n",
              "Name: Outlet_Size, dtype: int64"
            ]
          },
          "metadata": {},
          "execution_count": 10
        }
      ]
    },
    {
      "cell_type": "markdown",
      "source": [
        "Small\n",
        "- Tier 2s are always small, grocery stores are always small\n",
        "- Tier 1s are mostly small, Supermarket Type 1s are mostly small\n",
        "\n",
        "Medium\n",
        "- Tier 3s are mostly medium, Tier 1s are less likely but can be medium\n",
        "- Supermarket Type 2 & 3 are only medium, Type 1s are less likely but can be medium\n",
        "\n",
        "High\n",
        "- Tier 3s are the only highs\n",
        "- Supermarket Type 1s are the only highs"
      ],
      "metadata": {
        "id": "heRmmxNJJGjJ"
      }
    },
    {
      "cell_type": "code",
      "source": [
        "# Let's Start with what we are certain on\n",
        "# Tier 2s are all small and Grocery Stores are all small\n",
        "# Supermarket Type2s and Type3s are all medium\n",
        "# Since the index for out Dataframe is just numbers from 0 - 8523\n",
        "# Let's loop through the index\n",
        "for index in range(len(sales_csv)):\n",
        "    if sales_csv.loc[index, 'Outlet_Location_Type'] == 'Tier 2':\n",
        "        sales_csv.loc[index, 'Outlet_Size'] = 'Small'\n",
        "    elif sales_csv.loc[index, 'Outlet_Type'] == 'Grocery Store':\n",
        "        sales_csv.loc[index, 'Outlet_Size'] = 'Small'\n",
        "    elif sales_csv.loc[index, 'Outlet_Type'] == 'Supermarket Type2':\n",
        "        sales_csv.loc[index, 'Outlet_Size'] = 'Medium'\n",
        "    elif sales_csv.loc[index, 'Outlet_Type'] == 'Supermarket Type3':\n",
        "        sales_csv.loc[index, 'Outlet_Size'] = 'Medium'\n"
      ],
      "metadata": {
        "id": "y2p96umhvfmn"
      },
      "execution_count": null,
      "outputs": []
    },
    {
      "cell_type": "code",
      "source": [
        "sales_csv.isna().sum()\n",
        "# That seems to have been all of them"
      ],
      "metadata": {
        "colab": {
          "base_uri": "https://localhost:8080/"
        },
        "id": "yPodQ6vlyc4Y",
        "outputId": "6318c208-00f8-4109-a897-0c32a6006ccf"
      },
      "execution_count": null,
      "outputs": [
        {
          "output_type": "execute_result",
          "data": {
            "text/plain": [
              "Item_Identifier                 0\n",
              "Item_Weight                  1463\n",
              "Item_Fat_Content                0\n",
              "Item_Visibility                 0\n",
              "Item_Type                       0\n",
              "Item_MRP                        0\n",
              "Outlet_Identifier               0\n",
              "Outlet_Establishment_Year       0\n",
              "Outlet_Size                     0\n",
              "Outlet_Location_Type            0\n",
              "Outlet_Type                     0\n",
              "Item_Outlet_Sales               0\n",
              "dtype: int64"
            ]
          },
          "metadata": {},
          "execution_count": 12
        }
      ]
    },
    {
      "cell_type": "markdown",
      "source": [
        "#### Item_Weight"
      ],
      "metadata": {
        "id": "ifYy_b2ZZBvv"
      }
    },
    {
      "cell_type": "markdown",
      "source": [
        "For my purpose with this data, the weight of the items is irrelavent as I am not concered with shipping. Only the in-person sales that occur at the supermarkets/grocery stores are my focus. I shall drop the column entirely."
      ],
      "metadata": {
        "id": "CWqTVBPrZEWL"
      }
    },
    {
      "cell_type": "code",
      "source": [
        "# Drop Item_Weight Column\n",
        "sales_csv.drop(columns='Item_Weight', inplace=True)\n",
        "sales_csv.isna().sum()\n",
        "# There are now no missing values in our data"
      ],
      "metadata": {
        "colab": {
          "base_uri": "https://localhost:8080/"
        },
        "id": "wUBk3aYdaak-",
        "outputId": "3e1bb374-dd51-491c-f526-8c287e73cbcc"
      },
      "execution_count": null,
      "outputs": [
        {
          "output_type": "execute_result",
          "data": {
            "text/plain": [
              "Item_Identifier              0\n",
              "Item_Fat_Content             0\n",
              "Item_Visibility              0\n",
              "Item_Type                    0\n",
              "Item_MRP                     0\n",
              "Outlet_Identifier            0\n",
              "Outlet_Establishment_Year    0\n",
              "Outlet_Size                  0\n",
              "Outlet_Location_Type         0\n",
              "Outlet_Type                  0\n",
              "Item_Outlet_Sales            0\n",
              "dtype: int64"
            ]
          },
          "metadata": {},
          "execution_count": 13
        }
      ]
    },
    {
      "cell_type": "markdown",
      "source": [
        "### Incorrect Values"
      ],
      "metadata": {
        "id": "o23D6OF12Jzt"
      }
    },
    {
      "cell_type": "code",
      "source": [
        "sales_csv.info()"
      ],
      "metadata": {
        "colab": {
          "base_uri": "https://localhost:8080/"
        },
        "id": "28XpgA2F2M7m",
        "outputId": "d3adccef-f639-4c21-cf8b-bcbb1d930fbd"
      },
      "execution_count": null,
      "outputs": [
        {
          "output_type": "stream",
          "name": "stdout",
          "text": [
            "<class 'pandas.core.frame.DataFrame'>\n",
            "RangeIndex: 8523 entries, 0 to 8522\n",
            "Data columns (total 11 columns):\n",
            " #   Column                     Non-Null Count  Dtype  \n",
            "---  ------                     --------------  -----  \n",
            " 0   Item_Identifier            8523 non-null   object \n",
            " 1   Item_Fat_Content           8523 non-null   object \n",
            " 2   Item_Visibility            8523 non-null   float64\n",
            " 3   Item_Type                  8523 non-null   object \n",
            " 4   Item_MRP                   8523 non-null   float64\n",
            " 5   Outlet_Identifier          8523 non-null   object \n",
            " 6   Outlet_Establishment_Year  8523 non-null   int64  \n",
            " 7   Outlet_Size                8523 non-null   object \n",
            " 8   Outlet_Location_Type       8523 non-null   object \n",
            " 9   Outlet_Type                8523 non-null   object \n",
            " 10  Item_Outlet_Sales          8523 non-null   float64\n",
            "dtypes: float64(3), int64(1), object(7)\n",
            "memory usage: 732.6+ KB\n"
          ]
        }
      ]
    },
    {
      "cell_type": "markdown",
      "source": [
        "Let's go through each column where this might be an issue"
      ],
      "metadata": {
        "id": "X0nOa9AV2O11"
      }
    },
    {
      "cell_type": "code",
      "source": [
        "sales_csv['Item_Fat_Content'].value_counts()"
      ],
      "metadata": {
        "colab": {
          "base_uri": "https://localhost:8080/"
        },
        "id": "u0uWwv4h2DdQ",
        "outputId": "e3deb161-90d1-45f9-e8dc-4298d93a257b"
      },
      "execution_count": null,
      "outputs": [
        {
          "output_type": "execute_result",
          "data": {
            "text/plain": [
              "Low Fat    5089\n",
              "Regular    2889\n",
              "LF          316\n",
              "reg         117\n",
              "low fat     112\n",
              "Name: Item_Fat_Content, dtype: int64"
            ]
          },
          "metadata": {},
          "execution_count": 15
        }
      ]
    },
    {
      "cell_type": "code",
      "source": [
        "sales_csv['Item_Fat_Content'].replace('low fat', 'Low Fat', inplace=True)\n",
        "sales_csv['Item_Fat_Content'].replace('LF', 'Low Fat', inplace=True)\n",
        "sales_csv['Item_Fat_Content'].replace('reg', 'Regular', inplace=True)\n",
        "sales_csv['Item_Fat_Content'].value_counts()"
      ],
      "metadata": {
        "colab": {
          "base_uri": "https://localhost:8080/"
        },
        "id": "0lo-WIKd2Ugl",
        "outputId": "73a63e59-876e-498a-dac0-8b54eb212d80"
      },
      "execution_count": null,
      "outputs": [
        {
          "output_type": "execute_result",
          "data": {
            "text/plain": [
              "Low Fat    5517\n",
              "Regular    3006\n",
              "Name: Item_Fat_Content, dtype: int64"
            ]
          },
          "metadata": {},
          "execution_count": 16
        }
      ]
    },
    {
      "cell_type": "code",
      "source": [
        "sales_csv['Item_Type'].value_counts()"
      ],
      "metadata": {
        "colab": {
          "base_uri": "https://localhost:8080/"
        },
        "id": "twnHtOI852Ln",
        "outputId": "33dfcf2f-805f-403c-a636-374694960268"
      },
      "execution_count": null,
      "outputs": [
        {
          "output_type": "execute_result",
          "data": {
            "text/plain": [
              "Fruits and Vegetables    1232\n",
              "Snack Foods              1200\n",
              "Household                 910\n",
              "Frozen Foods              856\n",
              "Dairy                     682\n",
              "Canned                    649\n",
              "Baking Goods              648\n",
              "Health and Hygiene        520\n",
              "Soft Drinks               445\n",
              "Meat                      425\n",
              "Breads                    251\n",
              "Hard Drinks               214\n",
              "Others                    169\n",
              "Starchy Foods             148\n",
              "Breakfast                 110\n",
              "Seafood                    64\n",
              "Name: Item_Type, dtype: int64"
            ]
          },
          "metadata": {},
          "execution_count": 17
        }
      ]
    },
    {
      "cell_type": "code",
      "source": [
        "sales_csv['Outlet_Identifier'].value_counts()"
      ],
      "metadata": {
        "colab": {
          "base_uri": "https://localhost:8080/"
        },
        "id": "leQ0NOk_5toF",
        "outputId": "a9849789-0b46-44d2-bad6-2c3643765111"
      },
      "execution_count": null,
      "outputs": [
        {
          "output_type": "execute_result",
          "data": {
            "text/plain": [
              "OUT027    935\n",
              "OUT013    932\n",
              "OUT049    930\n",
              "OUT046    930\n",
              "OUT035    930\n",
              "OUT045    929\n",
              "OUT018    928\n",
              "OUT017    926\n",
              "OUT010    555\n",
              "OUT019    528\n",
              "Name: Outlet_Identifier, dtype: int64"
            ]
          },
          "metadata": {},
          "execution_count": 18
        }
      ]
    },
    {
      "cell_type": "code",
      "source": [
        "sales_csv['Outlet_Size'].value_counts()"
      ],
      "metadata": {
        "colab": {
          "base_uri": "https://localhost:8080/"
        },
        "id": "5hXpqHM65oAa",
        "outputId": "b574c211-c285-4e55-82a0-29c42316b1cf"
      },
      "execution_count": null,
      "outputs": [
        {
          "output_type": "execute_result",
          "data": {
            "text/plain": [
              "Small     4798\n",
              "Medium    2793\n",
              "High       932\n",
              "Name: Outlet_Size, dtype: int64"
            ]
          },
          "metadata": {},
          "execution_count": 19
        }
      ]
    },
    {
      "cell_type": "code",
      "source": [
        "sales_csv['Outlet_Type'].value_counts()"
      ],
      "metadata": {
        "colab": {
          "base_uri": "https://localhost:8080/"
        },
        "id": "0SUs_mR05lfc",
        "outputId": "f4efb262-0b21-4129-fd8d-be61e0fc931d"
      },
      "execution_count": null,
      "outputs": [
        {
          "output_type": "execute_result",
          "data": {
            "text/plain": [
              "Supermarket Type1    5577\n",
              "Grocery Store        1083\n",
              "Supermarket Type3     935\n",
              "Supermarket Type2     928\n",
              "Name: Outlet_Type, dtype: int64"
            ]
          },
          "metadata": {},
          "execution_count": 20
        }
      ]
    },
    {
      "cell_type": "code",
      "source": [
        "sales_csv['Outlet_Location_Type'].value_counts()"
      ],
      "metadata": {
        "colab": {
          "base_uri": "https://localhost:8080/"
        },
        "id": "XsMEIC2L3F75",
        "outputId": "856816b3-2691-47a3-aeaa-7f63907bb3bc"
      },
      "execution_count": null,
      "outputs": [
        {
          "output_type": "execute_result",
          "data": {
            "text/plain": [
              "Tier 3    3350\n",
              "Tier 2    2785\n",
              "Tier 1    2388\n",
              "Name: Outlet_Location_Type, dtype: int64"
            ]
          },
          "metadata": {},
          "execution_count": 21
        }
      ]
    },
    {
      "cell_type": "code",
      "source": [
        "sales_csv['Outlet_Establishment_Year'].value_counts()"
      ],
      "metadata": {
        "colab": {
          "base_uri": "https://localhost:8080/"
        },
        "id": "F_2bng0f6DzL",
        "outputId": "2b0ae79a-1105-4fea-b161-c83c4e8bfbad"
      },
      "execution_count": null,
      "outputs": [
        {
          "output_type": "execute_result",
          "data": {
            "text/plain": [
              "1985    1463\n",
              "1987     932\n",
              "1999     930\n",
              "1997     930\n",
              "2004     930\n",
              "2002     929\n",
              "2009     928\n",
              "2007     926\n",
              "1998     555\n",
              "Name: Outlet_Establishment_Year, dtype: int64"
            ]
          },
          "metadata": {},
          "execution_count": 22
        }
      ]
    },
    {
      "cell_type": "markdown",
      "source": [
        "Only Item_Fat_Content had value issues"
      ],
      "metadata": {
        "id": "oTeAayU_6KyK"
      }
    },
    {
      "cell_type": "markdown",
      "source": [
        "## Exploratory Visuals"
      ],
      "metadata": {
        "id": "D1OIKfy_uFww"
      }
    },
    {
      "cell_type": "markdown",
      "source": [
        "### Summary Statistics"
      ],
      "metadata": {
        "id": "5Md4E7neuH19"
      }
    },
    {
      "cell_type": "code",
      "source": [
        "# Basic Statistics for all relevant number columns\n",
        "print(f\"\"\"Item Visibility:\n",
        "Minimum:{sales_csv['Item_Visibility'].min()}\n",
        "Maximum:{sales_csv['Item_Visibility'].max().round(4)}\n",
        "Average:{sales_csv['Item_Visibility'].mean().round(4)}\n",
        "\"\"\")\n",
        "print(f\"\"\"Item MRP:\n",
        "Minimum:${sales_csv['Item_MRP'].min()}\n",
        "Maximum:${sales_csv['Item_MRP'].max().round(2)}\n",
        "Average:${sales_csv['Item_MRP'].mean().round(2)}\n",
        "\"\"\")\n",
        "print(f\"\"\"Item Outlet Sales:\n",
        "Minimum:${sales_csv['Item_Outlet_Sales'].min()}\n",
        "Maximum:${sales_csv['Item_Outlet_Sales'].max().round(2)}\n",
        "Average:${sales_csv['Item_Outlet_Sales'].mean().round(2)}\n",
        "\"\"\")"
      ],
      "metadata": {
        "colab": {
          "base_uri": "https://localhost:8080/"
        },
        "id": "Zvt_FfVt6nU_",
        "outputId": "f10797d8-81cb-406a-b29f-87d524d18cd1"
      },
      "execution_count": null,
      "outputs": [
        {
          "output_type": "stream",
          "name": "stdout",
          "text": [
            "Item Visibility:\n",
            "Minimum:0.0\n",
            "Maximum:0.3284\n",
            "Average:0.0661\n",
            "\n",
            "Item MRP:\n",
            "Minimum:$31.29\n",
            "Maximum:$266.89\n",
            "Average:$140.99\n",
            "\n",
            "Item Outlet Sales:\n",
            "Minimum:$33.29\n",
            "Maximum:$13086.96\n",
            "Average:$2181.29\n",
            "\n"
          ]
        }
      ]
    },
    {
      "cell_type": "markdown",
      "source": [
        "### Low Fat vs Regular"
      ],
      "metadata": {
        "id": "YAceDjKLdKVK"
      }
    },
    {
      "cell_type": "markdown",
      "source": [
        "Checking for relationship between fat contents and total sales."
      ],
      "metadata": {
        "id": "oCETb6gA_5hR"
      }
    },
    {
      "cell_type": "code",
      "source": [
        "# Renaming Total Outlet Sales Column\n",
        "sales_csv.rename(columns = {'Item_Outlet_Sales':'Outlet Sales', 'Item_MRP':'Item MRP'}, inplace=True)"
      ],
      "metadata": {
        "id": "pIyZnBl-I3j9"
      },
      "execution_count": null,
      "outputs": []
    },
    {
      "cell_type": "code",
      "source": [
        "low_fat = sales_csv[sales_csv['Item_Fat_Content'] == 'Low Fat']\n",
        "reg_fat = sales_csv[sales_csv['Item_Fat_Content'] == 'Regular']\n",
        "low_fat.head()"
      ],
      "metadata": {
        "id": "arpvaGbEswxm",
        "colab": {
          "base_uri": "https://localhost:8080/",
          "height": 374
        },
        "outputId": "8f8681ac-c2a5-4e20-c923-119c0a077102"
      },
      "execution_count": null,
      "outputs": [
        {
          "output_type": "execute_result",
          "data": {
            "text/plain": [
              "   Item_Identifier Item_Fat_Content  Item_Visibility              Item_Type  \\\n",
              "0            FDA15          Low Fat         0.016047                  Dairy   \n",
              "2            FDN15          Low Fat         0.016760                   Meat   \n",
              "4            NCD19          Low Fat         0.000000              Household   \n",
              "7            FDP10          Low Fat         0.127470            Snack Foods   \n",
              "10           FDY07          Low Fat         0.000000  Fruits and Vegetables   \n",
              "\n",
              "    Item MRP Outlet_Identifier  Outlet_Establishment_Year Outlet_Size  \\\n",
              "0   249.8092            OUT049                       1999      Medium   \n",
              "2   141.6180            OUT049                       1999      Medium   \n",
              "4    53.8614            OUT013                       1987        High   \n",
              "7   107.7622            OUT027                       1985      Medium   \n",
              "10   45.5402            OUT049                       1999      Medium   \n",
              "\n",
              "   Outlet_Location_Type        Outlet_Type  Outlet Sales  \n",
              "0                Tier 1  Supermarket Type1     3735.1380  \n",
              "2                Tier 1  Supermarket Type1     2097.2700  \n",
              "4                Tier 3  Supermarket Type1      994.7052  \n",
              "7                Tier 3  Supermarket Type3     4022.7636  \n",
              "10               Tier 1  Supermarket Type1     1516.0266  "
            ],
            "text/html": [
              "\n",
              "  <div id=\"df-81034fa4-b269-4edf-a338-867e9511a2ed\">\n",
              "    <div class=\"colab-df-container\">\n",
              "      <div>\n",
              "<style scoped>\n",
              "    .dataframe tbody tr th:only-of-type {\n",
              "        vertical-align: middle;\n",
              "    }\n",
              "\n",
              "    .dataframe tbody tr th {\n",
              "        vertical-align: top;\n",
              "    }\n",
              "\n",
              "    .dataframe thead th {\n",
              "        text-align: right;\n",
              "    }\n",
              "</style>\n",
              "<table border=\"1\" class=\"dataframe\">\n",
              "  <thead>\n",
              "    <tr style=\"text-align: right;\">\n",
              "      <th></th>\n",
              "      <th>Item_Identifier</th>\n",
              "      <th>Item_Fat_Content</th>\n",
              "      <th>Item_Visibility</th>\n",
              "      <th>Item_Type</th>\n",
              "      <th>Item MRP</th>\n",
              "      <th>Outlet_Identifier</th>\n",
              "      <th>Outlet_Establishment_Year</th>\n",
              "      <th>Outlet_Size</th>\n",
              "      <th>Outlet_Location_Type</th>\n",
              "      <th>Outlet_Type</th>\n",
              "      <th>Outlet Sales</th>\n",
              "    </tr>\n",
              "  </thead>\n",
              "  <tbody>\n",
              "    <tr>\n",
              "      <th>0</th>\n",
              "      <td>FDA15</td>\n",
              "      <td>Low Fat</td>\n",
              "      <td>0.016047</td>\n",
              "      <td>Dairy</td>\n",
              "      <td>249.8092</td>\n",
              "      <td>OUT049</td>\n",
              "      <td>1999</td>\n",
              "      <td>Medium</td>\n",
              "      <td>Tier 1</td>\n",
              "      <td>Supermarket Type1</td>\n",
              "      <td>3735.1380</td>\n",
              "    </tr>\n",
              "    <tr>\n",
              "      <th>2</th>\n",
              "      <td>FDN15</td>\n",
              "      <td>Low Fat</td>\n",
              "      <td>0.016760</td>\n",
              "      <td>Meat</td>\n",
              "      <td>141.6180</td>\n",
              "      <td>OUT049</td>\n",
              "      <td>1999</td>\n",
              "      <td>Medium</td>\n",
              "      <td>Tier 1</td>\n",
              "      <td>Supermarket Type1</td>\n",
              "      <td>2097.2700</td>\n",
              "    </tr>\n",
              "    <tr>\n",
              "      <th>4</th>\n",
              "      <td>NCD19</td>\n",
              "      <td>Low Fat</td>\n",
              "      <td>0.000000</td>\n",
              "      <td>Household</td>\n",
              "      <td>53.8614</td>\n",
              "      <td>OUT013</td>\n",
              "      <td>1987</td>\n",
              "      <td>High</td>\n",
              "      <td>Tier 3</td>\n",
              "      <td>Supermarket Type1</td>\n",
              "      <td>994.7052</td>\n",
              "    </tr>\n",
              "    <tr>\n",
              "      <th>7</th>\n",
              "      <td>FDP10</td>\n",
              "      <td>Low Fat</td>\n",
              "      <td>0.127470</td>\n",
              "      <td>Snack Foods</td>\n",
              "      <td>107.7622</td>\n",
              "      <td>OUT027</td>\n",
              "      <td>1985</td>\n",
              "      <td>Medium</td>\n",
              "      <td>Tier 3</td>\n",
              "      <td>Supermarket Type3</td>\n",
              "      <td>4022.7636</td>\n",
              "    </tr>\n",
              "    <tr>\n",
              "      <th>10</th>\n",
              "      <td>FDY07</td>\n",
              "      <td>Low Fat</td>\n",
              "      <td>0.000000</td>\n",
              "      <td>Fruits and Vegetables</td>\n",
              "      <td>45.5402</td>\n",
              "      <td>OUT049</td>\n",
              "      <td>1999</td>\n",
              "      <td>Medium</td>\n",
              "      <td>Tier 1</td>\n",
              "      <td>Supermarket Type1</td>\n",
              "      <td>1516.0266</td>\n",
              "    </tr>\n",
              "  </tbody>\n",
              "</table>\n",
              "</div>\n",
              "      <button class=\"colab-df-convert\" onclick=\"convertToInteractive('df-81034fa4-b269-4edf-a338-867e9511a2ed')\"\n",
              "              title=\"Convert this dataframe to an interactive table.\"\n",
              "              style=\"display:none;\">\n",
              "        \n",
              "  <svg xmlns=\"http://www.w3.org/2000/svg\" height=\"24px\"viewBox=\"0 0 24 24\"\n",
              "       width=\"24px\">\n",
              "    <path d=\"M0 0h24v24H0V0z\" fill=\"none\"/>\n",
              "    <path d=\"M18.56 5.44l.94 2.06.94-2.06 2.06-.94-2.06-.94-.94-2.06-.94 2.06-2.06.94zm-11 1L8.5 8.5l.94-2.06 2.06-.94-2.06-.94L8.5 2.5l-.94 2.06-2.06.94zm10 10l.94 2.06.94-2.06 2.06-.94-2.06-.94-.94-2.06-.94 2.06-2.06.94z\"/><path d=\"M17.41 7.96l-1.37-1.37c-.4-.4-.92-.59-1.43-.59-.52 0-1.04.2-1.43.59L10.3 9.45l-7.72 7.72c-.78.78-.78 2.05 0 2.83L4 21.41c.39.39.9.59 1.41.59.51 0 1.02-.2 1.41-.59l7.78-7.78 2.81-2.81c.8-.78.8-2.07 0-2.86zM5.41 20L4 18.59l7.72-7.72 1.47 1.35L5.41 20z\"/>\n",
              "  </svg>\n",
              "      </button>\n",
              "      \n",
              "  <style>\n",
              "    .colab-df-container {\n",
              "      display:flex;\n",
              "      flex-wrap:wrap;\n",
              "      gap: 12px;\n",
              "    }\n",
              "\n",
              "    .colab-df-convert {\n",
              "      background-color: #E8F0FE;\n",
              "      border: none;\n",
              "      border-radius: 50%;\n",
              "      cursor: pointer;\n",
              "      display: none;\n",
              "      fill: #1967D2;\n",
              "      height: 32px;\n",
              "      padding: 0 0 0 0;\n",
              "      width: 32px;\n",
              "    }\n",
              "\n",
              "    .colab-df-convert:hover {\n",
              "      background-color: #E2EBFA;\n",
              "      box-shadow: 0px 1px 2px rgba(60, 64, 67, 0.3), 0px 1px 3px 1px rgba(60, 64, 67, 0.15);\n",
              "      fill: #174EA6;\n",
              "    }\n",
              "\n",
              "    [theme=dark] .colab-df-convert {\n",
              "      background-color: #3B4455;\n",
              "      fill: #D2E3FC;\n",
              "    }\n",
              "\n",
              "    [theme=dark] .colab-df-convert:hover {\n",
              "      background-color: #434B5C;\n",
              "      box-shadow: 0px 1px 3px 1px rgba(0, 0, 0, 0.15);\n",
              "      filter: drop-shadow(0px 1px 2px rgba(0, 0, 0, 0.3));\n",
              "      fill: #FFFFFF;\n",
              "    }\n",
              "  </style>\n",
              "\n",
              "      <script>\n",
              "        const buttonEl =\n",
              "          document.querySelector('#df-81034fa4-b269-4edf-a338-867e9511a2ed button.colab-df-convert');\n",
              "        buttonEl.style.display =\n",
              "          google.colab.kernel.accessAllowed ? 'block' : 'none';\n",
              "\n",
              "        async function convertToInteractive(key) {\n",
              "          const element = document.querySelector('#df-81034fa4-b269-4edf-a338-867e9511a2ed');\n",
              "          const dataTable =\n",
              "            await google.colab.kernel.invokeFunction('convertToInteractive',\n",
              "                                                     [key], {});\n",
              "          if (!dataTable) return;\n",
              "\n",
              "          const docLinkHtml = 'Like what you see? Visit the ' +\n",
              "            '<a target=\"_blank\" href=https://colab.research.google.com/notebooks/data_table.ipynb>data table notebook</a>'\n",
              "            + ' to learn more about interactive tables.';\n",
              "          element.innerHTML = '';\n",
              "          dataTable['output_type'] = 'display_data';\n",
              "          await google.colab.output.renderOutput(dataTable, element);\n",
              "          const docLink = document.createElement('div');\n",
              "          docLink.innerHTML = docLinkHtml;\n",
              "          element.appendChild(docLink);\n",
              "        }\n",
              "      </script>\n",
              "    </div>\n",
              "  </div>\n",
              "  "
            ]
          },
          "metadata": {},
          "execution_count": 131
        }
      ]
    },
    {
      "cell_type": "code",
      "source": [
        "from matplotlib.ticker import FuncFormatter\n",
        "def hundred_k(x,pos):\n",
        "    \"\"\"function for use wth matplotlib FuncFormatter -  formats money in millions\"\"\"\n",
        "    return f\"₹{x*1e-3:,.0f}K\"\n",
        "\n",
        "def hundred(x,pos):\n",
        "    \"\"\"function for use wth matplotlib FuncFormatter -  formats money in hundreds\"\"\"\n",
        "    return f\"₹{x:,.0f}\"\n",
        "\n",
        "def fat_dist(data,x,y,format_price,figsize=(10,5)):\n",
        "    fig, ax = plt.subplots(figsize=figsize)\n",
        "    plt.rcParams.update( {'font.family':'serif'})\n",
        "\n",
        "\n",
        "    sns.histplot(data=data,x=x,ax=ax)\n",
        "    ax.set_xlim(left=data[x].min(), right=data[x].max())\n",
        "    ax.set_xlabel(x,fontsize=15)\n",
        "\n",
        "\n",
        "    mean_price = data[x].mean()\n",
        "    ax.axvline(mean_price,color='orange', ls='--', lw=3,\n",
        "    label=f\"Mean {x} = ₹{mean_price:,.2f}\");\n",
        "\n",
        "    med_price = data[x].median()\n",
        "    ax.axvline(med_price,color='red', ls=':', lw=3,\n",
        "               label=f\"Median {x} = ₹{med_price:,.2f}\");\n",
        "    ax.legend(loc=(1.02,.8));\n",
        "\n",
        "\n",
        "    if format_price == 1:\n",
        "\n",
        "        ax.set_title(f'Distribution of Outlet Sales for {y} Items',\n",
        "                     fontsize=18, fontweight='bold')\n",
        "        price_fmt_100k = FuncFormatter(hundred_k)\n",
        "        ax.xaxis.set_major_formatter(price_fmt_100k)\n",
        "\n",
        "    if format_price == 2:\n",
        "\n",
        "        ax.set_title(f'Distribution of Item MRP for {y} Items',\n",
        "                     fontsize=18, fontweight='bold')\n",
        "        price_fmt_100 = FuncFormatter(hundred)\n",
        "        ax.xaxis.set_major_formatter(price_fmt_100)\n",
        "\n",
        "    return fig,ax"
      ],
      "metadata": {
        "id": "D8hdiYPesg3C"
      },
      "execution_count": null,
      "outputs": []
    },
    {
      "cell_type": "code",
      "source": [
        "fat_dist(low_fat, 'Outlet Sales', 'Low Fat', 1)\n",
        "fat_dist(reg_fat, 'Outlet Sales', 'Regular', 1);"
      ],
      "metadata": {
        "colab": {
          "base_uri": "https://localhost:8080/",
          "height": 703
        },
        "id": "XVMeyGraHobP",
        "outputId": "c6919f59-c3ef-4534-fb7c-19c78044dcfa"
      },
      "execution_count": null,
      "outputs": [
        {
          "output_type": "display_data",
          "data": {
            "text/plain": [
              "<Figure size 720x360 with 1 Axes>"
            ],
            "image/png": "[encoded data removed]"
          },
          "metadata": {}
        },
        {
          "output_type": "display_data",
          "data": {
            "text/plain": [
              "<Figure size 720x360 with 1 Axes>"
            ],
            "image/png": "[encoded data removed]"
          },
          "metadata": {}
        }
      ]
    },
    {
      "cell_type": "code",
      "source": [
        "fat_dist(low_fat, 'Item MRP', 'Low Fat', 2)\n",
        "fat_dist(reg_fat, 'Item MRP', 'Regular', 2);"
      ],
      "metadata": {
        "colab": {
          "base_uri": "https://localhost:8080/",
          "height": 703
        },
        "id": "-O7oLvcgUuni",
        "outputId": "1a4b68b8-4d89-4505-81d4-2e07bdd45bf4"
      },
      "execution_count": null,
      "outputs": [
        {
          "output_type": "display_data",
          "data": {
            "text/plain": [
              "<Figure size 720x360 with 1 Axes>"
            ],
            "image/png": "[encoded data removed]"
          },
          "metadata": {}
        },
        {
          "output_type": "display_data",
          "data": {
            "text/plain": [
              "<Figure size 720x360 with 1 Axes>"
            ],
            "image/png": "[encoded data removed]"
          },
          "metadata": {}
        }
      ]
    },
    {
      "cell_type": "code",
      "source": [
        "price_fmt = mpl.ticker.StrMethodFormatter('{x:,.0f}')\n",
        "\n",
        "fig, ax = plt.subplots(figsize = (8,5))\n",
        "\n",
        "sns.histplot(data=sales_csv, x='Item_Fat_Content')\n",
        "ax.set_ylim(bottom=0, top=6000)\n",
        "plt.title('Count of Low Fat/Reg Items', fontsize=15)\n",
        "plt.xlabel('')\n",
        "ax.yaxis.set_major_formatter(price_fmt)\n",
        "plt.show();\n",
        "\n",
        "\n",
        "sales_csv.groupby('Item_Fat_Content')[['Outlet Sales']].sum().round(2)\n"
      ],
      "metadata": {
        "colab": {
          "base_uri": "https://localhost:8080/",
          "height": 466
        },
        "id": "uy23EoAgiQQh",
        "outputId": "36bbb73f-979a-485e-d67d-63c66fe2c1a9"
      },
      "execution_count": null,
      "outputs": [
        {
          "output_type": "display_data",
          "data": {
            "text/plain": [
              "<Figure size 576x360 with 1 Axes>"
            ],
            "image/png": "[encoded data removed]"
          },
          "metadata": {}
        },
        {
          "output_type": "execute_result",
          "data": {
            "text/plain": [
              "                  Outlet Sales\n",
              "Item_Fat_Content              \n",
              "Low Fat            11904094.53\n",
              "Regular             6687030.88"
            ],
            "text/html": [
              "\n",
              "  <div id=\"df-eb08bffd-6d94-4d00-b8ec-a692e5930354\">\n",
              "    <div class=\"colab-df-container\">\n",
              "      <div>\n",
              "<style scoped>\n",
              "    .dataframe tbody tr th:only-of-type {\n",
              "        vertical-align: middle;\n",
              "    }\n",
              "\n",
              "    .dataframe tbody tr th {\n",
              "        vertical-align: top;\n",
              "    }\n",
              "\n",
              "    .dataframe thead th {\n",
              "        text-align: right;\n",
              "    }\n",
              "</style>\n",
              "<table border=\"1\" class=\"dataframe\">\n",
              "  <thead>\n",
              "    <tr style=\"text-align: right;\">\n",
              "      <th></th>\n",
              "      <th>Outlet Sales</th>\n",
              "    </tr>\n",
              "    <tr>\n",
              "      <th>Item_Fat_Content</th>\n",
              "      <th></th>\n",
              "    </tr>\n",
              "  </thead>\n",
              "  <tbody>\n",
              "    <tr>\n",
              "      <th>Low Fat</th>\n",
              "      <td>11904094.53</td>\n",
              "    </tr>\n",
              "    <tr>\n",
              "      <th>Regular</th>\n",
              "      <td>6687030.88</td>\n",
              "    </tr>\n",
              "  </tbody>\n",
              "</table>\n",
              "</div>\n",
              "      <button class=\"colab-df-convert\" onclick=\"convertToInteractive('df-eb08bffd-6d94-4d00-b8ec-a692e5930354')\"\n",
              "              title=\"Convert this dataframe to an interactive table.\"\n",
              "              style=\"display:none;\">\n",
              "        \n",
              "  <svg xmlns=\"http://www.w3.org/2000/svg\" height=\"24px\"viewBox=\"0 0 24 24\"\n",
              "       width=\"24px\">\n",
              "    <path d=\"M0 0h24v24H0V0z\" fill=\"none\"/>\n",
              "    <path d=\"M18.56 5.44l.94 2.06.94-2.06 2.06-.94-2.06-.94-.94-2.06-.94 2.06-2.06.94zm-11 1L8.5 8.5l.94-2.06 2.06-.94-2.06-.94L8.5 2.5l-.94 2.06-2.06.94zm10 10l.94 2.06.94-2.06 2.06-.94-2.06-.94-.94-2.06-.94 2.06-2.06.94z\"/><path d=\"M17.41 7.96l-1.37-1.37c-.4-.4-.92-.59-1.43-.59-.52 0-1.04.2-1.43.59L10.3 9.45l-7.72 7.72c-.78.78-.78 2.05 0 2.83L4 21.41c.39.39.9.59 1.41.59.51 0 1.02-.2 1.41-.59l7.78-7.78 2.81-2.81c.8-.78.8-2.07 0-2.86zM5.41 20L4 18.59l7.72-7.72 1.47 1.35L5.41 20z\"/>\n",
              "  </svg>\n",
              "      </button>\n",
              "      \n",
              "  <style>\n",
              "    .colab-df-container {\n",
              "      display:flex;\n",
              "      flex-wrap:wrap;\n",
              "      gap: 12px;\n",
              "    }\n",
              "\n",
              "    .colab-df-convert {\n",
              "      background-color: #E8F0FE;\n",
              "      border: none;\n",
              "      border-radius: 50%;\n",
              "      cursor: pointer;\n",
              "      display: none;\n",
              "      fill: #1967D2;\n",
              "      height: 32px;\n",
              "      padding: 0 0 0 0;\n",
              "      width: 32px;\n",
              "    }\n",
              "\n",
              "    .colab-df-convert:hover {\n",
              "      background-color: #E2EBFA;\n",
              "      box-shadow: 0px 1px 2px rgba(60, 64, 67, 0.3), 0px 1px 3px 1px rgba(60, 64, 67, 0.15);\n",
              "      fill: #174EA6;\n",
              "    }\n",
              "\n",
              "    [theme=dark] .colab-df-convert {\n",
              "      background-color: #3B4455;\n",
              "      fill: #D2E3FC;\n",
              "    }\n",
              "\n",
              "    [theme=dark] .colab-df-convert:hover {\n",
              "      background-color: #434B5C;\n",
              "      box-shadow: 0px 1px 3px 1px rgba(0, 0, 0, 0.15);\n",
              "      filter: drop-shadow(0px 1px 2px rgba(0, 0, 0, 0.3));\n",
              "      fill: #FFFFFF;\n",
              "    }\n",
              "  </style>\n",
              "\n",
              "      <script>\n",
              "        const buttonEl =\n",
              "          document.querySelector('#df-eb08bffd-6d94-4d00-b8ec-a692e5930354 button.colab-df-convert');\n",
              "        buttonEl.style.display =\n",
              "          google.colab.kernel.accessAllowed ? 'block' : 'none';\n",
              "\n",
              "        async function convertToInteractive(key) {\n",
              "          const element = document.querySelector('#df-eb08bffd-6d94-4d00-b8ec-a692e5930354');\n",
              "          const dataTable =\n",
              "            await google.colab.kernel.invokeFunction('convertToInteractive',\n",
              "                                                     [key], {});\n",
              "          if (!dataTable) return;\n",
              "\n",
              "          const docLinkHtml = 'Like what you see? Visit the ' +\n",
              "            '<a target=\"_blank\" href=https://colab.research.google.com/notebooks/data_table.ipynb>data table notebook</a>'\n",
              "            + ' to learn more about interactive tables.';\n",
              "          element.innerHTML = '';\n",
              "          dataTable['output_type'] = 'display_data';\n",
              "          await google.colab.output.renderOutput(dataTable, element);\n",
              "          const docLink = document.createElement('div');\n",
              "          docLink.innerHTML = docLinkHtml;\n",
              "          element.appendChild(docLink);\n",
              "        }\n",
              "      </script>\n",
              "    </div>\n",
              "  </div>\n",
              "  "
            ]
          },
          "metadata": {},
          "execution_count": 94
        }
      ]
    },
    {
      "cell_type": "markdown",
      "source": [
        "\n",
        "Most of the items sell under ₹4,000 total whether regular or low fat content.\n",
        "\n",
        "---\n",
        "There is a much larger selection of low fat food items available but\n",
        "regular items have a slightly larger mean and median in outlet sales despite having less items available.\n",
        "\n",
        "---\n",
        "Distribution of total outlet sales is mostly the same despite there being a much larger selection of low fat items than regular items."
      ],
      "metadata": {
        "id": "nKjQM0XGer09"
      }
    },
    {
      "cell_type": "code",
      "source": [
        "price_fmt = mpl.ticker.StrMethodFormatter('₹{x:,.0f}')\n",
        "\n",
        "fig, ax = plt.subplots(figsize=(8,5))\n",
        "\n",
        "sns.boxplot(data=sales_csv, x='Item_Fat_Content', y='Outlet Sales')\n",
        "plt.xlabel('Fat Content')\n",
        "plt.ylabel('Total Sales')\n",
        "ax.yaxis.set_major_formatter(price_fmt)\n",
        "ax.set_ylim(bottom=0, top=12000)\n",
        "plt.show();"
      ],
      "metadata": {
        "colab": {
          "base_uri": "https://localhost:8080/",
          "height": 343
        },
        "id": "5yGPayAwrMDT",
        "outputId": "67f75eb8-bd18-4019-9a7e-6636426fa265"
      },
      "execution_count": null,
      "outputs": [
        {
          "output_type": "display_data",
          "data": {
            "text/plain": [
              "<Figure size 576x360 with 1 Axes>"
            ],
            "image/png": "[encoded data removed]"
          },
          "metadata": {}
        }
      ]
    },
    {
      "cell_type": "markdown",
      "source": [
        "Regular fat food items have a higher and broader IQR than low fat food items.\n",
        "\n",
        "---\n",
        "Regular food items have a higher maximum than low fat food items.\n",
        "\n",
        "---\n",
        "Low fat food items have higher outliers than regular food items."
      ],
      "metadata": {
        "id": "jdKa3C3wfS8J"
      }
    },
    {
      "cell_type": "markdown",
      "source": [
        "### Outlet Type and Total Sales"
      ],
      "metadata": {
        "id": "C3fhPej6EqRN"
      }
    },
    {
      "cell_type": "code",
      "source": [
        "from matplotlib.ticker import FuncFormatter\n",
        "def hundred_k(x,pos):\n",
        "    \"\"\"function for use wth matplotlib FuncFormatter -  formats money in millions\"\"\"\n",
        "    return f\"₹{x*1e-3:,.0f}K\"\n",
        "\n",
        "\n",
        "def size_dist(data,x,y,format_price=True,figsize=(10,5)):\n",
        "    fig, ax = plt.subplots(figsize=figsize)\n",
        "    plt.rcParams.update( {'font.family':'serif'})\n",
        "\n",
        "    ax.set_title(f'Distribution of Outlet Sales for {y} Outlets',\n",
        "                 fontsize=18, fontweight='bold')\n",
        "    sns.histplot(data=data,x=x,ax=ax)\n",
        "    ax.set_xlim(left=data[x].min(), right=data[x].max())\n",
        "    ax.set_xlabel(x,fontsize=15)\n",
        "\n",
        "\n",
        "    mean_price = data[x].mean()\n",
        "    ax.axvline(mean_price,color='orange', ls='--', lw=3,\n",
        "    label=f\"Mean {x} = ₹{mean_price:,.2f}\");\n",
        "\n",
        "    med_price = data[x].median()\n",
        "    ax.axvline(med_price,color='red', ls=':', lw=3,\n",
        "               label=f\"Median {x} = ₹{med_price:,.2f}\");\n",
        "    ax.legend(loc=(1.02,.8));\n",
        "\n",
        "\n",
        "    if format_price:\n",
        "\n",
        "        price_fmt_100k = FuncFormatter(hundred_k)\n",
        "        ax.xaxis.set_major_formatter(price_fmt_100k)\n",
        "\n",
        "    return fig,ax"
      ],
      "metadata": {
        "id": "wh5ZCK17R8my"
      },
      "execution_count": null,
      "outputs": []
    },
    {
      "cell_type": "code",
      "source": [
        "small = sales_csv[sales_csv['Outlet_Size'] == 'Small']\n",
        "medium = sales_csv[sales_csv['Outlet_Size'] == 'Medium']\n",
        "high = sales_csv[sales_csv['Outlet_Size'] == 'High']"
      ],
      "metadata": {
        "id": "6aI2MQCvhUJZ"
      },
      "execution_count": null,
      "outputs": []
    },
    {
      "cell_type": "code",
      "source": [
        "size_dist(small, 'Outlet Sales', 'Small')\n",
        "size_dist(medium, 'Outlet Sales', 'Medium')\n",
        "size_dist(high, 'Outlet Sales', 'High');"
      ],
      "metadata": {
        "colab": {
          "base_uri": "https://localhost:8080/",
          "height": 1000
        },
        "id": "kNWzKw0WExgC",
        "outputId": "cfad8f00-c77b-4f0f-d68b-df7f094a3096"
      },
      "execution_count": null,
      "outputs": [
        {
          "output_type": "display_data",
          "data": {
            "text/plain": [
              "<Figure size 720x360 with 1 Axes>"
            ],
            "image/png": "[encoded data removed]"
          },
          "metadata": {}
        },
        {
          "output_type": "display_data",
          "data": {
            "text/plain": [
              "<Figure size 720x360 with 1 Axes>"
            ],
            "image/png": "[encoded data removed]"
          },
          "metadata": {}
        },
        {
          "output_type": "display_data",
          "data": {
            "text/plain": [
              "<Figure size 720x360 with 1 Axes>"
            ],
            "image/png": "[encoded data removed]"
          },
          "metadata": {}
        }
      ]
    },
    {
      "cell_type": "markdown",
      "source": [
        "Small outlets have items that produce the least sales; peaks at less than ₹1,000 and only goes down from there but it does have the largest count, meaning the most items.\n",
        "\n",
        "---\n",
        "Medium outlets have a very notable peak between ₹1,000 and ₹2,000 then drops fairly quickly, with the second largest count, meaning the second largest selection of items.\n",
        "\n",
        "---\n",
        "High outlets have the most stable peak, despite some variance it's fairly consistent between ₹500 and ₹2,000 and then drops gradually. Though it does have the smallest count, meaning the smallest selection of total items."
      ],
      "metadata": {
        "id": "WnEY1TtViZkD"
      }
    },
    {
      "cell_type": "code",
      "source": [
        "print(f\"\"\"Small Outlets have a total of {len(small)} items.\n",
        "The largest selection of items in any outlet in our data.\n",
        "\"\"\")\n",
        "print(f\"\"\"Medium Outlets have a total of {len(medium)} items.\n",
        "Half the total selection of items in Small Outlets.\n",
        "\"\"\")\n",
        "print(f\"\"\"High Outlets have a total of {len(high)} items.\n",
        "The smallest selection of items out of any Outlet in our data.\n",
        "\"\"\")"
      ],
      "metadata": {
        "colab": {
          "base_uri": "https://localhost:8080/"
        },
        "id": "TrNajMInjy4n",
        "outputId": "832c0072-5dae-4b9d-eb3a-cbe2f55ba07c"
      },
      "execution_count": null,
      "outputs": [
        {
          "output_type": "stream",
          "name": "stdout",
          "text": [
            "Small Outlets have a total of 4798 items.\n",
            "The largest selection of items in any outlet in our data.\n",
            "\n",
            "Medium Outlets have a total of 2793 items.\n",
            "Half the total selection of items in Small Outlets.\n",
            "\n",
            "High Outlets have a total of 932 items.\n",
            "The smallest selection of items out of any Outlet in our data.\n",
            "\n"
          ]
        }
      ]
    },
    {
      "cell_type": "code",
      "source": [
        "print(f\"\"\"Small Outlets produces a total of ₹{small['Outlet Sales'].sum().round(2):,.0f} in sales.\n",
        "The greatest total sales in any outlet in our data.\n",
        "\"\"\")\n",
        "print(f\"\"\"Medium Outlets produces a total of ₹{medium['Outlet Sales'].sum().round(2):,.0f} in sales.\n",
        "The second highest total sales in any outlet in our data.\n",
        "\"\"\")\n",
        "print(f\"\"\"High Outlets produces a total of ₹{high['Outlet Sales'].sum().round(2):,.0f} in sales.\n",
        "The smallest total sales in any outlet in our data.\n",
        "\"\"\")"
      ],
      "metadata": {
        "colab": {
          "base_uri": "https://localhost:8080/"
        },
        "id": "tPJxxdOhloA2",
        "outputId": "0a78847a-e23f-4214-f443-63eef1d4eab9"
      },
      "execution_count": null,
      "outputs": [
        {
          "output_type": "stream",
          "name": "stdout",
          "text": [
            "Small Outlets produces a total of ₹8,958,743 in sales.\n",
            "The greatest total sales in any outlet in our data.\n",
            "\n",
            "Medium Outlets produces a total of ₹7,489,719 in sales.\n",
            "The second highest total sales in any outlet in our data.\n",
            "\n",
            "High Outlets produces a total of ₹2,142,664 in sales.\n",
            "The smallest total sales in any outlet in our data.\n",
            "\n"
          ]
        }
      ]
    },
    {
      "cell_type": "markdown",
      "source": [
        "Small outlets have the greatest selection of items, despite any individual item producing less sales than in medium and high outlets, it still produces the greatest amount of total sales overall simply out of the sheer volume of items.\n",
        "\n",
        "---\n",
        "Medium outlets have the second largest selection of items, it also has more expensive items and items that can produce greater total sales individually than items in small outlets. It comes as a close second making a about ₹1,500,000 less than small outlets.\n",
        "\n",
        "---\n",
        "High outlets have the smallest selection of items and produces the smallest total sales by a large margin than small and medium outlets. Despite have high value items than can consistenly make more sales individually than the other two outlet sizes, it produces a notable ~₹5,000,000 less in total sales than medium outlets and ~₹6,800,000 less than small outlets."
      ],
      "metadata": {
        "id": "GcIHI5DLfl5F"
      }
    }
  ]
}
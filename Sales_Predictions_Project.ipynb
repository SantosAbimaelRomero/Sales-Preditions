{
  "nbformat": 4,
  "nbformat_minor": 0,
  "metadata": {
    "colab": {
      "provenance": [],
      "collapsed_sections": [],
      "mount_file_id": "1WNcYAhPeT8tPo58O7PN-FtyndsFoZCA7",
      "authorship_tag": "ABX9TyPsSEina5KE4i+9AixTIZPS",
      "include_colab_link": true
    },
    "kernelspec": {
      "name": "python3",
      "display_name": "Python 3"
    },
    "language_info": {
      "name": "python"
    }
  },
  "cells": [
    {
      "cell_type": "markdown",
      "metadata": {
        "id": "view-in-github",
        "colab_type": "text"
      },
      "source": [
        "<a href=\"https://colab.research.google.com/github/SantosAbimaelRomero/Sales-Preditions/blob/main/Sales_Predictions_Project.ipynb\" target=\"_parent\"><img src=\"https://colab.research.google.com/assets/colab-badge.svg\" alt=\"Open In Colab\"/></a>"
      ]
    },
    {
      "cell_type": "markdown",
      "source": [
        "# Sales Statistics - Part 1\n",
        "- Santos Romero"
      ],
      "metadata": {
        "id": "M5mMbnant9gi"
      }
    },
    {
      "cell_type": "markdown",
      "source": [
        "## Loading Data"
      ],
      "metadata": {
        "id": "mQzmAqiNuA-1"
      }
    },
    {
      "cell_type": "code",
      "source": [
        "import pandas as pd\n",
        "from google.colab import drive\n",
        "drive.mount('/content/drive')"
      ],
      "metadata": {
        "id": "UY_GHoH7ugR_",
        "colab": {
          "base_uri": "https://localhost:8080/"
        },
        "outputId": "dd3869bb-75a4-4662-f2ce-4b34ca146834"
      },
      "execution_count": null,
      "outputs": [
        {
          "output_type": "stream",
          "name": "stdout",
          "text": [
            "Drive already mounted at /content/drive; to attempt to forcibly remount, call drive.mount(\"/content/drive\", force_remount=True).\n"
          ]
        }
      ]
    },
    {
      "cell_type": "code",
      "source": [
        "import matplotlib.pyplot as plt\n",
        "import seaborn as sns\n",
        "import numpy as np"
      ],
      "metadata": {
        "id": "U2-1N9P5Qji4"
      },
      "execution_count": null,
      "outputs": []
    },
    {
      "cell_type": "code",
      "source": [
        "sales_csv = pd.read_csv('/content/drive/MyDrive/Stack Projects/Project 1, Sales Predictions/sales_predictions.csv')"
      ],
      "metadata": {
        "id": "86WCKbZzrZ8I"
      },
      "execution_count": null,
      "outputs": []
    },
    {
      "cell_type": "markdown",
      "source": [
        "## Data Cleaning"
      ],
      "metadata": {
        "id": "xG9AI7ajrxHr"
      }
    },
    {
      "cell_type": "markdown",
      "source": [
        "### Overview of Data"
      ],
      "metadata": {
        "id": "P4vHCFI3ySPp"
      }
    },
    {
      "cell_type": "code",
      "source": [
        "sales_csv.info()"
      ],
      "metadata": {
        "colab": {
          "base_uri": "https://localhost:8080/"
        },
        "id": "G2fIRi3-sTs1",
        "outputId": "be5ce433-311e-4f70-d1ce-04ddcdcb5edf"
      },
      "execution_count": null,
      "outputs": [
        {
          "output_type": "stream",
          "name": "stdout",
          "text": [
            "<class 'pandas.core.frame.DataFrame'>\n",
            "RangeIndex: 8523 entries, 0 to 8522\n",
            "Data columns (total 12 columns):\n",
            " #   Column                     Non-Null Count  Dtype  \n",
            "---  ------                     --------------  -----  \n",
            " 0   Item_Identifier            8523 non-null   object \n",
            " 1   Item_Weight                7060 non-null   float64\n",
            " 2   Item_Fat_Content           8523 non-null   object \n",
            " 3   Item_Visibility            8523 non-null   float64\n",
            " 4   Item_Type                  8523 non-null   object \n",
            " 5   Item_MRP                   8523 non-null   float64\n",
            " 6   Outlet_Identifier          8523 non-null   object \n",
            " 7   Outlet_Establishment_Year  8523 non-null   int64  \n",
            " 8   Outlet_Size                6113 non-null   object \n",
            " 9   Outlet_Location_Type       8523 non-null   object \n",
            " 10  Outlet_Type                8523 non-null   object \n",
            " 11  Item_Outlet_Sales          8523 non-null   float64\n",
            "dtypes: float64(4), int64(1), object(7)\n",
            "memory usage: 799.2+ KB\n"
          ]
        }
      ]
    },
    {
      "cell_type": "code",
      "source": [
        "sales_csv.head()"
      ],
      "metadata": {
        "colab": {
          "base_uri": "https://localhost:8080/",
          "height": 357
        },
        "id": "bRuS_XttuOlD",
        "outputId": "90c7e943-107f-473c-faf2-d59d0a1251df"
      },
      "execution_count": null,
      "outputs": [
        {
          "output_type": "execute_result",
          "data": {
            "text/plain": [
              "  Item_Identifier  Item_Weight Item_Fat_Content  Item_Visibility  \\\n",
              "0           FDA15         9.30          Low Fat         0.016047   \n",
              "1           DRC01         5.92          Regular         0.019278   \n",
              "2           FDN15        17.50          Low Fat         0.016760   \n",
              "3           FDX07        19.20          Regular         0.000000   \n",
              "4           NCD19         8.93          Low Fat         0.000000   \n",
              "\n",
              "               Item_Type  Item_MRP Outlet_Identifier  \\\n",
              "0                  Dairy  249.8092            OUT049   \n",
              "1            Soft Drinks   48.2692            OUT018   \n",
              "2                   Meat  141.6180            OUT049   \n",
              "3  Fruits and Vegetables  182.0950            OUT010   \n",
              "4              Household   53.8614            OUT013   \n",
              "\n",
              "   Outlet_Establishment_Year Outlet_Size Outlet_Location_Type  \\\n",
              "0                       1999      Medium               Tier 1   \n",
              "1                       2009      Medium               Tier 3   \n",
              "2                       1999      Medium               Tier 1   \n",
              "3                       1998         NaN               Tier 3   \n",
              "4                       1987        High               Tier 3   \n",
              "\n",
              "         Outlet_Type  Item_Outlet_Sales  \n",
              "0  Supermarket Type1          3735.1380  \n",
              "1  Supermarket Type2           443.4228  \n",
              "2  Supermarket Type1          2097.2700  \n",
              "3      Grocery Store           732.3800  \n",
              "4  Supermarket Type1           994.7052  "
            ],
            "text/html": [
              "\n",
              "  <div id=\"df-fc079ee9-f166-44ff-ad2c-0e2e403f0729\">\n",
              "    <div class=\"colab-df-container\">\n",
              "      <div>\n",
              "<style scoped>\n",
              "    .dataframe tbody tr th:only-of-type {\n",
              "        vertical-align: middle;\n",
              "    }\n",
              "\n",
              "    .dataframe tbody tr th {\n",
              "        vertical-align: top;\n",
              "    }\n",
              "\n",
              "    .dataframe thead th {\n",
              "        text-align: right;\n",
              "    }\n",
              "</style>\n",
              "<table border=\"1\" class=\"dataframe\">\n",
              "  <thead>\n",
              "    <tr style=\"text-align: right;\">\n",
              "      <th></th>\n",
              "      <th>Item_Identifier</th>\n",
              "      <th>Item_Weight</th>\n",
              "      <th>Item_Fat_Content</th>\n",
              "      <th>Item_Visibility</th>\n",
              "      <th>Item_Type</th>\n",
              "      <th>Item_MRP</th>\n",
              "      <th>Outlet_Identifier</th>\n",
              "      <th>Outlet_Establishment_Year</th>\n",
              "      <th>Outlet_Size</th>\n",
              "      <th>Outlet_Location_Type</th>\n",
              "      <th>Outlet_Type</th>\n",
              "      <th>Item_Outlet_Sales</th>\n",
              "    </tr>\n",
              "  </thead>\n",
              "  <tbody>\n",
              "    <tr>\n",
              "      <th>0</th>\n",
              "      <td>FDA15</td>\n",
              "      <td>9.30</td>\n",
              "      <td>Low Fat</td>\n",
              "      <td>0.016047</td>\n",
              "      <td>Dairy</td>\n",
              "      <td>249.8092</td>\n",
              "      <td>OUT049</td>\n",
              "      <td>1999</td>\n",
              "      <td>Medium</td>\n",
              "      <td>Tier 1</td>\n",
              "      <td>Supermarket Type1</td>\n",
              "      <td>3735.1380</td>\n",
              "    </tr>\n",
              "    <tr>\n",
              "      <th>1</th>\n",
              "      <td>DRC01</td>\n",
              "      <td>5.92</td>\n",
              "      <td>Regular</td>\n",
              "      <td>0.019278</td>\n",
              "      <td>Soft Drinks</td>\n",
              "      <td>48.2692</td>\n",
              "      <td>OUT018</td>\n",
              "      <td>2009</td>\n",
              "      <td>Medium</td>\n",
              "      <td>Tier 3</td>\n",
              "      <td>Supermarket Type2</td>\n",
              "      <td>443.4228</td>\n",
              "    </tr>\n",
              "    <tr>\n",
              "      <th>2</th>\n",
              "      <td>FDN15</td>\n",
              "      <td>17.50</td>\n",
              "      <td>Low Fat</td>\n",
              "      <td>0.016760</td>\n",
              "      <td>Meat</td>\n",
              "      <td>141.6180</td>\n",
              "      <td>OUT049</td>\n",
              "      <td>1999</td>\n",
              "      <td>Medium</td>\n",
              "      <td>Tier 1</td>\n",
              "      <td>Supermarket Type1</td>\n",
              "      <td>2097.2700</td>\n",
              "    </tr>\n",
              "    <tr>\n",
              "      <th>3</th>\n",
              "      <td>FDX07</td>\n",
              "      <td>19.20</td>\n",
              "      <td>Regular</td>\n",
              "      <td>0.000000</td>\n",
              "      <td>Fruits and Vegetables</td>\n",
              "      <td>182.0950</td>\n",
              "      <td>OUT010</td>\n",
              "      <td>1998</td>\n",
              "      <td>NaN</td>\n",
              "      <td>Tier 3</td>\n",
              "      <td>Grocery Store</td>\n",
              "      <td>732.3800</td>\n",
              "    </tr>\n",
              "    <tr>\n",
              "      <th>4</th>\n",
              "      <td>NCD19</td>\n",
              "      <td>8.93</td>\n",
              "      <td>Low Fat</td>\n",
              "      <td>0.000000</td>\n",
              "      <td>Household</td>\n",
              "      <td>53.8614</td>\n",
              "      <td>OUT013</td>\n",
              "      <td>1987</td>\n",
              "      <td>High</td>\n",
              "      <td>Tier 3</td>\n",
              "      <td>Supermarket Type1</td>\n",
              "      <td>994.7052</td>\n",
              "    </tr>\n",
              "  </tbody>\n",
              "</table>\n",
              "</div>\n",
              "      <button class=\"colab-df-convert\" onclick=\"convertToInteractive('df-fc079ee9-f166-44ff-ad2c-0e2e403f0729')\"\n",
              "              title=\"Convert this dataframe to an interactive table.\"\n",
              "              style=\"display:none;\">\n",
              "        \n",
              "  <svg xmlns=\"http://www.w3.org/2000/svg\" height=\"24px\"viewBox=\"0 0 24 24\"\n",
              "       width=\"24px\">\n",
              "    <path d=\"M0 0h24v24H0V0z\" fill=\"none\"/>\n",
              "    <path d=\"M18.56 5.44l.94 2.06.94-2.06 2.06-.94-2.06-.94-.94-2.06-.94 2.06-2.06.94zm-11 1L8.5 8.5l.94-2.06 2.06-.94-2.06-.94L8.5 2.5l-.94 2.06-2.06.94zm10 10l.94 2.06.94-2.06 2.06-.94-2.06-.94-.94-2.06-.94 2.06-2.06.94z\"/><path d=\"M17.41 7.96l-1.37-1.37c-.4-.4-.92-.59-1.43-.59-.52 0-1.04.2-1.43.59L10.3 9.45l-7.72 7.72c-.78.78-.78 2.05 0 2.83L4 21.41c.39.39.9.59 1.41.59.51 0 1.02-.2 1.41-.59l7.78-7.78 2.81-2.81c.8-.78.8-2.07 0-2.86zM5.41 20L4 18.59l7.72-7.72 1.47 1.35L5.41 20z\"/>\n",
              "  </svg>\n",
              "      </button>\n",
              "      \n",
              "  <style>\n",
              "    .colab-df-container {\n",
              "      display:flex;\n",
              "      flex-wrap:wrap;\n",
              "      gap: 12px;\n",
              "    }\n",
              "\n",
              "    .colab-df-convert {\n",
              "      background-color: #E8F0FE;\n",
              "      border: none;\n",
              "      border-radius: 50%;\n",
              "      cursor: pointer;\n",
              "      display: none;\n",
              "      fill: #1967D2;\n",
              "      height: 32px;\n",
              "      padding: 0 0 0 0;\n",
              "      width: 32px;\n",
              "    }\n",
              "\n",
              "    .colab-df-convert:hover {\n",
              "      background-color: #E2EBFA;\n",
              "      box-shadow: 0px 1px 2px rgba(60, 64, 67, 0.3), 0px 1px 3px 1px rgba(60, 64, 67, 0.15);\n",
              "      fill: #174EA6;\n",
              "    }\n",
              "\n",
              "    [theme=dark] .colab-df-convert {\n",
              "      background-color: #3B4455;\n",
              "      fill: #D2E3FC;\n",
              "    }\n",
              "\n",
              "    [theme=dark] .colab-df-convert:hover {\n",
              "      background-color: #434B5C;\n",
              "      box-shadow: 0px 1px 3px 1px rgba(0, 0, 0, 0.15);\n",
              "      filter: drop-shadow(0px 1px 2px rgba(0, 0, 0, 0.3));\n",
              "      fill: #FFFFFF;\n",
              "    }\n",
              "  </style>\n",
              "\n",
              "      <script>\n",
              "        const buttonEl =\n",
              "          document.querySelector('#df-fc079ee9-f166-44ff-ad2c-0e2e403f0729 button.colab-df-convert');\n",
              "        buttonEl.style.display =\n",
              "          google.colab.kernel.accessAllowed ? 'block' : 'none';\n",
              "\n",
              "        async function convertToInteractive(key) {\n",
              "          const element = document.querySelector('#df-fc079ee9-f166-44ff-ad2c-0e2e403f0729');\n",
              "          const dataTable =\n",
              "            await google.colab.kernel.invokeFunction('convertToInteractive',\n",
              "                                                     [key], {});\n",
              "          if (!dataTable) return;\n",
              "\n",
              "          const docLinkHtml = 'Like what you see? Visit the ' +\n",
              "            '<a target=\"_blank\" href=https://colab.research.google.com/notebooks/data_table.ipynb>data table notebook</a>'\n",
              "            + ' to learn more about interactive tables.';\n",
              "          element.innerHTML = '';\n",
              "          dataTable['output_type'] = 'display_data';\n",
              "          await google.colab.output.renderOutput(dataTable, element);\n",
              "          const docLink = document.createElement('div');\n",
              "          docLink.innerHTML = docLinkHtml;\n",
              "          element.appendChild(docLink);\n",
              "        }\n",
              "      </script>\n",
              "    </div>\n",
              "  </div>\n",
              "  "
            ]
          },
          "metadata": {},
          "execution_count": 5
        }
      ]
    },
    {
      "cell_type": "markdown",
      "source": [
        "General Info\n",
        "- 8523 rows\n",
        "- 11 Columns\n",
        "> - Item_Weight and Outlet_Size have NaNs\n",
        "> - No data type issues"
      ],
      "metadata": {
        "id": "g3hWzI2jsISk"
      }
    },
    {
      "cell_type": "markdown",
      "source": [
        "### Checking for duplicates"
      ],
      "metadata": {
        "id": "XTbZqYBmxiL4"
      }
    },
    {
      "cell_type": "code",
      "source": [
        "sales_csv.duplicated().sum()\n",
        "# Nothing was printed, contains no duplicates"
      ],
      "metadata": {
        "colab": {
          "base_uri": "https://localhost:8080/"
        },
        "id": "-2uqhyEZvaXx",
        "outputId": "8c8096d7-60cb-4a69-b53d-706feecf79c2"
      },
      "execution_count": null,
      "outputs": [
        {
          "output_type": "execute_result",
          "data": {
            "text/plain": [
              "0"
            ]
          },
          "metadata": {},
          "execution_count": 6
        }
      ]
    },
    {
      "cell_type": "markdown",
      "source": [
        "### Missing Values"
      ],
      "metadata": {
        "id": "KmmKBVEzy2c5"
      }
    },
    {
      "cell_type": "code",
      "source": [
        "sales_csv.isna().sum()\n",
        "# Item_Weight and Outlet_Size are missing data"
      ],
      "metadata": {
        "colab": {
          "base_uri": "https://localhost:8080/"
        },
        "id": "0gaSNAz-0VoY",
        "outputId": "d3d71481-a28c-4e33-b947-b64599387805"
      },
      "execution_count": null,
      "outputs": [
        {
          "output_type": "execute_result",
          "data": {
            "text/plain": [
              "Item_Identifier                 0\n",
              "Item_Weight                  1463\n",
              "Item_Fat_Content                0\n",
              "Item_Visibility                 0\n",
              "Item_Type                       0\n",
              "Item_MRP                        0\n",
              "Outlet_Identifier               0\n",
              "Outlet_Establishment_Year       0\n",
              "Outlet_Size                  2410\n",
              "Outlet_Location_Type            0\n",
              "Outlet_Type                     0\n",
              "Item_Outlet_Sales               0\n",
              "dtype: int64"
            ]
          },
          "metadata": {},
          "execution_count": 7
        }
      ]
    },
    {
      "cell_type": "markdown",
      "source": [
        "#### Outlet_Size"
      ],
      "metadata": {
        "id": "zxifVJM9KCyU"
      }
    },
    {
      "cell_type": "markdown",
      "source": [
        "Let's look for patterns with the other two related columns, Outlet_Location_Type and Outlet_Type"
      ],
      "metadata": {
        "id": "mtGpOA150cX8"
      }
    },
    {
      "cell_type": "code",
      "source": [
        "sales_csv.groupby('Outlet_Location_Type')['Outlet_Size'].value_counts()\n",
        "# Tier 1s are mostly small but can be any size\n",
        "# Tier 2s are all small\n",
        "# Tier 3s are mostly medium but can be High"
      ],
      "metadata": {
        "colab": {
          "base_uri": "https://localhost:8080/"
        },
        "id": "9xWPa6eQhOoO",
        "outputId": "09245f2f-e35f-46cd-9fb9-15b809f0e240"
      },
      "execution_count": null,
      "outputs": [
        {
          "output_type": "execute_result",
          "data": {
            "text/plain": [
              "Outlet_Location_Type  Outlet_Size\n",
              "Tier 1                Small          1458\n",
              "                      Medium          930\n",
              "Tier 2                Small           930\n",
              "Tier 3                Medium         1863\n",
              "                      High            932\n",
              "Name: Outlet_Size, dtype: int64"
            ]
          },
          "metadata": {},
          "execution_count": 8
        }
      ]
    },
    {
      "cell_type": "code",
      "source": [
        "sales_csv.groupby('Outlet_Type')['Outlet_Size'].value_counts()\n",
        "# Grocery Stores are all small\n",
        "# Supermarket Type1s are mostly small but can be any size\n",
        "# Supermarket Type2s and Type3s are all medium"
      ],
      "metadata": {
        "colab": {
          "base_uri": "https://localhost:8080/"
        },
        "id": "8mJ2QDsOzVje",
        "outputId": "347437ae-388b-41f8-c6a8-5449d8efd3b1"
      },
      "execution_count": null,
      "outputs": [
        {
          "output_type": "execute_result",
          "data": {
            "text/plain": [
              "Outlet_Type        Outlet_Size\n",
              "Grocery Store      Small           528\n",
              "Supermarket Type1  Small          1860\n",
              "                   High            932\n",
              "                   Medium          930\n",
              "Supermarket Type2  Medium          928\n",
              "Supermarket Type3  Medium          935\n",
              "Name: Outlet_Size, dtype: int64"
            ]
          },
          "metadata": {},
          "execution_count": 9
        }
      ]
    },
    {
      "cell_type": "markdown",
      "source": [
        "Small\n",
        "- Tier 2s are always small, grocery stores are always small\n",
        "- Tier 1s are mostly small, Supermarket Type 1s are mostly small\n",
        "\n",
        "Medium\n",
        "- Tier 3s are mostly medium, Tier 1s are less likely but can be medium\n",
        "- Supermarket Type 2 & 3 are only medium, Type 1s are less likely but can be medium\n",
        "\n",
        "High\n",
        "- Tier 3s are the only highs\n",
        "- Supermarket Type 1s are the only highs"
      ],
      "metadata": {
        "id": "heRmmxNJJGjJ"
      }
    },
    {
      "cell_type": "code",
      "source": [
        "# Let's Start with what we are certain on\n",
        "# Tier 2s are all small and Grocery Stores are all small\n",
        "# Supermarket Type2s and Type3s are all medium\n",
        "# Since the index for out Dataframe is just numbers from 0 - 8523\n",
        "# Let's loop through the index\n",
        "for index in range(len(sales_csv)):\n",
        "    if sales_csv.loc[index, 'Outlet_Location_Type'] == 'Tier 2':\n",
        "        sales_csv.loc[index, 'Outlet_Size'] = 'Small'\n",
        "    elif sales_csv.loc[index, 'Outlet_Type'] == 'Grocery Store':\n",
        "        sales_csv.loc[index, 'Outlet_Size'] = 'Small'\n",
        "    elif sales_csv.loc[index, 'Outlet_Type'] == 'Supermarket Type2':\n",
        "        sales_csv.loc[index, 'Outlet_Size'] = 'Medium'\n",
        "    elif sales_csv.loc[index, 'Outlet_Type'] == 'Supermarket Type3':\n",
        "        sales_csv.loc[index, 'Outlet_Size'] = 'Medium'\n"
      ],
      "metadata": {
        "id": "y2p96umhvfmn"
      },
      "execution_count": null,
      "outputs": []
    },
    {
      "cell_type": "code",
      "source": [
        "sales_csv.isna().sum()\n",
        "# That seems to have been all of them"
      ],
      "metadata": {
        "colab": {
          "base_uri": "https://localhost:8080/"
        },
        "id": "yPodQ6vlyc4Y",
        "outputId": "9ad67519-a7e8-4357-ec19-7e129ab9d677"
      },
      "execution_count": null,
      "outputs": [
        {
          "output_type": "execute_result",
          "data": {
            "text/plain": [
              "Item_Identifier                 0\n",
              "Item_Weight                  1463\n",
              "Item_Fat_Content                0\n",
              "Item_Visibility                 0\n",
              "Item_Type                       0\n",
              "Item_MRP                        0\n",
              "Outlet_Identifier               0\n",
              "Outlet_Establishment_Year       0\n",
              "Outlet_Size                     0\n",
              "Outlet_Location_Type            0\n",
              "Outlet_Type                     0\n",
              "Item_Outlet_Sales               0\n",
              "dtype: int64"
            ]
          },
          "metadata": {},
          "execution_count": 11
        }
      ]
    },
    {
      "cell_type": "markdown",
      "source": [
        "#### Item_Weight"
      ],
      "metadata": {
        "id": "ifYy_b2ZZBvv"
      }
    },
    {
      "cell_type": "markdown",
      "source": [
        "For my purpose with this data, the weight of the items is irrelavent as I am not concered with shipping. Only the in-person sales that occur at the supermarkets/grocery stores are my focus. I shall drop the column entirely."
      ],
      "metadata": {
        "id": "CWqTVBPrZEWL"
      }
    },
    {
      "cell_type": "code",
      "source": [
        "# Drop Item_Weight Column\n",
        "sales_csv.drop(columns='Item_Weight', inplace=True)\n",
        "sales_csv.isna().sum()\n",
        "# There are now no missing values in our data"
      ],
      "metadata": {
        "colab": {
          "base_uri": "https://localhost:8080/"
        },
        "id": "wUBk3aYdaak-",
        "outputId": "b9a626b0-0dd4-4eaf-f457-1fd98ab30cff"
      },
      "execution_count": null,
      "outputs": [
        {
          "output_type": "execute_result",
          "data": {
            "text/plain": [
              "Item_Identifier              0\n",
              "Item_Fat_Content             0\n",
              "Item_Visibility              0\n",
              "Item_Type                    0\n",
              "Item_MRP                     0\n",
              "Outlet_Identifier            0\n",
              "Outlet_Establishment_Year    0\n",
              "Outlet_Size                  0\n",
              "Outlet_Location_Type         0\n",
              "Outlet_Type                  0\n",
              "Item_Outlet_Sales            0\n",
              "dtype: int64"
            ]
          },
          "metadata": {},
          "execution_count": 12
        }
      ]
    },
    {
      "cell_type": "markdown",
      "source": [
        "### Incorrect Values"
      ],
      "metadata": {
        "id": "o23D6OF12Jzt"
      }
    },
    {
      "cell_type": "code",
      "source": [
        "sales_csv.info()"
      ],
      "metadata": {
        "colab": {
          "base_uri": "https://localhost:8080/"
        },
        "id": "28XpgA2F2M7m",
        "outputId": "148e80be-6dca-456d-f007-f19caf093209"
      },
      "execution_count": null,
      "outputs": [
        {
          "output_type": "stream",
          "name": "stdout",
          "text": [
            "<class 'pandas.core.frame.DataFrame'>\n",
            "RangeIndex: 8523 entries, 0 to 8522\n",
            "Data columns (total 11 columns):\n",
            " #   Column                     Non-Null Count  Dtype  \n",
            "---  ------                     --------------  -----  \n",
            " 0   Item_Identifier            8523 non-null   object \n",
            " 1   Item_Fat_Content           8523 non-null   object \n",
            " 2   Item_Visibility            8523 non-null   float64\n",
            " 3   Item_Type                  8523 non-null   object \n",
            " 4   Item_MRP                   8523 non-null   float64\n",
            " 5   Outlet_Identifier          8523 non-null   object \n",
            " 6   Outlet_Establishment_Year  8523 non-null   int64  \n",
            " 7   Outlet_Size                8523 non-null   object \n",
            " 8   Outlet_Location_Type       8523 non-null   object \n",
            " 9   Outlet_Type                8523 non-null   object \n",
            " 10  Item_Outlet_Sales          8523 non-null   float64\n",
            "dtypes: float64(3), int64(1), object(7)\n",
            "memory usage: 732.6+ KB\n"
          ]
        }
      ]
    },
    {
      "cell_type": "markdown",
      "source": [
        "Let's go through each column where this might be an issue"
      ],
      "metadata": {
        "id": "X0nOa9AV2O11"
      }
    },
    {
      "cell_type": "code",
      "source": [
        "sales_csv['Item_Fat_Content'].value_counts()"
      ],
      "metadata": {
        "colab": {
          "base_uri": "https://localhost:8080/"
        },
        "id": "u0uWwv4h2DdQ",
        "outputId": "b4a8f692-1a55-494f-9b8e-59345d2c6904"
      },
      "execution_count": null,
      "outputs": [
        {
          "output_type": "execute_result",
          "data": {
            "text/plain": [
              "Low Fat    5089\n",
              "Regular    2889\n",
              "LF          316\n",
              "reg         117\n",
              "low fat     112\n",
              "Name: Item_Fat_Content, dtype: int64"
            ]
          },
          "metadata": {},
          "execution_count": 14
        }
      ]
    },
    {
      "cell_type": "code",
      "source": [
        "sales_csv['Item_Fat_Content'].replace('low fat', 'Low Fat', inplace=True)\n",
        "sales_csv['Item_Fat_Content'].replace('LF', 'Low Fat', inplace=True)\n",
        "sales_csv['Item_Fat_Content'].replace('reg', 'Regular', inplace=True)\n",
        "sales_csv['Item_Fat_Content'].value_counts()"
      ],
      "metadata": {
        "colab": {
          "base_uri": "https://localhost:8080/"
        },
        "id": "0lo-WIKd2Ugl",
        "outputId": "82110e60-da9d-47f1-92ac-80dfdca14b56"
      },
      "execution_count": null,
      "outputs": [
        {
          "output_type": "execute_result",
          "data": {
            "text/plain": [
              "Low Fat    5517\n",
              "Regular    3006\n",
              "Name: Item_Fat_Content, dtype: int64"
            ]
          },
          "metadata": {},
          "execution_count": 15
        }
      ]
    },
    {
      "cell_type": "code",
      "source": [
        "sales_csv['Item_Type'].value_counts()"
      ],
      "metadata": {
        "colab": {
          "base_uri": "https://localhost:8080/"
        },
        "id": "twnHtOI852Ln",
        "outputId": "192ec984-93f9-4075-f13d-df816aab708b"
      },
      "execution_count": null,
      "outputs": [
        {
          "output_type": "execute_result",
          "data": {
            "text/plain": [
              "Fruits and Vegetables    1232\n",
              "Snack Foods              1200\n",
              "Household                 910\n",
              "Frozen Foods              856\n",
              "Dairy                     682\n",
              "Canned                    649\n",
              "Baking Goods              648\n",
              "Health and Hygiene        520\n",
              "Soft Drinks               445\n",
              "Meat                      425\n",
              "Breads                    251\n",
              "Hard Drinks               214\n",
              "Others                    169\n",
              "Starchy Foods             148\n",
              "Breakfast                 110\n",
              "Seafood                    64\n",
              "Name: Item_Type, dtype: int64"
            ]
          },
          "metadata": {},
          "execution_count": 16
        }
      ]
    },
    {
      "cell_type": "code",
      "source": [
        "sales_csv['Outlet_Identifier'].value_counts()"
      ],
      "metadata": {
        "colab": {
          "base_uri": "https://localhost:8080/"
        },
        "id": "leQ0NOk_5toF",
        "outputId": "35df5b6d-b808-4d41-e351-b31ad08b208c"
      },
      "execution_count": null,
      "outputs": [
        {
          "output_type": "execute_result",
          "data": {
            "text/plain": [
              "OUT027    935\n",
              "OUT013    932\n",
              "OUT049    930\n",
              "OUT046    930\n",
              "OUT035    930\n",
              "OUT045    929\n",
              "OUT018    928\n",
              "OUT017    926\n",
              "OUT010    555\n",
              "OUT019    528\n",
              "Name: Outlet_Identifier, dtype: int64"
            ]
          },
          "metadata": {},
          "execution_count": 17
        }
      ]
    },
    {
      "cell_type": "code",
      "source": [
        "sales_csv['Outlet_Size'].value_counts()"
      ],
      "metadata": {
        "colab": {
          "base_uri": "https://localhost:8080/"
        },
        "id": "5hXpqHM65oAa",
        "outputId": "f91634be-f9e8-4d82-94c4-e9af495ef110"
      },
      "execution_count": null,
      "outputs": [
        {
          "output_type": "execute_result",
          "data": {
            "text/plain": [
              "Small     4798\n",
              "Medium    2793\n",
              "High       932\n",
              "Name: Outlet_Size, dtype: int64"
            ]
          },
          "metadata": {},
          "execution_count": 18
        }
      ]
    },
    {
      "cell_type": "code",
      "source": [
        "sales_csv['Outlet_Type'].value_counts()"
      ],
      "metadata": {
        "colab": {
          "base_uri": "https://localhost:8080/"
        },
        "id": "0SUs_mR05lfc",
        "outputId": "c2b07aae-10d0-4bf3-bdc5-665ed7613156"
      },
      "execution_count": null,
      "outputs": [
        {
          "output_type": "execute_result",
          "data": {
            "text/plain": [
              "Supermarket Type1    5577\n",
              "Grocery Store        1083\n",
              "Supermarket Type3     935\n",
              "Supermarket Type2     928\n",
              "Name: Outlet_Type, dtype: int64"
            ]
          },
          "metadata": {},
          "execution_count": 19
        }
      ]
    },
    {
      "cell_type": "code",
      "source": [
        "sales_csv['Outlet_Location_Type'].value_counts()"
      ],
      "metadata": {
        "colab": {
          "base_uri": "https://localhost:8080/"
        },
        "id": "XsMEIC2L3F75",
        "outputId": "0da2a90c-1506-44ce-d07d-5c70ee096c6b"
      },
      "execution_count": null,
      "outputs": [
        {
          "output_type": "execute_result",
          "data": {
            "text/plain": [
              "Tier 3    3350\n",
              "Tier 2    2785\n",
              "Tier 1    2388\n",
              "Name: Outlet_Location_Type, dtype: int64"
            ]
          },
          "metadata": {},
          "execution_count": 20
        }
      ]
    },
    {
      "cell_type": "code",
      "source": [
        "sales_csv['Outlet_Establishment_Year'].value_counts()"
      ],
      "metadata": {
        "colab": {
          "base_uri": "https://localhost:8080/"
        },
        "id": "F_2bng0f6DzL",
        "outputId": "340622e9-9fea-4c7d-9417-71647f506ad3"
      },
      "execution_count": null,
      "outputs": [
        {
          "output_type": "execute_result",
          "data": {
            "text/plain": [
              "1985    1463\n",
              "1987     932\n",
              "1999     930\n",
              "1997     930\n",
              "2004     930\n",
              "2002     929\n",
              "2009     928\n",
              "2007     926\n",
              "1998     555\n",
              "Name: Outlet_Establishment_Year, dtype: int64"
            ]
          },
          "metadata": {},
          "execution_count": 21
        }
      ]
    },
    {
      "cell_type": "markdown",
      "source": [
        "Only Item_Fat_Content had value issues"
      ],
      "metadata": {
        "id": "oTeAayU_6KyK"
      }
    },
    {
      "cell_type": "markdown",
      "source": [
        "## Exploratory Visuals"
      ],
      "metadata": {
        "id": "D1OIKfy_uFww"
      }
    },
    {
      "cell_type": "markdown",
      "source": [
        "### Summary Statistics"
      ],
      "metadata": {
        "id": "5Md4E7neuH19"
      }
    },
    {
      "cell_type": "code",
      "source": [
        "# Basic Statistics for all relevant number columns\n",
        "print(f\"\"\"Item Visibility:\n",
        "Minimum:{sales_csv['Item_Visibility'].min()}\n",
        "Maximum:{sales_csv['Item_Visibility'].max().round(4)}\n",
        "Average:{sales_csv['Item_Visibility'].mean().round(4)}\n",
        "\"\"\")\n",
        "print(f\"\"\"Item MRP:\n",
        "Minimum:${sales_csv['Item_MRP'].min()}\n",
        "Maximum:${sales_csv['Item_MRP'].max().round(2)}\n",
        "Average:${sales_csv['Item_MRP'].mean().round(2)}\n",
        "\"\"\")\n",
        "print(f\"\"\"Item Outlet Sales:\n",
        "Minimum:${sales_csv['Item_Outlet_Sales'].min()}\n",
        "Maximum:${sales_csv['Item_Outlet_Sales'].max().round(2)}\n",
        "Average:${sales_csv['Item_Outlet_Sales'].mean().round(2)}\n",
        "\"\"\")"
      ],
      "metadata": {
        "colab": {
          "base_uri": "https://localhost:8080/"
        },
        "id": "Zvt_FfVt6nU_",
        "outputId": "374f31e0-4b7c-43af-df46-2da134498f0a"
      },
      "execution_count": null,
      "outputs": [
        {
          "output_type": "stream",
          "name": "stdout",
          "text": [
            "Item Visibility:\n",
            "Minimum:0.0\n",
            "Maximum:0.3284\n",
            "Average:0.0661\n",
            "\n",
            "Item MRP:\n",
            "Minimum:$31.29\n",
            "Maximum:$266.89\n",
            "Average:$140.99\n",
            "\n",
            "Item Outlet Sales:\n",
            "Minimum:$33.29\n",
            "Maximum:$13086.96\n",
            "Average:$2181.29\n",
            "\n"
          ]
        }
      ]
    },
    {
      "cell_type": "markdown",
      "source": [
        "### Low Fat vs Regular"
      ],
      "metadata": {
        "id": "YAceDjKLdKVK"
      }
    },
    {
      "cell_type": "markdown",
      "source": [
        "Checking for relationship between fat contents and total sales."
      ],
      "metadata": {
        "id": "oCETb6gA_5hR"
      }
    },
    {
      "cell_type": "code",
      "source": [
        "sns.set(style='darkgrid')\n",
        "fat = sns.displot(data=sales_csv, x='Item_Outlet_Sales', col='Item_Fat_Content',\n",
        "                  aspect= 1, height=5, bins=30\n",
        "                  )\n",
        "plt.xticks(ticks=[0, 2000, 4000, 6000, 8000, 10000, 12000], \n",
        "           labels=['0', '$2,000', '$4,000', '$6,000', '$8,000', '$10,000', '$12,000'],\n",
        "           rotation = 45\n",
        "           )\n",
        "plt.yticks(ticks=[0, 500, 1000, 1500, 2000], labels=['0', '500', '1,000', '1,500', '2,000'])\n",
        "fat.set_axis_labels('Total Outlet Sales')\n",
        "fat.set_titles(\"{col_name}\")"
      ],
      "metadata": {
        "colab": {
          "base_uri": "https://localhost:8080/",
          "height": 411
        },
        "id": "h9g5-yI1QcvU",
        "outputId": "aa2683fe-8e64-46ac-bc3b-f5a4294c8609"
      },
      "execution_count": null,
      "outputs": [
        {
          "output_type": "execute_result",
          "data": {
            "text/plain": [
              "<seaborn.axisgrid.FacetGrid at 0x7f814ba37890>"
            ]
          },
          "metadata": {},
          "execution_count": 146
        },
        {
          "output_type": "display_data",
          "data": {
            "text/plain": [
              "<Figure size 720x360 with 2 Axes>"
            ],
            "image/png": "[encoded data removed]"
          },
          "metadata": {}
        }
      ]
    },
    {
      "cell_type": "code",
      "source": [
        "sns.boxplot(data=sales_csv, x='Item_Fat_Content', y='Item_Outlet_Sales')\n",
        "plt.xlabel('Fat Content')\n",
        "plt.ylabel('Total Sales')\n",
        "plt.yticks(ticks=[0, 3000, 6000, 9000, 12000], labels=['0', '$3,000', '$6,000', '$9,000', '$12,000'])\n",
        "plt.show()"
      ],
      "metadata": {
        "colab": {
          "base_uri": "https://localhost:8080/",
          "height": 285
        },
        "id": "5yGPayAwrMDT",
        "outputId": "c69c4d9f-75e9-445d-c373-946d745f987f"
      },
      "execution_count": null,
      "outputs": [
        {
          "output_type": "display_data",
          "data": {
            "text/plain": [
              "<Figure size 432x288 with 1 Axes>"
            ],
            "image/png": "[encoded data removed]"
          },
          "metadata": {}
        }
      ]
    },
    {
      "cell_type": "code",
      "source": [
        "sns.histplot(data=sales_csv, x='Item_Fat_Content')\n",
        "\n",
        "plt.title('Count of Low Fat/Reg Items', fontsize=15)\n",
        "plt.xlabel('')\n",
        "plt.yticks(ticks=[0, 1000, 3000, 5000], labels=['0', '1,000', '3,000', '5,000'])\n",
        "plt.show()\n",
        "sales_csv.groupby('Item_Fat_Content')[['Item_Outlet_Sales']].sum().round(2)\n"
      ],
      "metadata": {
        "colab": {
          "base_uri": "https://localhost:8080/",
          "height": 412
        },
        "id": "uy23EoAgiQQh",
        "outputId": "767dc147-d383-48a0-a86d-bd0cb42e659f"
      },
      "execution_count": 156,
      "outputs": [
        {
          "output_type": "display_data",
          "data": {
            "text/plain": [
              "<Figure size 432x288 with 1 Axes>"
            ],
            "image/png": "[encoded data removed]"
          },
          "metadata": {}
        },
        {
          "output_type": "execute_result",
          "data": {
            "text/plain": [
              "                  Item_Outlet_Sales\n",
              "Item_Fat_Content                   \n",
              "Low Fat                 11904094.53\n",
              "Regular                  6687030.88"
            ],
            "text/html": [
              "\n",
              "  <div id=\"df-cc37ffe7-2822-4805-83a0-f9ff7be9dd5c\">\n",
              "    <div class=\"colab-df-container\">\n",
              "      <div>\n",
              "<style scoped>\n",
              "    .dataframe tbody tr th:only-of-type {\n",
              "        vertical-align: middle;\n",
              "    }\n",
              "\n",
              "    .dataframe tbody tr th {\n",
              "        vertical-align: top;\n",
              "    }\n",
              "\n",
              "    .dataframe thead th {\n",
              "        text-align: right;\n",
              "    }\n",
              "</style>\n",
              "<table border=\"1\" class=\"dataframe\">\n",
              "  <thead>\n",
              "    <tr style=\"text-align: right;\">\n",
              "      <th></th>\n",
              "      <th>Item_Outlet_Sales</th>\n",
              "    </tr>\n",
              "    <tr>\n",
              "      <th>Item_Fat_Content</th>\n",
              "      <th></th>\n",
              "    </tr>\n",
              "  </thead>\n",
              "  <tbody>\n",
              "    <tr>\n",
              "      <th>Low Fat</th>\n",
              "      <td>11904094.53</td>\n",
              "    </tr>\n",
              "    <tr>\n",
              "      <th>Regular</th>\n",
              "      <td>6687030.88</td>\n",
              "    </tr>\n",
              "  </tbody>\n",
              "</table>\n",
              "</div>\n",
              "      <button class=\"colab-df-convert\" onclick=\"convertToInteractive('df-cc37ffe7-2822-4805-83a0-f9ff7be9dd5c')\"\n",
              "              title=\"Convert this dataframe to an interactive table.\"\n",
              "              style=\"display:none;\">\n",
              "        \n",
              "  <svg xmlns=\"http://www.w3.org/2000/svg\" height=\"24px\"viewBox=\"0 0 24 24\"\n",
              "       width=\"24px\">\n",
              "    <path d=\"M0 0h24v24H0V0z\" fill=\"none\"/>\n",
              "    <path d=\"M18.56 5.44l.94 2.06.94-2.06 2.06-.94-2.06-.94-.94-2.06-.94 2.06-2.06.94zm-11 1L8.5 8.5l.94-2.06 2.06-.94-2.06-.94L8.5 2.5l-.94 2.06-2.06.94zm10 10l.94 2.06.94-2.06 2.06-.94-2.06-.94-.94-2.06-.94 2.06-2.06.94z\"/><path d=\"M17.41 7.96l-1.37-1.37c-.4-.4-.92-.59-1.43-.59-.52 0-1.04.2-1.43.59L10.3 9.45l-7.72 7.72c-.78.78-.78 2.05 0 2.83L4 21.41c.39.39.9.59 1.41.59.51 0 1.02-.2 1.41-.59l7.78-7.78 2.81-2.81c.8-.78.8-2.07 0-2.86zM5.41 20L4 18.59l7.72-7.72 1.47 1.35L5.41 20z\"/>\n",
              "  </svg>\n",
              "      </button>\n",
              "      \n",
              "  <style>\n",
              "    .colab-df-container {\n",
              "      display:flex;\n",
              "      flex-wrap:wrap;\n",
              "      gap: 12px;\n",
              "    }\n",
              "\n",
              "    .colab-df-convert {\n",
              "      background-color: #E8F0FE;\n",
              "      border: none;\n",
              "      border-radius: 50%;\n",
              "      cursor: pointer;\n",
              "      display: none;\n",
              "      fill: #1967D2;\n",
              "      height: 32px;\n",
              "      padding: 0 0 0 0;\n",
              "      width: 32px;\n",
              "    }\n",
              "\n",
              "    .colab-df-convert:hover {\n",
              "      background-color: #E2EBFA;\n",
              "      box-shadow: 0px 1px 2px rgba(60, 64, 67, 0.3), 0px 1px 3px 1px rgba(60, 64, 67, 0.15);\n",
              "      fill: #174EA6;\n",
              "    }\n",
              "\n",
              "    [theme=dark] .colab-df-convert {\n",
              "      background-color: #3B4455;\n",
              "      fill: #D2E3FC;\n",
              "    }\n",
              "\n",
              "    [theme=dark] .colab-df-convert:hover {\n",
              "      background-color: #434B5C;\n",
              "      box-shadow: 0px 1px 3px 1px rgba(0, 0, 0, 0.15);\n",
              "      filter: drop-shadow(0px 1px 2px rgba(0, 0, 0, 0.3));\n",
              "      fill: #FFFFFF;\n",
              "    }\n",
              "  </style>\n",
              "\n",
              "      <script>\n",
              "        const buttonEl =\n",
              "          document.querySelector('#df-cc37ffe7-2822-4805-83a0-f9ff7be9dd5c button.colab-df-convert');\n",
              "        buttonEl.style.display =\n",
              "          google.colab.kernel.accessAllowed ? 'block' : 'none';\n",
              "\n",
              "        async function convertToInteractive(key) {\n",
              "          const element = document.querySelector('#df-cc37ffe7-2822-4805-83a0-f9ff7be9dd5c');\n",
              "          const dataTable =\n",
              "            await google.colab.kernel.invokeFunction('convertToInteractive',\n",
              "                                                     [key], {});\n",
              "          if (!dataTable) return;\n",
              "\n",
              "          const docLinkHtml = 'Like what you see? Visit the ' +\n",
              "            '<a target=\"_blank\" href=https://colab.research.google.com/notebooks/data_table.ipynb>data table notebook</a>'\n",
              "            + ' to learn more about interactive tables.';\n",
              "          element.innerHTML = '';\n",
              "          dataTable['output_type'] = 'display_data';\n",
              "          await google.colab.output.renderOutput(dataTable, element);\n",
              "          const docLink = document.createElement('div');\n",
              "          docLink.innerHTML = docLinkHtml;\n",
              "          element.appendChild(docLink);\n",
              "        }\n",
              "      </script>\n",
              "    </div>\n",
              "  </div>\n",
              "  "
            ]
          },
          "metadata": {},
          "execution_count": 156
        }
      ]
    },
    {
      "cell_type": "markdown",
      "source": [
        "We have more Low Fat items than Regular items.\n",
        "\n",
        "As well as a summary of total sales:\n",
        "- Low Fat: ~11.9 million in total sales\n",
        "- Regular: ~6.68 million in total sales\n"
      ],
      "metadata": {
        "id": "E5Jj54J5nP71"
      }
    },
    {
      "cell_type": "markdown",
      "source": [
        "We can believe the push to have more Low Fat items available is working to increase sales as the population across all our outlets consistently purchase the Low Fat items we offer.\n",
        "\n",
        "While there is still some interest in items with higher fat content, so we shouldn't completely stop providing these. Providing a large variety of low-fat food items should at least maintain if not increase sales moving forward."
      ],
      "metadata": {
        "id": "5JDCeLHupXI4"
      }
    },
    {
      "cell_type": "markdown",
      "source": [
        "MRP vs Total Sales"
      ],
      "metadata": {
        "id": "rG2TwUDT-fJm"
      }
    },
    {
      "cell_type": "markdown",
      "source": [
        "Checking for relationship with price of item and total sales"
      ],
      "metadata": {
        "id": "1E-ywXyh__id"
      }
    },
    {
      "cell_type": "code",
      "source": [
        "sns.set(style='darkgrid')\n",
        "sns.scatterplot(data=sales_csv, x='Item_MRP', y='Item_Outlet_Sales'\n",
        "                  )\n",
        "plt.xlabel('MRP')\n",
        "plt.ylabel('Outlet Sales')\n",
        "plt.yticks(ticks = [0, 3000, 6000, 9000, 12000], labels = ['$0', '$3,000', '$6,000', '$9,000', '$12,000'])\n",
        "plt.xticks(ticks = [0, 50, 100, 150, 200, 250], labels = ['$0', '$50', '$100', '$150', '$200', '$250'])\n",
        "plt.show()"
      ],
      "metadata": {
        "colab": {
          "base_uri": "https://localhost:8080/",
          "height": 285
        },
        "id": "ceESWAPl-iPn",
        "outputId": "d5b40d1b-2957-4ba5-8663-284be2636eb5"
      },
      "execution_count": 185,
      "outputs": [
        {
          "output_type": "display_data",
          "data": {
            "text/plain": [
              "<Figure size 432x288 with 1 Axes>"
            ],
            "image/png": "[encoded data removed]"
          },
          "metadata": {}
        }
      ]
    },
    {
      "cell_type": "markdown",
      "source": [
        "The higher the MRP the higher the total outlet sales.\n",
        "\n",
        "Positive correlation: the more expensive something can be sold for, the more it will sell."
      ],
      "metadata": {
        "id": "gwvjINBFBqv9"
      }
    },
    {
      "cell_type": "markdown",
      "source": [
        "### Outlet Type and Total Sales"
      ],
      "metadata": {
        "id": "C3fhPej6EqRN"
      }
    },
    {
      "cell_type": "code",
      "source": [
        "sns.set(style='darkgrid')\n",
        "size = sns.displot(data=sales_csv, x='Item_Outlet_Sales', col='Outlet_Size',\n",
        "                  aspect= 1, height=5\n",
        "                  )\n",
        "size.set_titles(\"{col_name}\")\n",
        "size.set_axis_labels('Outlet Item Sales')\n",
        "plt.xticks(ticks = [0, 2000, 4000, 6000, 8000, 10000],\n",
        "           labels = ['$0', '$2,000', '$4,000', '$6,000', '$8,000', '$10,000'],\n",
        "           rotation = 40\n",
        "           )\n",
        "plt.show()"
      ],
      "metadata": {
        "colab": {
          "base_uri": "https://localhost:8080/",
          "height": 392
        },
        "id": "kNWzKw0WExgC",
        "outputId": "81e6e8cc-3c04-4cdc-e0ff-9310ab08d8c0"
      },
      "execution_count": 204,
      "outputs": [
        {
          "output_type": "display_data",
          "data": {
            "text/plain": [
              "<Figure size 1080x360 with 3 Axes>"
            ],
            "image/png": "[encoded data removed]"
          },
          "metadata": {}
        }
      ]
    }
  ]
}